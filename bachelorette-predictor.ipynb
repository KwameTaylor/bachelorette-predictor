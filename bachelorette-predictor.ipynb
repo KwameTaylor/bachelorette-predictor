{
 "cells": [
  {
   "cell_type": "markdown",
   "metadata": {},
   "source": [
    "# The Bachelorette Predictor\n",
    "### Kwame V. Taylor\n",
    "\n",
    "The goal of this project is to create a machine learning model that accurately predicts how many weeks a contestant will last on the ABC reality show The Bachelorette, based on data from Seasons 1-2 and 4-12.\n",
    "\n",
    "**Warning: This project contains *many* spoilers for past seasons.** Proceed at your own risk.\n",
    "\n",
    "<img src=\"https://miro.medium.com/max/1280/1*S6OS8YFJWx0LT9wXNi0LkQ.png\">"
   ]
  },
  {
   "cell_type": "markdown",
   "metadata": {},
   "source": [
    "## Set up Environment"
   ]
  },
  {
   "cell_type": "code",
   "execution_count": 1,
   "metadata": {},
   "outputs": [],
   "source": [
    "import numpy as np\n",
    "import pandas as pd\n",
    "\n",
    "import matplotlib.pyplot as plt\n",
    "#plt.style.use('ggplot')\n",
    "import matplotlib as mpl\n",
    "\n",
    "from cycler import cycler\n",
    "import seaborn as sns\n",
    "\n",
    "# default viz size settings\n",
    "plt.rc('figure', figsize=(12, 8))\n",
    "plt.rc('font', size=15)\n",
    "mpl.rcParams['lines.linewidth'] = 2\n",
    "mpl.rcParams['lines.linestyle'] = '--'\n",
    "mpl.rcParams['axes.prop_cycle'] = cycler(color=['deepskyblue', 'firebrick', 'darkseagreen', 'violet'])\n",
    "\n",
    "import warnings\n",
    "warnings.filterwarnings(\"ignore\")"
   ]
  },
  {
   "cell_type": "code",
   "execution_count": 2,
   "metadata": {},
   "outputs": [],
   "source": [
    "from wrangle import acquire_data, join_dfs, drop_extra_cols\n",
    "from preprocessing import handle_dates_and_elims, train_validate_test, parse_hometowns\n",
    "from explore import make_heatmap, firstdate_swarmplot, swarmplot_by_season, pearsons_test\n",
    "from model import model_1, model_2, model_3, model_4, model_1_test, model_4_test, evaluate_baseline"
   ]
  },
  {
   "cell_type": "markdown",
   "metadata": {},
   "source": [
    "## Acquire & Prepare (Wrangle) the Data"
   ]
  },
  {
   "cell_type": "markdown",
   "metadata": {},
   "source": [
    "Import raw datasets."
   ]
  },
  {
   "cell_type": "code",
   "execution_count": 3,
   "metadata": {},
   "outputs": [],
   "source": [
    "df, join = acquire_data()"
   ]
  },
  {
   "cell_type": "code",
   "execution_count": 4,
   "metadata": {},
   "outputs": [
    {
     "data": {
      "text/html": [
       "<div>\n",
       "<style scoped>\n",
       "    .dataframe tbody tr th:only-of-type {\n",
       "        vertical-align: middle;\n",
       "    }\n",
       "\n",
       "    .dataframe tbody tr th {\n",
       "        vertical-align: top;\n",
       "    }\n",
       "\n",
       "    .dataframe thead th {\n",
       "        text-align: right;\n",
       "    }\n",
       "</style>\n",
       "<table border=\"1\" class=\"dataframe\">\n",
       "  <thead>\n",
       "    <tr style=\"text-align: right;\">\n",
       "      <th></th>\n",
       "      <th>Name</th>\n",
       "      <th>Age</th>\n",
       "      <th>Occupation</th>\n",
       "      <th>Hometown</th>\n",
       "      <th>ElimWeek</th>\n",
       "      <th>Season</th>\n",
       "    </tr>\n",
       "  </thead>\n",
       "  <tbody>\n",
       "    <tr>\n",
       "      <th>0</th>\n",
       "      <td>Ryan Sutter</td>\n",
       "      <td>29</td>\n",
       "      <td>Firefighter</td>\n",
       "      <td>Vail, Colorado</td>\n",
       "      <td>NaN</td>\n",
       "      <td>1</td>\n",
       "    </tr>\n",
       "    <tr>\n",
       "      <th>1</th>\n",
       "      <td>Charlie Maher</td>\n",
       "      <td>28</td>\n",
       "      <td>Financial Analyst</td>\n",
       "      <td>Hermosa Beach, California</td>\n",
       "      <td>6.0</td>\n",
       "      <td>1</td>\n",
       "    </tr>\n",
       "    <tr>\n",
       "      <th>2</th>\n",
       "      <td>Russ</td>\n",
       "      <td>30</td>\n",
       "      <td>Writer</td>\n",
       "      <td>San Rafael, California</td>\n",
       "      <td>5.0</td>\n",
       "      <td>1</td>\n",
       "    </tr>\n",
       "  </tbody>\n",
       "</table>\n",
       "</div>"
      ],
      "text/plain": [
       "            Name  Age         Occupation                   Hometown  ElimWeek  \\\n",
       "0    Ryan Sutter   29        Firefighter             Vail, Colorado       NaN   \n",
       "1  Charlie Maher   28  Financial Analyst  Hermosa Beach, California       6.0   \n",
       "2           Russ   30             Writer     San Rafael, California       5.0   \n",
       "\n",
       "   Season  \n",
       "0       1  \n",
       "1       1  \n",
       "2       1  "
      ]
     },
     "execution_count": 4,
     "metadata": {},
     "output_type": "execute_result"
    }
   ],
   "source": [
    "df.head(3)"
   ]
  },
  {
   "cell_type": "code",
   "execution_count": 5,
   "metadata": {},
   "outputs": [
    {
     "data": {
      "text/html": [
       "<div>\n",
       "<style scoped>\n",
       "    .dataframe tbody tr th:only-of-type {\n",
       "        vertical-align: middle;\n",
       "    }\n",
       "\n",
       "    .dataframe tbody tr th {\n",
       "        vertical-align: top;\n",
       "    }\n",
       "\n",
       "    .dataframe thead th {\n",
       "        text-align: right;\n",
       "    }\n",
       "</style>\n",
       "<table border=\"1\" class=\"dataframe\">\n",
       "  <thead>\n",
       "    <tr style=\"text-align: right;\">\n",
       "      <th></th>\n",
       "      <th>SEASON</th>\n",
       "      <th>CONTESTANT</th>\n",
       "      <th>ELIMINATION-1</th>\n",
       "      <th>ELIMINATION-2</th>\n",
       "      <th>ELIMINATION-3</th>\n",
       "      <th>ELIMINATION-4</th>\n",
       "      <th>ELIMINATION-5</th>\n",
       "      <th>ELIMINATION-6</th>\n",
       "      <th>ELIMINATION-7</th>\n",
       "      <th>ELIMINATION-8</th>\n",
       "      <th>...</th>\n",
       "      <th>DATES-1</th>\n",
       "      <th>DATES-2</th>\n",
       "      <th>DATES-3</th>\n",
       "      <th>DATES-4</th>\n",
       "      <th>DATES-5</th>\n",
       "      <th>DATES-6</th>\n",
       "      <th>DATES-7</th>\n",
       "      <th>DATES-8</th>\n",
       "      <th>DATES-9</th>\n",
       "      <th>DATES-10</th>\n",
       "    </tr>\n",
       "  </thead>\n",
       "  <tbody>\n",
       "    <tr>\n",
       "      <th>281</th>\n",
       "      <td>1</td>\n",
       "      <td>01_WAYNE_X</td>\n",
       "      <td>E</td>\n",
       "      <td>NaN</td>\n",
       "      <td>NaN</td>\n",
       "      <td>NaN</td>\n",
       "      <td>NaN</td>\n",
       "      <td>NaN</td>\n",
       "      <td>NaN</td>\n",
       "      <td>NaN</td>\n",
       "      <td>...</td>\n",
       "      <td>NaN</td>\n",
       "      <td>NaN</td>\n",
       "      <td>NaN</td>\n",
       "      <td>NaN</td>\n",
       "      <td>NaN</td>\n",
       "      <td>NaN</td>\n",
       "      <td>NaN</td>\n",
       "      <td>NaN</td>\n",
       "      <td>NaN</td>\n",
       "      <td>NaN</td>\n",
       "    </tr>\n",
       "    <tr>\n",
       "      <th>257</th>\n",
       "      <td>1</td>\n",
       "      <td>01_RYAN_S</td>\n",
       "      <td>NaN</td>\n",
       "      <td>NaN</td>\n",
       "      <td>NaN</td>\n",
       "      <td>NaN</td>\n",
       "      <td>NaN</td>\n",
       "      <td>W</td>\n",
       "      <td>NaN</td>\n",
       "      <td>NaN</td>\n",
       "      <td>...</td>\n",
       "      <td>NaN</td>\n",
       "      <td>D14</td>\n",
       "      <td>D1</td>\n",
       "      <td>D1</td>\n",
       "      <td>D1</td>\n",
       "      <td>D1</td>\n",
       "      <td>NaN</td>\n",
       "      <td>NaN</td>\n",
       "      <td>NaN</td>\n",
       "      <td>NaN</td>\n",
       "    </tr>\n",
       "    <tr>\n",
       "      <th>258</th>\n",
       "      <td>1</td>\n",
       "      <td>01_CHARLIE_M</td>\n",
       "      <td>NaN</td>\n",
       "      <td>NaN</td>\n",
       "      <td>NaN</td>\n",
       "      <td>NaN</td>\n",
       "      <td>NaN</td>\n",
       "      <td>E</td>\n",
       "      <td>NaN</td>\n",
       "      <td>NaN</td>\n",
       "      <td>...</td>\n",
       "      <td>NaN</td>\n",
       "      <td>D14</td>\n",
       "      <td>D1</td>\n",
       "      <td>D1</td>\n",
       "      <td>D1</td>\n",
       "      <td>D1</td>\n",
       "      <td>NaN</td>\n",
       "      <td>NaN</td>\n",
       "      <td>NaN</td>\n",
       "      <td>NaN</td>\n",
       "    </tr>\n",
       "  </tbody>\n",
       "</table>\n",
       "<p>3 rows × 22 columns</p>\n",
       "</div>"
      ],
      "text/plain": [
       "     SEASON    CONTESTANT ELIMINATION-1 ELIMINATION-2 ELIMINATION-3  \\\n",
       "281       1    01_WAYNE_X             E           NaN           NaN   \n",
       "257       1     01_RYAN_S           NaN           NaN           NaN   \n",
       "258       1  01_CHARLIE_M           NaN           NaN           NaN   \n",
       "\n",
       "    ELIMINATION-4 ELIMINATION-5 ELIMINATION-6 ELIMINATION-7 ELIMINATION-8  \\\n",
       "281           NaN           NaN           NaN           NaN           NaN   \n",
       "257           NaN           NaN             W           NaN           NaN   \n",
       "258           NaN           NaN             E           NaN           NaN   \n",
       "\n",
       "     ... DATES-1 DATES-2  DATES-3 DATES-4 DATES-5 DATES-6 DATES-7 DATES-8  \\\n",
       "281  ...     NaN     NaN      NaN     NaN     NaN     NaN     NaN     NaN   \n",
       "257  ...     NaN     D14       D1      D1      D1      D1     NaN     NaN   \n",
       "258  ...     NaN     D14       D1      D1      D1      D1     NaN     NaN   \n",
       "\n",
       "    DATES-9 DATES-10  \n",
       "281     NaN      NaN  \n",
       "257     NaN      NaN  \n",
       "258     NaN      NaN  \n",
       "\n",
       "[3 rows x 22 columns]"
      ]
     },
     "execution_count": 5,
     "metadata": {},
     "output_type": "execute_result"
    }
   ],
   "source": [
    "join.sort_values(by='SEASON').head(3)"
   ]
  },
  {
   "cell_type": "markdown",
   "metadata": {},
   "source": [
    "How to read the ```join``` DataFrame:\n",
    "\n",
    "Feature         | Description\n",
    "----------------|------------\n",
    "`ELIMINATION-1` | Who was eliminated in week 1\n",
    "`ELIMINATION-2` | Who was eliminated in week 2\n",
    "`ELIMINATION-3` | Who was eliminated in week 3\n",
    "`ELIMINATION-4` | Who was eliminated in week 4\n",
    "`ELIMINATION-5` | Who was eliminated in week 5\n",
    "`ELIMINATION-6` | Who was eliminated in week 6\n",
    "`ELIMINATION-7` | Who was eliminated in week 7\n",
    "`ELIMINATION-8` | Who was eliminated in week 8\n",
    "`ELIMINATION-9` | Who was eliminated in week 9\n",
    "`ELIMINATION-10`| Who was eliminated in week 10\n",
    "`DATES-1`       | Who was on which date in week 1\n",
    "`DATES-2`       | Who was on which date in week 2\n",
    "`DATES-3`       | Who was on which date in week 3\n",
    "`DATES-4`       | Who was on which date in week 4\n",
    "`DATES-5`       | Who was on which date in week 5\n",
    "`DATES-6`       | Who was on which date in week 6\n",
    "`DATES-7`       | Who was on which date in week 7\n",
    "`DATES-8`       | Who was on which date in week 8\n",
    "`DATES-9`       | Who was on which date in week 9\n",
    "`DATES-10`      | Who was on which date in week 10\n",
    "\n",
    "- Eliminates connote either an elimination (starts with \"E\") or a rose (starts with \"R\").\n",
    "- Eliminations supercede roses.\n",
    "- \"E\" connotes a standard elimination, typically at a rose ceremony. \"EQ\" means the contestant quits. \"EF\" means the contestant was fired by production. \"ED\" connotes a date elimination. \"EU\" connotes an unscheduled elimination, one that takes place at a time outside of a date or rose ceremony.\n",
    "- \"R\" means the contestant received a rose. \"R1\" means the contestant got a first impression rose.\n",
    "- \"D1\" means a one-on-one date, \"D2\" means a 2-on-1, \"D3\" means a 3-on-1 group date, and so on.\n",
    "- Weeks of the show are deliminated by rose ceremonies, and may not line up exactly with episodes."
   ]
  },
  {
   "cell_type": "markdown",
   "metadata": {},
   "source": [
    "Now I'll join the two dataframes."
   ]
  },
  {
   "cell_type": "code",
   "execution_count": 6,
   "metadata": {},
   "outputs": [],
   "source": [
    "df = join_dfs(df, join)"
   ]
  },
  {
   "cell_type": "code",
   "execution_count": 7,
   "metadata": {},
   "outputs": [
    {
     "data": {
      "text/html": [
       "<div>\n",
       "<style scoped>\n",
       "    .dataframe tbody tr th:only-of-type {\n",
       "        vertical-align: middle;\n",
       "    }\n",
       "\n",
       "    .dataframe tbody tr th {\n",
       "        vertical-align: top;\n",
       "    }\n",
       "\n",
       "    .dataframe thead th {\n",
       "        text-align: right;\n",
       "    }\n",
       "</style>\n",
       "<table border=\"1\" class=\"dataframe\">\n",
       "  <thead>\n",
       "    <tr style=\"text-align: right;\">\n",
       "      <th></th>\n",
       "      <th>Name</th>\n",
       "      <th>Age</th>\n",
       "      <th>Occupation</th>\n",
       "      <th>Hometown</th>\n",
       "      <th>ElimWeek</th>\n",
       "      <th>Season</th>\n",
       "      <th>ELIMINATION-1</th>\n",
       "      <th>ELIMINATION-2</th>\n",
       "      <th>ELIMINATION-3</th>\n",
       "      <th>ELIMINATION-4</th>\n",
       "      <th>...</th>\n",
       "      <th>DATES-1</th>\n",
       "      <th>DATES-2</th>\n",
       "      <th>DATES-3</th>\n",
       "      <th>DATES-4</th>\n",
       "      <th>DATES-5</th>\n",
       "      <th>DATES-6</th>\n",
       "      <th>DATES-7</th>\n",
       "      <th>DATES-8</th>\n",
       "      <th>DATES-9</th>\n",
       "      <th>DATES-10</th>\n",
       "    </tr>\n",
       "    <tr>\n",
       "      <th>CONTESTANT</th>\n",
       "      <th></th>\n",
       "      <th></th>\n",
       "      <th></th>\n",
       "      <th></th>\n",
       "      <th></th>\n",
       "      <th></th>\n",
       "      <th></th>\n",
       "      <th></th>\n",
       "      <th></th>\n",
       "      <th></th>\n",
       "      <th></th>\n",
       "      <th></th>\n",
       "      <th></th>\n",
       "      <th></th>\n",
       "      <th></th>\n",
       "      <th></th>\n",
       "      <th></th>\n",
       "      <th></th>\n",
       "      <th></th>\n",
       "      <th></th>\n",
       "      <th></th>\n",
       "    </tr>\n",
       "  </thead>\n",
       "  <tbody>\n",
       "    <tr>\n",
       "      <th>1_RYAN_S</th>\n",
       "      <td>Ryan Sutter</td>\n",
       "      <td>29</td>\n",
       "      <td>Firefighter</td>\n",
       "      <td>Vail, Colorado</td>\n",
       "      <td>NaN</td>\n",
       "      <td>1</td>\n",
       "      <td>NaN</td>\n",
       "      <td>NaN</td>\n",
       "      <td>NaN</td>\n",
       "      <td>NaN</td>\n",
       "      <td>...</td>\n",
       "      <td>NaN</td>\n",
       "      <td>D14</td>\n",
       "      <td>D1</td>\n",
       "      <td>D1</td>\n",
       "      <td>D1</td>\n",
       "      <td>D1</td>\n",
       "      <td>NaN</td>\n",
       "      <td>NaN</td>\n",
       "      <td>NaN</td>\n",
       "      <td>NaN</td>\n",
       "    </tr>\n",
       "    <tr>\n",
       "      <th>1_CHARLIE_M</th>\n",
       "      <td>Charlie Maher</td>\n",
       "      <td>28</td>\n",
       "      <td>Financial Analyst</td>\n",
       "      <td>Hermosa Beach, California</td>\n",
       "      <td>6.0</td>\n",
       "      <td>1</td>\n",
       "      <td>NaN</td>\n",
       "      <td>NaN</td>\n",
       "      <td>NaN</td>\n",
       "      <td>NaN</td>\n",
       "      <td>...</td>\n",
       "      <td>NaN</td>\n",
       "      <td>D14</td>\n",
       "      <td>D1</td>\n",
       "      <td>D1</td>\n",
       "      <td>D1</td>\n",
       "      <td>D1</td>\n",
       "      <td>NaN</td>\n",
       "      <td>NaN</td>\n",
       "      <td>NaN</td>\n",
       "      <td>NaN</td>\n",
       "    </tr>\n",
       "    <tr>\n",
       "      <th>1_RUSS_X</th>\n",
       "      <td>Russ</td>\n",
       "      <td>30</td>\n",
       "      <td>Writer</td>\n",
       "      <td>San Rafael, California</td>\n",
       "      <td>5.0</td>\n",
       "      <td>1</td>\n",
       "      <td>NaN</td>\n",
       "      <td>NaN</td>\n",
       "      <td>NaN</td>\n",
       "      <td>NaN</td>\n",
       "      <td>...</td>\n",
       "      <td>NaN</td>\n",
       "      <td>D14</td>\n",
       "      <td>D1</td>\n",
       "      <td>D1</td>\n",
       "      <td>D1</td>\n",
       "      <td>NaN</td>\n",
       "      <td>NaN</td>\n",
       "      <td>NaN</td>\n",
       "      <td>NaN</td>\n",
       "      <td>NaN</td>\n",
       "    </tr>\n",
       "  </tbody>\n",
       "</table>\n",
       "<p>3 rows × 26 columns</p>\n",
       "</div>"
      ],
      "text/plain": [
       "                      Name  Age         Occupation                   Hometown  \\\n",
       "CONTESTANT                                                                      \n",
       "1_RYAN_S       Ryan Sutter   29        Firefighter             Vail, Colorado   \n",
       "1_CHARLIE_M  Charlie Maher   28  Financial Analyst  Hermosa Beach, California   \n",
       "1_RUSS_X              Russ   30             Writer     San Rafael, California   \n",
       "\n",
       "             ElimWeek  Season ELIMINATION-1 ELIMINATION-2 ELIMINATION-3  \\\n",
       "CONTESTANT                                                                \n",
       "1_RYAN_S          NaN       1           NaN           NaN           NaN   \n",
       "1_CHARLIE_M       6.0       1           NaN           NaN           NaN   \n",
       "1_RUSS_X          5.0       1           NaN           NaN           NaN   \n",
       "\n",
       "            ELIMINATION-4  ... DATES-1 DATES-2 DATES-3 DATES-4 DATES-5  \\\n",
       "CONTESTANT                 ...                                           \n",
       "1_RYAN_S              NaN  ...     NaN     D14      D1      D1      D1   \n",
       "1_CHARLIE_M           NaN  ...     NaN     D14      D1      D1      D1   \n",
       "1_RUSS_X              NaN  ...     NaN     D14      D1      D1      D1   \n",
       "\n",
       "            DATES-6  DATES-7 DATES-8 DATES-9 DATES-10  \n",
       "CONTESTANT                                             \n",
       "1_RYAN_S         D1      NaN     NaN     NaN      NaN  \n",
       "1_CHARLIE_M      D1      NaN     NaN     NaN      NaN  \n",
       "1_RUSS_X        NaN      NaN     NaN     NaN      NaN  \n",
       "\n",
       "[3 rows x 26 columns]"
      ]
     },
     "execution_count": 7,
     "metadata": {},
     "output_type": "execute_result"
    }
   ],
   "source": [
    "df.head(3)"
   ]
  },
  {
   "cell_type": "code",
   "execution_count": 8,
   "metadata": {},
   "outputs": [
    {
     "data": {
      "text/html": [
       "<div>\n",
       "<style scoped>\n",
       "    .dataframe tbody tr th:only-of-type {\n",
       "        vertical-align: middle;\n",
       "    }\n",
       "\n",
       "    .dataframe tbody tr th {\n",
       "        vertical-align: top;\n",
       "    }\n",
       "\n",
       "    .dataframe thead th {\n",
       "        text-align: right;\n",
       "    }\n",
       "</style>\n",
       "<table border=\"1\" class=\"dataframe\">\n",
       "  <thead>\n",
       "    <tr style=\"text-align: right;\">\n",
       "      <th></th>\n",
       "      <th>Name</th>\n",
       "      <th>Age</th>\n",
       "      <th>Occupation</th>\n",
       "      <th>Hometown</th>\n",
       "      <th>ElimWeek</th>\n",
       "      <th>Season</th>\n",
       "      <th>ELIMINATION-1</th>\n",
       "      <th>ELIMINATION-2</th>\n",
       "      <th>ELIMINATION-3</th>\n",
       "      <th>ELIMINATION-4</th>\n",
       "      <th>...</th>\n",
       "      <th>DATES-1</th>\n",
       "      <th>DATES-2</th>\n",
       "      <th>DATES-3</th>\n",
       "      <th>DATES-4</th>\n",
       "      <th>DATES-5</th>\n",
       "      <th>DATES-6</th>\n",
       "      <th>DATES-7</th>\n",
       "      <th>DATES-8</th>\n",
       "      <th>DATES-9</th>\n",
       "      <th>DATES-10</th>\n",
       "    </tr>\n",
       "    <tr>\n",
       "      <th>CONTESTANT</th>\n",
       "      <th></th>\n",
       "      <th></th>\n",
       "      <th></th>\n",
       "      <th></th>\n",
       "      <th></th>\n",
       "      <th></th>\n",
       "      <th></th>\n",
       "      <th></th>\n",
       "      <th></th>\n",
       "      <th></th>\n",
       "      <th></th>\n",
       "      <th></th>\n",
       "      <th></th>\n",
       "      <th></th>\n",
       "      <th></th>\n",
       "      <th></th>\n",
       "      <th></th>\n",
       "      <th></th>\n",
       "      <th></th>\n",
       "      <th></th>\n",
       "      <th></th>\n",
       "    </tr>\n",
       "  </thead>\n",
       "  <tbody>\n",
       "    <tr>\n",
       "      <th>1_RYAN_S</th>\n",
       "      <td>Ryan Sutter</td>\n",
       "      <td>29</td>\n",
       "      <td>Firefighter</td>\n",
       "      <td>Vail, Colorado</td>\n",
       "      <td>NaN</td>\n",
       "      <td>1</td>\n",
       "      <td>NaN</td>\n",
       "      <td>NaN</td>\n",
       "      <td>NaN</td>\n",
       "      <td>NaN</td>\n",
       "      <td>...</td>\n",
       "      <td>NaN</td>\n",
       "      <td>D14</td>\n",
       "      <td>D1</td>\n",
       "      <td>D1</td>\n",
       "      <td>D1</td>\n",
       "      <td>D1</td>\n",
       "      <td>NaN</td>\n",
       "      <td>NaN</td>\n",
       "      <td>NaN</td>\n",
       "      <td>NaN</td>\n",
       "    </tr>\n",
       "    <tr>\n",
       "      <th>1_CHARLIE_M</th>\n",
       "      <td>Charlie Maher</td>\n",
       "      <td>28</td>\n",
       "      <td>Financial Analyst</td>\n",
       "      <td>Hermosa Beach, California</td>\n",
       "      <td>6.0</td>\n",
       "      <td>1</td>\n",
       "      <td>NaN</td>\n",
       "      <td>NaN</td>\n",
       "      <td>NaN</td>\n",
       "      <td>NaN</td>\n",
       "      <td>...</td>\n",
       "      <td>NaN</td>\n",
       "      <td>D14</td>\n",
       "      <td>D1</td>\n",
       "      <td>D1</td>\n",
       "      <td>D1</td>\n",
       "      <td>D1</td>\n",
       "      <td>NaN</td>\n",
       "      <td>NaN</td>\n",
       "      <td>NaN</td>\n",
       "      <td>NaN</td>\n",
       "    </tr>\n",
       "    <tr>\n",
       "      <th>1_RUSS_X</th>\n",
       "      <td>Russ</td>\n",
       "      <td>30</td>\n",
       "      <td>Writer</td>\n",
       "      <td>San Rafael, California</td>\n",
       "      <td>5.0</td>\n",
       "      <td>1</td>\n",
       "      <td>NaN</td>\n",
       "      <td>NaN</td>\n",
       "      <td>NaN</td>\n",
       "      <td>NaN</td>\n",
       "      <td>...</td>\n",
       "      <td>NaN</td>\n",
       "      <td>D14</td>\n",
       "      <td>D1</td>\n",
       "      <td>D1</td>\n",
       "      <td>D1</td>\n",
       "      <td>NaN</td>\n",
       "      <td>NaN</td>\n",
       "      <td>NaN</td>\n",
       "      <td>NaN</td>\n",
       "      <td>NaN</td>\n",
       "    </tr>\n",
       "    <tr>\n",
       "      <th>1_GREG_T</th>\n",
       "      <td>Greg T.</td>\n",
       "      <td>28</td>\n",
       "      <td>Importer</td>\n",
       "      <td>Manhattan, New York</td>\n",
       "      <td>4.0</td>\n",
       "      <td>1</td>\n",
       "      <td>NaN</td>\n",
       "      <td>NaN</td>\n",
       "      <td>NaN</td>\n",
       "      <td>E</td>\n",
       "      <td>...</td>\n",
       "      <td>NaN</td>\n",
       "      <td>D14</td>\n",
       "      <td>D5</td>\n",
       "      <td>D1</td>\n",
       "      <td>NaN</td>\n",
       "      <td>NaN</td>\n",
       "      <td>NaN</td>\n",
       "      <td>NaN</td>\n",
       "      <td>NaN</td>\n",
       "      <td>NaN</td>\n",
       "    </tr>\n",
       "    <tr>\n",
       "      <th>1_BOB_G</th>\n",
       "      <td>Bob Guiney</td>\n",
       "      <td>31</td>\n",
       "      <td>Mortgage Broker</td>\n",
       "      <td>Ferndale, Michigan</td>\n",
       "      <td>3.0</td>\n",
       "      <td>1</td>\n",
       "      <td>NaN</td>\n",
       "      <td>NaN</td>\n",
       "      <td>E</td>\n",
       "      <td>NaN</td>\n",
       "      <td>...</td>\n",
       "      <td>NaN</td>\n",
       "      <td>D14</td>\n",
       "      <td>D5</td>\n",
       "      <td>NaN</td>\n",
       "      <td>NaN</td>\n",
       "      <td>NaN</td>\n",
       "      <td>NaN</td>\n",
       "      <td>NaN</td>\n",
       "      <td>NaN</td>\n",
       "      <td>NaN</td>\n",
       "    </tr>\n",
       "  </tbody>\n",
       "</table>\n",
       "<p>5 rows × 26 columns</p>\n",
       "</div>"
      ],
      "text/plain": [
       "                      Name  Age         Occupation                   Hometown  \\\n",
       "CONTESTANT                                                                      \n",
       "1_RYAN_S       Ryan Sutter   29        Firefighter             Vail, Colorado   \n",
       "1_CHARLIE_M  Charlie Maher   28  Financial Analyst  Hermosa Beach, California   \n",
       "1_RUSS_X              Russ   30             Writer     San Rafael, California   \n",
       "1_GREG_T           Greg T.   28           Importer        Manhattan, New York   \n",
       "1_BOB_G         Bob Guiney   31    Mortgage Broker         Ferndale, Michigan   \n",
       "\n",
       "             ElimWeek  Season ELIMINATION-1 ELIMINATION-2 ELIMINATION-3  \\\n",
       "CONTESTANT                                                                \n",
       "1_RYAN_S          NaN       1           NaN           NaN           NaN   \n",
       "1_CHARLIE_M       6.0       1           NaN           NaN           NaN   \n",
       "1_RUSS_X          5.0       1           NaN           NaN           NaN   \n",
       "1_GREG_T          4.0       1           NaN           NaN           NaN   \n",
       "1_BOB_G           3.0       1           NaN           NaN             E   \n",
       "\n",
       "            ELIMINATION-4  ... DATES-1 DATES-2 DATES-3 DATES-4 DATES-5  \\\n",
       "CONTESTANT                 ...                                           \n",
       "1_RYAN_S              NaN  ...     NaN     D14      D1      D1      D1   \n",
       "1_CHARLIE_M           NaN  ...     NaN     D14      D1      D1      D1   \n",
       "1_RUSS_X              NaN  ...     NaN     D14      D1      D1      D1   \n",
       "1_GREG_T                E  ...     NaN     D14      D5      D1     NaN   \n",
       "1_BOB_G               NaN  ...     NaN     D14      D5     NaN     NaN   \n",
       "\n",
       "            DATES-6  DATES-7 DATES-8 DATES-9 DATES-10  \n",
       "CONTESTANT                                             \n",
       "1_RYAN_S         D1      NaN     NaN     NaN      NaN  \n",
       "1_CHARLIE_M      D1      NaN     NaN     NaN      NaN  \n",
       "1_RUSS_X        NaN      NaN     NaN     NaN      NaN  \n",
       "1_GREG_T        NaN      NaN     NaN     NaN      NaN  \n",
       "1_BOB_G         NaN      NaN     NaN     NaN      NaN  \n",
       "\n",
       "[5 rows x 26 columns]"
      ]
     },
     "execution_count": 8,
     "metadata": {},
     "output_type": "execute_result"
    }
   ],
   "source": [
    "df.head()"
   ]
  },
  {
   "cell_type": "markdown",
   "metadata": {},
   "source": [
    "Drop redundant features and unnecessary features for the project MVP (minimally viable product):\n",
    "* ```ELIMINATION-1```\n",
    "* ```ELIMINATION-2```\n",
    "* ```ELIMINATION-3```\n",
    "* ```ELIMINATION-4```\n",
    "* ```ELIMINATION-5```\n",
    "* ```ELIMINATION-6```\n",
    "* ```ELIMINATION-7```\n",
    "* ```ELIMINATION-8```\n",
    "* ```ELIMINATION-9```\n",
    "* ```ELIMINATION-10```\n",
    "* ```Hometown```\n",
    "* ```Occupation```\n",
    "* ```Name```\n",
    "* ```Season```\n",
    "* ```DATES-1```"
   ]
  },
  {
   "cell_type": "code",
   "execution_count": 9,
   "metadata": {},
   "outputs": [],
   "source": [
    "# drop columns\n",
    "df = drop_extra_cols(df)"
   ]
  },
  {
   "cell_type": "code",
   "execution_count": 10,
   "metadata": {},
   "outputs": [
    {
     "data": {
      "text/html": [
       "<div>\n",
       "<style scoped>\n",
       "    .dataframe tbody tr th:only-of-type {\n",
       "        vertical-align: middle;\n",
       "    }\n",
       "\n",
       "    .dataframe tbody tr th {\n",
       "        vertical-align: top;\n",
       "    }\n",
       "\n",
       "    .dataframe thead th {\n",
       "        text-align: right;\n",
       "    }\n",
       "</style>\n",
       "<table border=\"1\" class=\"dataframe\">\n",
       "  <thead>\n",
       "    <tr style=\"text-align: right;\">\n",
       "      <th></th>\n",
       "      <th>Age</th>\n",
       "      <th>Hometown</th>\n",
       "      <th>ElimWeek</th>\n",
       "      <th>Season</th>\n",
       "      <th>DATES-2</th>\n",
       "      <th>DATES-3</th>\n",
       "      <th>DATES-4</th>\n",
       "      <th>DATES-5</th>\n",
       "      <th>DATES-6</th>\n",
       "      <th>DATES-7</th>\n",
       "      <th>DATES-8</th>\n",
       "      <th>DATES-9</th>\n",
       "      <th>DATES-10</th>\n",
       "    </tr>\n",
       "    <tr>\n",
       "      <th>CONTESTANT</th>\n",
       "      <th></th>\n",
       "      <th></th>\n",
       "      <th></th>\n",
       "      <th></th>\n",
       "      <th></th>\n",
       "      <th></th>\n",
       "      <th></th>\n",
       "      <th></th>\n",
       "      <th></th>\n",
       "      <th></th>\n",
       "      <th></th>\n",
       "      <th></th>\n",
       "      <th></th>\n",
       "    </tr>\n",
       "  </thead>\n",
       "  <tbody>\n",
       "    <tr>\n",
       "      <th>1_RYAN_S</th>\n",
       "      <td>29</td>\n",
       "      <td>Vail, Colorado</td>\n",
       "      <td>NaN</td>\n",
       "      <td>1</td>\n",
       "      <td>D14</td>\n",
       "      <td>D1</td>\n",
       "      <td>D1</td>\n",
       "      <td>D1</td>\n",
       "      <td>D1</td>\n",
       "      <td>NaN</td>\n",
       "      <td>NaN</td>\n",
       "      <td>NaN</td>\n",
       "      <td>NaN</td>\n",
       "    </tr>\n",
       "    <tr>\n",
       "      <th>1_CHARLIE_M</th>\n",
       "      <td>28</td>\n",
       "      <td>Hermosa Beach, California</td>\n",
       "      <td>6.0</td>\n",
       "      <td>1</td>\n",
       "      <td>D14</td>\n",
       "      <td>D1</td>\n",
       "      <td>D1</td>\n",
       "      <td>D1</td>\n",
       "      <td>D1</td>\n",
       "      <td>NaN</td>\n",
       "      <td>NaN</td>\n",
       "      <td>NaN</td>\n",
       "      <td>NaN</td>\n",
       "    </tr>\n",
       "    <tr>\n",
       "      <th>1_RUSS_X</th>\n",
       "      <td>30</td>\n",
       "      <td>San Rafael, California</td>\n",
       "      <td>5.0</td>\n",
       "      <td>1</td>\n",
       "      <td>D14</td>\n",
       "      <td>D1</td>\n",
       "      <td>D1</td>\n",
       "      <td>D1</td>\n",
       "      <td>NaN</td>\n",
       "      <td>NaN</td>\n",
       "      <td>NaN</td>\n",
       "      <td>NaN</td>\n",
       "      <td>NaN</td>\n",
       "    </tr>\n",
       "  </tbody>\n",
       "</table>\n",
       "</div>"
      ],
      "text/plain": [
       "             Age                   Hometown  ElimWeek  Season DATES-2 DATES-3  \\\n",
       "CONTESTANT                                                                      \n",
       "1_RYAN_S      29             Vail, Colorado       NaN       1     D14      D1   \n",
       "1_CHARLIE_M   28  Hermosa Beach, California       6.0       1     D14      D1   \n",
       "1_RUSS_X      30     San Rafael, California       5.0       1     D14      D1   \n",
       "\n",
       "            DATES-4 DATES-5 DATES-6 DATES-7 DATES-8 DATES-9 DATES-10  \n",
       "CONTESTANT                                                            \n",
       "1_RYAN_S         D1      D1      D1     NaN     NaN     NaN      NaN  \n",
       "1_CHARLIE_M      D1      D1      D1     NaN     NaN     NaN      NaN  \n",
       "1_RUSS_X         D1      D1     NaN     NaN     NaN     NaN      NaN  "
      ]
     },
     "execution_count": 10,
     "metadata": {},
     "output_type": "execute_result"
    }
   ],
   "source": [
    "df.head(3)"
   ]
  },
  {
   "cell_type": "code",
   "execution_count": 11,
   "metadata": {},
   "outputs": [
    {
     "data": {
      "text/plain": [
       "Age           0\n",
       "Hometown      0\n",
       "ElimWeek      9\n",
       "Season        0\n",
       "DATES-2     109\n",
       "DATES-3     135\n",
       "DATES-4     159\n",
       "DATES-5     174\n",
       "DATES-6     198\n",
       "DATES-7     215\n",
       "DATES-8     232\n",
       "DATES-9     244\n",
       "DATES-10    253\n",
       "dtype: int64"
      ]
     },
     "execution_count": 11,
     "metadata": {},
     "output_type": "execute_result"
    }
   ],
   "source": [
    "# Check for null/NaN values\n",
    "df.isna().sum()"
   ]
  },
  {
   "cell_type": "markdown",
   "metadata": {},
   "source": [
    "## Preprocessing"
   ]
  },
  {
   "cell_type": "markdown",
   "metadata": {},
   "source": [
    "### Encoding, Imputing Nulls, and Feature Engineering with ```DATES``` and ```ELIMINATION```\n",
    "\n",
    "* **NaNs in ```ElimWeek``` mean that that contestant won their season. I encoded this as 11.0**, representing that the contestants lasted until/past the end of their season (as Week 10 is the last week).\n",
    "    * The choice to make winning contests have an ```ElimWeek``` of 11 may cause slightly lower One-on-One scores for winning contests because the dividing value (that I'm using to average the amount of One-on-One time per week) is ```ElimWeek```, yet there are no dates in the 11th week. I will compensate for this in a future iteration.\n",
    "    * This calculation also does not account for seasons ending early/a contestant getting a win before Week 10. I will address this in a future iteration as well.\n",
    "\n",
    "\n",
    "* **I dropped ```ELIMINATION``` features** because the presence of values there has a direct relationship with how many weeks a contestant lasts.\n",
    "    * However, I may engineer features out of these columns, such as ```ReceivedFirstImpressionRose``` that don't have a direct correlation to how many weeks a contestant stays.\n",
    "\n",
    "\n",
    "* **To quantify a constestant's ```OneonOneScore``` per week, each week's dates are represented by a float** that is equal to ```1``` divided by the ```number of people on the date``` per each date.\n",
    "    * My reasoning behind this is that, anecdotally speaking, the fewer other people present on a date, the more that that date can affect the standing of a contestant on the date.\n",
    "    * Therefore, the highest date value a contestant can have is if the value is 1, meaning they went on a date that week, and they went on that date as a One-on-One (a highly coveted type of date in the world of The Bachelorette).\n",
    "    \n",
    "* A contestant's **overall, or average, ```OneonOneScore```** for their entire time on the show is quantified by summing a contestant's weekly ```OneonOneScore```s and then dividing them by the number of weeks they were on the show.\n",
    "    * The overall score will only be used in exploration, because it has a relationship with the target feature, ```ElimWeek```, as it is more likely for a contestant in get time with the bachelorette when there are, say, 9 people left on the show as opposed to 20.\n",
    "    \n",
    "* **I created ```FirstDate``` feature**.\n",
    "    * This feature is a boolean that represents if a contestant was chosen to go on a date in the second week of their season, which is the week in which the first dates between the Bachelorette and the contestants occur.\n",
    " \n",
    " \n",
    "* **I dropped unneeded columns** that were used to feature-engineer.\n",
    " \n",
    "    \n",
    "* I want to create a ```Homestate``` feature in a future iteration of this project."
   ]
  },
  {
   "cell_type": "code",
   "execution_count": 12,
   "metadata": {},
   "outputs": [],
   "source": [
    "df = handle_dates_and_elims(df)"
   ]
  },
  {
   "cell_type": "code",
   "execution_count": 13,
   "metadata": {},
   "outputs": [
    {
     "data": {
      "text/html": [
       "<div>\n",
       "<style scoped>\n",
       "    .dataframe tbody tr th:only-of-type {\n",
       "        vertical-align: middle;\n",
       "    }\n",
       "\n",
       "    .dataframe tbody tr th {\n",
       "        vertical-align: top;\n",
       "    }\n",
       "\n",
       "    .dataframe thead th {\n",
       "        text-align: right;\n",
       "    }\n",
       "</style>\n",
       "<table border=\"1\" class=\"dataframe\">\n",
       "  <thead>\n",
       "    <tr style=\"text-align: right;\">\n",
       "      <th></th>\n",
       "      <th>Age</th>\n",
       "      <th>Hometown</th>\n",
       "      <th>ElimWeek</th>\n",
       "      <th>Season</th>\n",
       "      <th>Dates2-OneonOneScore</th>\n",
       "      <th>Dates3-OneonOneScore</th>\n",
       "      <th>One-on-One_Score</th>\n",
       "      <th>FirstDate</th>\n",
       "    </tr>\n",
       "    <tr>\n",
       "      <th>CONTESTANT</th>\n",
       "      <th></th>\n",
       "      <th></th>\n",
       "      <th></th>\n",
       "      <th></th>\n",
       "      <th></th>\n",
       "      <th></th>\n",
       "      <th></th>\n",
       "      <th></th>\n",
       "    </tr>\n",
       "  </thead>\n",
       "  <tbody>\n",
       "    <tr>\n",
       "      <th>4_PAUL_B</th>\n",
       "      <td>23</td>\n",
       "      <td>Bonnyville, Alberta</td>\n",
       "      <td>3.0</td>\n",
       "      <td>4</td>\n",
       "      <td>0.142857</td>\n",
       "      <td>0.1</td>\n",
       "      <td>0.060714</td>\n",
       "      <td>1.0</td>\n",
       "    </tr>\n",
       "    <tr>\n",
       "      <th>2_CORY_H</th>\n",
       "      <td>24</td>\n",
       "      <td>Long Beach Island, New Jersey</td>\n",
       "      <td>1.0</td>\n",
       "      <td>2</td>\n",
       "      <td>0.000000</td>\n",
       "      <td>0.0</td>\n",
       "      <td>0.000000</td>\n",
       "      <td>0.0</td>\n",
       "    </tr>\n",
       "    <tr>\n",
       "      <th>1_MIKE_X</th>\n",
       "      <td>24</td>\n",
       "      <td>Cincinnati, Ohio</td>\n",
       "      <td>3.0</td>\n",
       "      <td>1</td>\n",
       "      <td>0.071429</td>\n",
       "      <td>0.2</td>\n",
       "      <td>0.067857</td>\n",
       "      <td>1.0</td>\n",
       "    </tr>\n",
       "  </tbody>\n",
       "</table>\n",
       "</div>"
      ],
      "text/plain": [
       "            Age                       Hometown  ElimWeek  Season  \\\n",
       "CONTESTANT                                                         \n",
       "4_PAUL_B     23            Bonnyville, Alberta       3.0       4   \n",
       "2_CORY_H     24  Long Beach Island, New Jersey       1.0       2   \n",
       "1_MIKE_X     24               Cincinnati, Ohio       3.0       1   \n",
       "\n",
       "            Dates2-OneonOneScore  Dates3-OneonOneScore  One-on-One_Score  \\\n",
       "CONTESTANT                                                                 \n",
       "4_PAUL_B                0.142857                   0.1          0.060714   \n",
       "2_CORY_H                0.000000                   0.0          0.000000   \n",
       "1_MIKE_X                0.071429                   0.2          0.067857   \n",
       "\n",
       "            FirstDate  \n",
       "CONTESTANT             \n",
       "4_PAUL_B          1.0  \n",
       "2_CORY_H          0.0  \n",
       "1_MIKE_X          1.0  "
      ]
     },
     "execution_count": 13,
     "metadata": {},
     "output_type": "execute_result"
    }
   ],
   "source": [
    "# quick peek at the data, sorted by age to avoid seeing too much of one season\n",
    "# and to make sure FirstDate is showing up correctly\n",
    "df.sort_values(by='Age').head(3)"
   ]
  },
  {
   "cell_type": "code",
   "execution_count": 14,
   "metadata": {},
   "outputs": [
    {
     "data": {
      "text/plain": [
       "Age                     0\n",
       "Hometown                0\n",
       "ElimWeek                0\n",
       "Season                  0\n",
       "Dates2-OneonOneScore    0\n",
       "Dates3-OneonOneScore    0\n",
       "One-on-One_Score        0\n",
       "FirstDate               0\n",
       "dtype: int64"
      ]
     },
     "execution_count": 14,
     "metadata": {},
     "output_type": "execute_result"
    }
   ],
   "source": [
    "df.isna().sum()"
   ]
  },
  {
   "cell_type": "markdown",
   "metadata": {},
   "source": [
    "Now I'll take ```df.Hometown``` and engineer some useful features."
   ]
  },
  {
   "cell_type": "code",
   "execution_count": 15,
   "metadata": {},
   "outputs": [
    {
     "data": {
      "text/html": [
       "<div>\n",
       "<style scoped>\n",
       "    .dataframe tbody tr th:only-of-type {\n",
       "        vertical-align: middle;\n",
       "    }\n",
       "\n",
       "    .dataframe tbody tr th {\n",
       "        vertical-align: top;\n",
       "    }\n",
       "\n",
       "    .dataframe thead th {\n",
       "        text-align: right;\n",
       "    }\n",
       "</style>\n",
       "<table border=\"1\" class=\"dataframe\">\n",
       "  <thead>\n",
       "    <tr style=\"text-align: right;\">\n",
       "      <th></th>\n",
       "      <th>Age</th>\n",
       "      <th>ElimWeek</th>\n",
       "      <th>Season</th>\n",
       "      <th>Dates2-OneonOneScore</th>\n",
       "      <th>Dates3-OneonOneScore</th>\n",
       "      <th>One-on-One_Score</th>\n",
       "      <th>FirstDate</th>\n",
       "      <th>HomeRegion</th>\n",
       "    </tr>\n",
       "    <tr>\n",
       "      <th>CONTESTANT</th>\n",
       "      <th></th>\n",
       "      <th></th>\n",
       "      <th></th>\n",
       "      <th></th>\n",
       "      <th></th>\n",
       "      <th></th>\n",
       "      <th></th>\n",
       "      <th></th>\n",
       "    </tr>\n",
       "  </thead>\n",
       "  <tbody>\n",
       "    <tr>\n",
       "      <th>1_RYAN_S</th>\n",
       "      <td>29</td>\n",
       "      <td>11.0</td>\n",
       "      <td>1</td>\n",
       "      <td>0.071429</td>\n",
       "      <td>1.0</td>\n",
       "      <td>0.339286</td>\n",
       "      <td>1.0</td>\n",
       "      <td>W</td>\n",
       "    </tr>\n",
       "    <tr>\n",
       "      <th>1_CHARLIE_M</th>\n",
       "      <td>28</td>\n",
       "      <td>6.0</td>\n",
       "      <td>1</td>\n",
       "      <td>0.071429</td>\n",
       "      <td>1.0</td>\n",
       "      <td>0.581633</td>\n",
       "      <td>1.0</td>\n",
       "      <td>W</td>\n",
       "    </tr>\n",
       "    <tr>\n",
       "      <th>1_RUSS_X</th>\n",
       "      <td>30</td>\n",
       "      <td>5.0</td>\n",
       "      <td>1</td>\n",
       "      <td>0.071429</td>\n",
       "      <td>1.0</td>\n",
       "      <td>0.511905</td>\n",
       "      <td>1.0</td>\n",
       "      <td>W</td>\n",
       "    </tr>\n",
       "    <tr>\n",
       "      <th>1_GREG_T</th>\n",
       "      <td>28</td>\n",
       "      <td>4.0</td>\n",
       "      <td>1</td>\n",
       "      <td>0.071429</td>\n",
       "      <td>0.2</td>\n",
       "      <td>0.254286</td>\n",
       "      <td>1.0</td>\n",
       "      <td>N</td>\n",
       "    </tr>\n",
       "    <tr>\n",
       "      <th>1_BOB_G</th>\n",
       "      <td>31</td>\n",
       "      <td>3.0</td>\n",
       "      <td>1</td>\n",
       "      <td>0.071429</td>\n",
       "      <td>0.2</td>\n",
       "      <td>0.067857</td>\n",
       "      <td>1.0</td>\n",
       "      <td>W</td>\n",
       "    </tr>\n",
       "    <tr>\n",
       "      <th>...</th>\n",
       "      <td>...</td>\n",
       "      <td>...</td>\n",
       "      <td>...</td>\n",
       "      <td>...</td>\n",
       "      <td>...</td>\n",
       "      <td>...</td>\n",
       "      <td>...</td>\n",
       "      <td>...</td>\n",
       "    </tr>\n",
       "    <tr>\n",
       "      <th>12_JAKE_P</th>\n",
       "      <td>26</td>\n",
       "      <td>1.0</td>\n",
       "      <td>12</td>\n",
       "      <td>0.000000</td>\n",
       "      <td>0.0</td>\n",
       "      <td>0.000000</td>\n",
       "      <td>0.0</td>\n",
       "      <td>W</td>\n",
       "    </tr>\n",
       "    <tr>\n",
       "      <th>12_JONATHAN_H</th>\n",
       "      <td>29</td>\n",
       "      <td>1.0</td>\n",
       "      <td>12</td>\n",
       "      <td>0.000000</td>\n",
       "      <td>0.0</td>\n",
       "      <td>0.000000</td>\n",
       "      <td>0.0</td>\n",
       "      <td>Other</td>\n",
       "    </tr>\n",
       "    <tr>\n",
       "      <th>12_NICK_S</th>\n",
       "      <td>26</td>\n",
       "      <td>1.0</td>\n",
       "      <td>12</td>\n",
       "      <td>0.000000</td>\n",
       "      <td>0.0</td>\n",
       "      <td>0.000000</td>\n",
       "      <td>0.0</td>\n",
       "      <td>W</td>\n",
       "    </tr>\n",
       "    <tr>\n",
       "      <th>12_PETER_M</th>\n",
       "      <td>26</td>\n",
       "      <td>1.0</td>\n",
       "      <td>12</td>\n",
       "      <td>0.000000</td>\n",
       "      <td>0.0</td>\n",
       "      <td>0.000000</td>\n",
       "      <td>0.0</td>\n",
       "      <td>M</td>\n",
       "    </tr>\n",
       "    <tr>\n",
       "      <th>12_SAL_D</th>\n",
       "      <td>28</td>\n",
       "      <td>1.0</td>\n",
       "      <td>12</td>\n",
       "      <td>0.000000</td>\n",
       "      <td>0.0</td>\n",
       "      <td>0.000000</td>\n",
       "      <td>0.0</td>\n",
       "      <td>M</td>\n",
       "    </tr>\n",
       "  </tbody>\n",
       "</table>\n",
       "<p>264 rows × 8 columns</p>\n",
       "</div>"
      ],
      "text/plain": [
       "               Age  ElimWeek  Season  Dates2-OneonOneScore  \\\n",
       "CONTESTANT                                                   \n",
       "1_RYAN_S        29      11.0       1              0.071429   \n",
       "1_CHARLIE_M     28       6.0       1              0.071429   \n",
       "1_RUSS_X        30       5.0       1              0.071429   \n",
       "1_GREG_T        28       4.0       1              0.071429   \n",
       "1_BOB_G         31       3.0       1              0.071429   \n",
       "...            ...       ...     ...                   ...   \n",
       "12_JAKE_P       26       1.0      12              0.000000   \n",
       "12_JONATHAN_H   29       1.0      12              0.000000   \n",
       "12_NICK_S       26       1.0      12              0.000000   \n",
       "12_PETER_M      26       1.0      12              0.000000   \n",
       "12_SAL_D        28       1.0      12              0.000000   \n",
       "\n",
       "               Dates3-OneonOneScore  One-on-One_Score  FirstDate HomeRegion  \n",
       "CONTESTANT                                                                   \n",
       "1_RYAN_S                        1.0          0.339286        1.0          W  \n",
       "1_CHARLIE_M                     1.0          0.581633        1.0          W  \n",
       "1_RUSS_X                        1.0          0.511905        1.0          W  \n",
       "1_GREG_T                        0.2          0.254286        1.0          N  \n",
       "1_BOB_G                         0.2          0.067857        1.0          W  \n",
       "...                             ...               ...        ...        ...  \n",
       "12_JAKE_P                       0.0          0.000000        0.0          W  \n",
       "12_JONATHAN_H                   0.0          0.000000        0.0      Other  \n",
       "12_NICK_S                       0.0          0.000000        0.0          W  \n",
       "12_PETER_M                      0.0          0.000000        0.0          M  \n",
       "12_SAL_D                        0.0          0.000000        0.0          M  \n",
       "\n",
       "[264 rows x 8 columns]"
      ]
     },
     "execution_count": 15,
     "metadata": {},
     "output_type": "execute_result"
    }
   ],
   "source": [
    "parse_hometowns(df)"
   ]
  },
  {
   "cell_type": "markdown",
   "metadata": {},
   "source": [
    "Now I need to get dummies for HomeRegion to use it in modeling."
   ]
  },
  {
   "cell_type": "code",
   "execution_count": 16,
   "metadata": {},
   "outputs": [
    {
     "data": {
      "text/html": [
       "<div>\n",
       "<style scoped>\n",
       "    .dataframe tbody tr th:only-of-type {\n",
       "        vertical-align: middle;\n",
       "    }\n",
       "\n",
       "    .dataframe tbody tr th {\n",
       "        vertical-align: top;\n",
       "    }\n",
       "\n",
       "    .dataframe thead th {\n",
       "        text-align: right;\n",
       "    }\n",
       "</style>\n",
       "<table border=\"1\" class=\"dataframe\">\n",
       "  <thead>\n",
       "    <tr style=\"text-align: right;\">\n",
       "      <th></th>\n",
       "      <th>N</th>\n",
       "      <th>O</th>\n",
       "      <th>Other</th>\n",
       "      <th>S</th>\n",
       "      <th>W</th>\n",
       "    </tr>\n",
       "    <tr>\n",
       "      <th>CONTESTANT</th>\n",
       "      <th></th>\n",
       "      <th></th>\n",
       "      <th></th>\n",
       "      <th></th>\n",
       "      <th></th>\n",
       "    </tr>\n",
       "  </thead>\n",
       "  <tbody>\n",
       "    <tr>\n",
       "      <th>1_RYAN_S</th>\n",
       "      <td>0</td>\n",
       "      <td>0</td>\n",
       "      <td>0</td>\n",
       "      <td>0</td>\n",
       "      <td>1</td>\n",
       "    </tr>\n",
       "    <tr>\n",
       "      <th>1_CHARLIE_M</th>\n",
       "      <td>0</td>\n",
       "      <td>0</td>\n",
       "      <td>0</td>\n",
       "      <td>0</td>\n",
       "      <td>1</td>\n",
       "    </tr>\n",
       "    <tr>\n",
       "      <th>1_RUSS_X</th>\n",
       "      <td>0</td>\n",
       "      <td>0</td>\n",
       "      <td>0</td>\n",
       "      <td>0</td>\n",
       "      <td>1</td>\n",
       "    </tr>\n",
       "  </tbody>\n",
       "</table>\n",
       "</div>"
      ],
      "text/plain": [
       "             N  O  Other  S  W\n",
       "CONTESTANT                    \n",
       "1_RYAN_S     0  0      0  0  1\n",
       "1_CHARLIE_M  0  0      0  0  1\n",
       "1_RUSS_X     0  0      0  0  1"
      ]
     },
     "execution_count": 16,
     "metadata": {},
     "output_type": "execute_result"
    }
   ],
   "source": [
    "# Make dataframe for encoded columns\n",
    "\n",
    "region_dummies = pd.get_dummies(df.HomeRegion, drop_first=True)\n",
    "region_dummies.head(3)"
   ]
  },
  {
   "cell_type": "markdown",
   "metadata": {},
   "source": [
    "* N - North East\n",
    "* W - West\n",
    "* M - Midwest\n",
    "* S - South\n",
    "* O - Other"
   ]
  },
  {
   "cell_type": "markdown",
   "metadata": {},
   "source": [
    "Now join the dfs together and drop the features I don't need anymore."
   ]
  },
  {
   "cell_type": "code",
   "execution_count": 17,
   "metadata": {},
   "outputs": [
    {
     "data": {
      "text/html": [
       "<div>\n",
       "<style scoped>\n",
       "    .dataframe tbody tr th:only-of-type {\n",
       "        vertical-align: middle;\n",
       "    }\n",
       "\n",
       "    .dataframe tbody tr th {\n",
       "        vertical-align: top;\n",
       "    }\n",
       "\n",
       "    .dataframe thead th {\n",
       "        text-align: right;\n",
       "    }\n",
       "</style>\n",
       "<table border=\"1\" class=\"dataframe\">\n",
       "  <thead>\n",
       "    <tr style=\"text-align: right;\">\n",
       "      <th></th>\n",
       "      <th>Age</th>\n",
       "      <th>ElimWeek</th>\n",
       "      <th>Season</th>\n",
       "      <th>Dates2-OneonOneScore</th>\n",
       "      <th>Dates3-OneonOneScore</th>\n",
       "      <th>One-on-One_Score</th>\n",
       "      <th>FirstDate</th>\n",
       "      <th>N</th>\n",
       "      <th>O</th>\n",
       "      <th>Other</th>\n",
       "      <th>S</th>\n",
       "      <th>W</th>\n",
       "    </tr>\n",
       "    <tr>\n",
       "      <th>CONTESTANT</th>\n",
       "      <th></th>\n",
       "      <th></th>\n",
       "      <th></th>\n",
       "      <th></th>\n",
       "      <th></th>\n",
       "      <th></th>\n",
       "      <th></th>\n",
       "      <th></th>\n",
       "      <th></th>\n",
       "      <th></th>\n",
       "      <th></th>\n",
       "      <th></th>\n",
       "    </tr>\n",
       "  </thead>\n",
       "  <tbody>\n",
       "    <tr>\n",
       "      <th>1_RYAN_S</th>\n",
       "      <td>29</td>\n",
       "      <td>11.0</td>\n",
       "      <td>1</td>\n",
       "      <td>0.071429</td>\n",
       "      <td>1.0</td>\n",
       "      <td>0.339286</td>\n",
       "      <td>1.0</td>\n",
       "      <td>0</td>\n",
       "      <td>0</td>\n",
       "      <td>0</td>\n",
       "      <td>0</td>\n",
       "      <td>1</td>\n",
       "    </tr>\n",
       "    <tr>\n",
       "      <th>1_CHARLIE_M</th>\n",
       "      <td>28</td>\n",
       "      <td>6.0</td>\n",
       "      <td>1</td>\n",
       "      <td>0.071429</td>\n",
       "      <td>1.0</td>\n",
       "      <td>0.581633</td>\n",
       "      <td>1.0</td>\n",
       "      <td>0</td>\n",
       "      <td>0</td>\n",
       "      <td>0</td>\n",
       "      <td>0</td>\n",
       "      <td>1</td>\n",
       "    </tr>\n",
       "    <tr>\n",
       "      <th>1_RUSS_X</th>\n",
       "      <td>30</td>\n",
       "      <td>5.0</td>\n",
       "      <td>1</td>\n",
       "      <td>0.071429</td>\n",
       "      <td>1.0</td>\n",
       "      <td>0.511905</td>\n",
       "      <td>1.0</td>\n",
       "      <td>0</td>\n",
       "      <td>0</td>\n",
       "      <td>0</td>\n",
       "      <td>0</td>\n",
       "      <td>1</td>\n",
       "    </tr>\n",
       "  </tbody>\n",
       "</table>\n",
       "</div>"
      ],
      "text/plain": [
       "             Age  ElimWeek  Season  Dates2-OneonOneScore  \\\n",
       "CONTESTANT                                                 \n",
       "1_RYAN_S      29      11.0       1              0.071429   \n",
       "1_CHARLIE_M   28       6.0       1              0.071429   \n",
       "1_RUSS_X      30       5.0       1              0.071429   \n",
       "\n",
       "             Dates3-OneonOneScore  One-on-One_Score  FirstDate  N  O  Other  \\\n",
       "CONTESTANT                                                                    \n",
       "1_RYAN_S                      1.0          0.339286        1.0  0  0      0   \n",
       "1_CHARLIE_M                   1.0          0.581633        1.0  0  0      0   \n",
       "1_RUSS_X                      1.0          0.511905        1.0  0  0      0   \n",
       "\n",
       "             S  W  \n",
       "CONTESTANT         \n",
       "1_RYAN_S     0  1  \n",
       "1_CHARLIE_M  0  1  \n",
       "1_RUSS_X     0  1  "
      ]
     },
     "execution_count": 17,
     "metadata": {},
     "output_type": "execute_result"
    }
   ],
   "source": [
    "# Now add encoded columns back onto original df and drop\n",
    "\n",
    "df = pd.concat([df, region_dummies], axis=1)\n",
    "df = df.drop(columns=['HomeRegion'])\n",
    "df.head(3)"
   ]
  },
  {
   "cell_type": "markdown",
   "metadata": {},
   "source": [
    "### Train, validate, test splits"
   ]
  },
  {
   "cell_type": "markdown",
   "metadata": {},
   "source": [
    "```ElimWeek``` is the feature we will be predicting on."
   ]
  },
  {
   "cell_type": "code",
   "execution_count": 19,
   "metadata": {},
   "outputs": [
    {
     "name": "stdout",
     "output_type": "stream",
     "text": [
      "Shape of train: (168, 11) | Shape of validate: (48, 11) | Shape of test: (48, 11)\n"
     ]
    }
   ],
   "source": [
    "X_train, y_train, X_validate, y_validate, X_test, y_test, train, validate, test = train_validate_test(df, 'ElimWeek')"
   ]
  },
  {
   "cell_type": "code",
   "execution_count": 20,
   "metadata": {},
   "outputs": [
    {
     "data": {
      "text/html": [
       "<div>\n",
       "<style scoped>\n",
       "    .dataframe tbody tr th:only-of-type {\n",
       "        vertical-align: middle;\n",
       "    }\n",
       "\n",
       "    .dataframe tbody tr th {\n",
       "        vertical-align: top;\n",
       "    }\n",
       "\n",
       "    .dataframe thead th {\n",
       "        text-align: right;\n",
       "    }\n",
       "</style>\n",
       "<table border=\"1\" class=\"dataframe\">\n",
       "  <thead>\n",
       "    <tr style=\"text-align: right;\">\n",
       "      <th></th>\n",
       "      <th>Age</th>\n",
       "      <th>Season</th>\n",
       "      <th>Dates2-OneonOneScore</th>\n",
       "      <th>Dates3-OneonOneScore</th>\n",
       "      <th>One-on-One_Score</th>\n",
       "      <th>FirstDate</th>\n",
       "      <th>N</th>\n",
       "      <th>O</th>\n",
       "      <th>Other</th>\n",
       "      <th>S</th>\n",
       "      <th>W</th>\n",
       "    </tr>\n",
       "    <tr>\n",
       "      <th>CONTESTANT</th>\n",
       "      <th></th>\n",
       "      <th></th>\n",
       "      <th></th>\n",
       "      <th></th>\n",
       "      <th></th>\n",
       "      <th></th>\n",
       "      <th></th>\n",
       "      <th></th>\n",
       "      <th></th>\n",
       "      <th></th>\n",
       "      <th></th>\n",
       "    </tr>\n",
       "  </thead>\n",
       "  <tbody>\n",
       "    <tr>\n",
       "      <th>1_RYAN_S</th>\n",
       "      <td>29</td>\n",
       "      <td>1</td>\n",
       "      <td>0.071429</td>\n",
       "      <td>1.0</td>\n",
       "      <td>0.339286</td>\n",
       "      <td>1.0</td>\n",
       "      <td>0</td>\n",
       "      <td>0</td>\n",
       "      <td>0</td>\n",
       "      <td>0</td>\n",
       "      <td>1</td>\n",
       "    </tr>\n",
       "    <tr>\n",
       "      <th>1_CHARLIE_M</th>\n",
       "      <td>28</td>\n",
       "      <td>1</td>\n",
       "      <td>0.071429</td>\n",
       "      <td>1.0</td>\n",
       "      <td>0.581633</td>\n",
       "      <td>1.0</td>\n",
       "      <td>0</td>\n",
       "      <td>0</td>\n",
       "      <td>0</td>\n",
       "      <td>0</td>\n",
       "      <td>1</td>\n",
       "    </tr>\n",
       "    <tr>\n",
       "      <th>1_RUSS_X</th>\n",
       "      <td>30</td>\n",
       "      <td>1</td>\n",
       "      <td>0.071429</td>\n",
       "      <td>1.0</td>\n",
       "      <td>0.511905</td>\n",
       "      <td>1.0</td>\n",
       "      <td>0</td>\n",
       "      <td>0</td>\n",
       "      <td>0</td>\n",
       "      <td>0</td>\n",
       "      <td>1</td>\n",
       "    </tr>\n",
       "  </tbody>\n",
       "</table>\n",
       "</div>"
      ],
      "text/plain": [
       "             Age  Season  Dates2-OneonOneScore  Dates3-OneonOneScore  \\\n",
       "CONTESTANT                                                             \n",
       "1_RYAN_S      29       1              0.071429                   1.0   \n",
       "1_CHARLIE_M   28       1              0.071429                   1.0   \n",
       "1_RUSS_X      30       1              0.071429                   1.0   \n",
       "\n",
       "             One-on-One_Score  FirstDate  N  O  Other  S  W  \n",
       "CONTESTANT                                                   \n",
       "1_RYAN_S             0.339286        1.0  0  0      0  0  1  \n",
       "1_CHARLIE_M          0.581633        1.0  0  0      0  0  1  \n",
       "1_RUSS_X             0.511905        1.0  0  0      0  0  1  "
      ]
     },
     "execution_count": 20,
     "metadata": {},
     "output_type": "execute_result"
    }
   ],
   "source": [
    "X_train.head(3)"
   ]
  },
  {
   "cell_type": "code",
   "execution_count": 21,
   "metadata": {},
   "outputs": [
    {
     "data": {
      "text/plain": [
       "CONTESTANT\n",
       "1_RYAN_S       11.0\n",
       "1_CHARLIE_M     6.0\n",
       "1_RUSS_X        5.0\n",
       "Name: ElimWeek, dtype: float64"
      ]
     },
     "execution_count": 21,
     "metadata": {},
     "output_type": "execute_result"
    }
   ],
   "source": [
    "y_train.head(3)"
   ]
  },
  {
   "cell_type": "markdown",
   "metadata": {},
   "source": [
    "### Scale the data"
   ]
  },
  {
   "cell_type": "markdown",
   "metadata": {},
   "source": [
    "I'll scale the data on my next iteration through the data science pipeline."
   ]
  },
  {
   "cell_type": "markdown",
   "metadata": {},
   "source": [
    "## Exploratory Data Analysis"
   ]
  },
  {
   "cell_type": "markdown",
   "metadata": {},
   "source": [
    "### Which contestants last more weeks, by season and age?"
   ]
  },
  {
   "cell_type": "code",
   "execution_count": 22,
   "metadata": {},
   "outputs": [
    {
     "data": {
      "image/png": "[encoded data removed]",
      "text/plain": [
       "<Figure size 864x576 with 2 Axes>"
      ]
     },
     "metadata": {
      "needs_background": "light"
     },
     "output_type": "display_data"
    }
   ],
   "source": [
    "make_heatmap(train)"
   ]
  },
  {
   "cell_type": "markdown",
   "metadata": {},
   "source": [
    "Beginning with the first season of The Bachelorette (which aired in 2003), it looks like the overall trend across seasons and time was increasingly favorsome towards younger contestants... That is, until Season 12 decided to invert that trend."
   ]
  },
  {
   "cell_type": "markdown",
   "metadata": {},
   "source": [
    "### Does getting one of the first dates in the season mean that a contestant will get more One-on-One time?"
   ]
  },
  {
   "cell_type": "code",
   "execution_count": 23,
   "metadata": {},
   "outputs": [
    {
     "data": {
      "image/png": "[encoded data removed]",
      "text/plain": [
       "<Figure size 864x576 with 1 Axes>"
      ]
     },
     "metadata": {
      "needs_background": "light"
     },
     "output_type": "display_data"
    }
   ],
   "source": [
    "firstdate_swarmplot(train)"
   ]
  },
  {
   "cell_type": "code",
   "execution_count": 24,
   "metadata": {},
   "outputs": [
    {
     "data": {
      "image/png": "[encoded data removed]",
      "text/plain": [
       "<Figure size 921.6x576 with 7 Axes>"
      ]
     },
     "metadata": {
      "needs_background": "light"
     },
     "output_type": "display_data"
    }
   ],
   "source": [
    "swarmplot_by_season(train)"
   ]
  },
  {
   "cell_type": "markdown",
   "metadata": {},
   "source": [
    "For the most part, contestants that didn't get one of the first dates with the bachelorette didn't get nearly as much future date time as their counterparts who *did* go on one of the first dates.\n",
    "\n",
    "In two seasons, however, the contestants who ended up getting the highest One-on-One scores actually did *not* get one of the first dates of their respective seasons.\n",
    "\n",
    "Getting one of the First Dates does have a great effect on a contestant's future time with the bachelorette, but it's not necessarily a game-ender.\n",
    "\n",
    "In fact, most of the contestants that went on to get any date time at all with the bachelorette -- after not going on a 'FirstDate' -- actually got more time than many of the other contestants who did go on a 'FirstDate'."
   ]
  },
  {
   "cell_type": "markdown",
   "metadata": {},
   "source": [
    "### Is there a linear relationship between One-on-One_Score and ElimWeek?\n",
    "\n",
    "$\n",
    "\\begin{align*}\n",
    "   H_0 & : \\text{There is no linear correlation between a contestant's One-on-One Score and a contestant's Elimination Week.}\n",
    "   \\\\\n",
    "   H_a & : \\text{There is a linear correlation between a contestant's One-on-One Score and a contestant's Elimination Week.}\n",
    "   \\\\\n",
    "    \\alpha & : \\text{0.05}\n",
    "\\end{align*}\n",
    "$"
   ]
  },
  {
   "cell_type": "code",
   "execution_count": 25,
   "metadata": {},
   "outputs": [],
   "source": [
    "alpha = 0.05\n",
    "x = train['One-on-One_Score']\n",
    "y = train.ElimWeek"
   ]
  },
  {
   "cell_type": "code",
   "execution_count": 26,
   "metadata": {},
   "outputs": [
    {
     "name": "stdout",
     "output_type": "stream",
     "text": [
      "r = 0.8377015803155536\n",
      "p = 1.8111770699724813e-45\n",
      "\n",
      "\n",
      "We reject the hypothesis that there is no linear correlation between a contestant's One-on-One Score and a contestant's Elimination Week.\n"
     ]
    }
   ],
   "source": [
    "pearsons_test(train, x, y, alpha)"
   ]
  },
  {
   "cell_type": "markdown",
   "metadata": {},
   "source": [
    "## Predictive Modeling\n",
    "\n",
    "# Can our model predict how long contestants will last on the show (in weeks), using data only from the first three episodes of a season?\n",
    "\n",
    "**The goal is to produce a predictive model that outperforms the baseline in predicting the target value -- in this case, ```ElimWeek```.**"
   ]
  },
  {
   "cell_type": "markdown",
   "metadata": {},
   "source": [
    "The train, validate, test splits:\n",
    "```\n",
    "Seasons 1 to 8 (66.67%) | Seasons 9 and 10 (16.667%) | Seasons 11 and 12 (16.667%)\n",
    "```"
   ]
  },
  {
   "cell_type": "markdown",
   "metadata": {},
   "source": [
    "I'm going to drop the overall/average One-on-One Score feature when modeling because it has too much of a relationship with the target variable. In the next iteration I will be updating my statistical testing and visualizations so that this is acknowledged.\n",
    "\n",
    "> **Dec 6, 2020**\n",
    ">\n",
    ">I have decided to drop the One-on-One Score feature because it has too much relationship with the target variable. As the season progresses and there are fewer contestants left, it only follows that those contestants will get more relative one-on-one time than earlier in the season. Also, I want my predictor to be able to be used after the 3rd episode or before the 4th episode of a season, so that users (and myself) can use my model to predict the frontrunners of a season before the 4th episode of the show.\n",
    ">\n",
    ">Instead, I will keep the One-on-One scores for ```DATES-2``` and ```DATES-3```."
   ]
  },
  {
   "cell_type": "code",
   "execution_count": 27,
   "metadata": {},
   "outputs": [
    {
     "data": {
      "text/html": [
       "<div>\n",
       "<style scoped>\n",
       "    .dataframe tbody tr th:only-of-type {\n",
       "        vertical-align: middle;\n",
       "    }\n",
       "\n",
       "    .dataframe tbody tr th {\n",
       "        vertical-align: top;\n",
       "    }\n",
       "\n",
       "    .dataframe thead th {\n",
       "        text-align: right;\n",
       "    }\n",
       "</style>\n",
       "<table border=\"1\" class=\"dataframe\">\n",
       "  <thead>\n",
       "    <tr style=\"text-align: right;\">\n",
       "      <th></th>\n",
       "      <th>Age</th>\n",
       "      <th>Season</th>\n",
       "      <th>Dates2-OneonOneScore</th>\n",
       "      <th>Dates3-OneonOneScore</th>\n",
       "      <th>FirstDate</th>\n",
       "      <th>N</th>\n",
       "      <th>O</th>\n",
       "      <th>Other</th>\n",
       "      <th>S</th>\n",
       "      <th>W</th>\n",
       "    </tr>\n",
       "    <tr>\n",
       "      <th>CONTESTANT</th>\n",
       "      <th></th>\n",
       "      <th></th>\n",
       "      <th></th>\n",
       "      <th></th>\n",
       "      <th></th>\n",
       "      <th></th>\n",
       "      <th></th>\n",
       "      <th></th>\n",
       "      <th></th>\n",
       "      <th></th>\n",
       "    </tr>\n",
       "  </thead>\n",
       "  <tbody>\n",
       "    <tr>\n",
       "      <th>1_RYAN_S</th>\n",
       "      <td>29</td>\n",
       "      <td>1</td>\n",
       "      <td>0.071429</td>\n",
       "      <td>1.0</td>\n",
       "      <td>1.0</td>\n",
       "      <td>0</td>\n",
       "      <td>0</td>\n",
       "      <td>0</td>\n",
       "      <td>0</td>\n",
       "      <td>1</td>\n",
       "    </tr>\n",
       "    <tr>\n",
       "      <th>1_CHARLIE_M</th>\n",
       "      <td>28</td>\n",
       "      <td>1</td>\n",
       "      <td>0.071429</td>\n",
       "      <td>1.0</td>\n",
       "      <td>1.0</td>\n",
       "      <td>0</td>\n",
       "      <td>0</td>\n",
       "      <td>0</td>\n",
       "      <td>0</td>\n",
       "      <td>1</td>\n",
       "    </tr>\n",
       "  </tbody>\n",
       "</table>\n",
       "</div>"
      ],
      "text/plain": [
       "             Age  Season  Dates2-OneonOneScore  Dates3-OneonOneScore  \\\n",
       "CONTESTANT                                                             \n",
       "1_RYAN_S      29       1              0.071429                   1.0   \n",
       "1_CHARLIE_M   28       1              0.071429                   1.0   \n",
       "\n",
       "             FirstDate  N  O  Other  S  W  \n",
       "CONTESTANT                                 \n",
       "1_RYAN_S           1.0  0  0      0  0  1  \n",
       "1_CHARLIE_M        1.0  0  0      0  0  1  "
      ]
     },
     "execution_count": 27,
     "metadata": {},
     "output_type": "execute_result"
    }
   ],
   "source": [
    "X_train, y_train, X_validate, y_validate, X_test, y_test, train, validate, test = X_train.drop(columns=['One-on-One_Score']), y_train.drop(columns=['One-on-One_Score']), X_validate.drop(columns=['One-on-One_Score']), y_validate.drop(columns=['One-on-One_Score']), X_test.drop(columns=['One-on-One_Score']), y_test.drop(columns=['One-on-One_Score']), train.drop(columns=['One-on-One_Score']), validate.drop(columns=['One-on-One_Score']), test.drop(columns=['One-on-One_Score'])\n",
    "X_train.head(2)"
   ]
  },
  {
   "cell_type": "markdown",
   "metadata": {},
   "source": [
    "### Define and Evaluate Baseline"
   ]
  },
  {
   "cell_type": "code",
   "execution_count": 28,
   "metadata": {},
   "outputs": [
    {
     "data": {
      "text/plain": [
       "3.5357142857142856"
      ]
     },
     "execution_count": 28,
     "metadata": {},
     "output_type": "execute_result"
    }
   ],
   "source": [
    "#np.median(y_train)\n",
    "np.mean(y_train)"
   ]
  },
  {
   "cell_type": "code",
   "execution_count": 29,
   "metadata": {},
   "outputs": [
    {
     "name": "stdout",
     "output_type": "stream",
     "text": [
      "RMSE (Root Mean Square Error) of Baseline on train data:\n",
      " 3.862457\n",
      "RMSE (Root Mean Square Error) of Baseline on validate data:\n",
      " 4.745429\n"
     ]
    }
   ],
   "source": [
    "#baseline = y_train.median()\n",
    "baseline = y_train.mean()\n",
    "\n",
    "evaluate_baseline(baseline, y_train, y_validate)"
   ]
  },
  {
   "cell_type": "markdown",
   "metadata": {},
   "source": [
    "Mean performed better than median. So, my baseline will be ```3.5357142857142856``` with a RMSE of ```3.862457``` on train."
   ]
  },
  {
   "cell_type": "markdown",
   "metadata": {},
   "source": [
    "### Model 1 - Ordinary Least Squares (OLS) using Linear Regression"
   ]
  },
  {
   "cell_type": "code",
   "execution_count": 30,
   "metadata": {},
   "outputs": [
    {
     "data": {
      "text/plain": [
       "Index(['Age', 'Season', 'Dates2-OneonOneScore', 'Dates3-OneonOneScore',\n",
       "       'FirstDate', 'N', 'O', 'Other', 'S', 'W'],\n",
       "      dtype='object')"
      ]
     },
     "execution_count": 30,
     "metadata": {},
     "output_type": "execute_result"
    }
   ],
   "source": [
    "# show available features\n",
    "X_train.columns"
   ]
  },
  {
   "cell_type": "code",
   "execution_count": 31,
   "metadata": {},
   "outputs": [
    {
     "name": "stdout",
     "output_type": "stream",
     "text": [
      "RMSE for OLS using LinearRegression\n",
      "\n",
      "On train data:\n",
      " 2.62729 \n",
      "\n",
      " On validate data:\n",
      " 3.349505\n"
     ]
    }
   ],
   "source": [
    "# use all features except season\n",
    "X = X_train.drop(columns=['Season'])\n",
    "y = y_train\n",
    "\n",
    "X_v = X_validate.drop(columns=['Season'])\n",
    "y_v = y_validate\n",
    "\n",
    "lm_pred, lm_rmse, lm_pred_v, lm_rmse_v = model_1(X, y, X_v, y_v)"
   ]
  },
  {
   "cell_type": "markdown",
   "metadata": {},
   "source": [
    "This model performs better than the baseline on both train and validate. 🎉"
   ]
  },
  {
   "cell_type": "markdown",
   "metadata": {},
   "source": [
    "### Model 2 - Lasso & Lars"
   ]
  },
  {
   "cell_type": "code",
   "execution_count": 32,
   "metadata": {},
   "outputs": [
    {
     "name": "stdout",
     "output_type": "stream",
     "text": [
      "RMSE for Lasso + Lars\n",
      "\n",
      "On train data:\n",
      " 3.862457 \n",
      "\n",
      " On validate data:\n",
      " 4.745429\n"
     ]
    }
   ],
   "source": [
    "# use all features except season\n",
    "X = X_train.drop(columns=['Season'])\n",
    "y = y_train\n",
    "\n",
    "X_v = X_validate.drop(columns=['Season'])\n",
    "y_v = y_validate\n",
    "\n",
    "pred_lars, rmse_train, pred_lars_v, rmse_validate = model_2(X, y, X_v, y_v)"
   ]
  },
  {
   "cell_type": "markdown",
   "metadata": {},
   "source": [
    "This model performs the same as baseline on both train and validate."
   ]
  },
  {
   "cell_type": "markdown",
   "metadata": {},
   "source": [
    "### Model 3 - Ordinary Least Squares (OLS) using Linear Regression"
   ]
  },
  {
   "cell_type": "code",
   "execution_count": 34,
   "metadata": {},
   "outputs": [
    {
     "name": "stdout",
     "output_type": "stream",
     "text": [
      "RMSE for OLS using LinearRegression\n",
      "\n",
      "On train data:\n",
      " 3.163032 \n",
      "\n",
      " On validate data:\n",
      " 3.88854\n"
     ]
    }
   ],
   "source": [
    "# use only FirstDate\n",
    "X = X_train.drop(columns=['Age', 'Season', 'Dates2-OneonOneScore', 'Dates3-OneonOneScore',\n",
    "       'N', 'O', 'Other', 'S', 'W'])\n",
    "y = y_train\n",
    "\n",
    "X_v = X_validate.drop(columns=['Age', 'Season', 'Dates2-OneonOneScore', 'Dates3-OneonOneScore',\n",
    "       'N', 'O', 'Other', 'S', 'W'])\n",
    "y_v = y_validate\n",
    "\n",
    "lm_pred, lm_rmse, lm_pred_v, lm_rmse_v = model_3(X, y, X_v, y_v)"
   ]
  },
  {
   "cell_type": "markdown",
   "metadata": {},
   "source": [
    "Using only FirstDate as a feature yields pretty decent results and beats Model 2, however Model 1 still performs the best out of the three models."
   ]
  },
  {
   "cell_type": "markdown",
   "metadata": {},
   "source": [
    "### Model 4 - Random Forest"
   ]
  },
  {
   "cell_type": "code",
   "execution_count": 35,
   "metadata": {},
   "outputs": [
    {
     "name": "stdout",
     "output_type": "stream",
     "text": [
      "RMSE for RandomForestRegressor\n",
      "\n",
      "On train data:\n",
      " 0.378142 \n",
      "\n",
      " On validate data:\n",
      " 2.250474\n"
     ]
    }
   ],
   "source": [
    "# use all features except season\n",
    "X = X_train.drop(columns=['Season'])\n",
    "y = y_train\n",
    "\n",
    "X_v = X_validate.drop(columns=['Season'])\n",
    "y_v = y_validate\n",
    "\n",
    "forest_pred, forest_rmse, forest_pred_v, forest_rmse_v = model_4(X, y, X_v, y_v)"
   ]
  },
  {
   "cell_type": "markdown",
   "metadata": {},
   "source": [
    "This model performs better than the baseline on both train and validate ***and*** it beats Model 1. 🎉🎉🎉\n",
    "\n",
    "I wonder how well it would do with just data from the first **2** weeks of each season."
   ]
  },
  {
   "cell_type": "markdown",
   "metadata": {},
   "source": [
    "### Model 5 - Random Forest"
   ]
  },
  {
   "cell_type": "code",
   "execution_count": 36,
   "metadata": {},
   "outputs": [
    {
     "name": "stdout",
     "output_type": "stream",
     "text": [
      "RMSE for RandomForestRegressor\n",
      "\n",
      "On train data:\n",
      " 1.035959 \n",
      "\n",
      " On validate data:\n",
      " 6.84056\n"
     ]
    }
   ],
   "source": [
    "# use all features except Season and Dates3-OneonOneScore\n",
    "X = X_train.drop(columns=['Season', 'Dates3-OneonOneScore'])\n",
    "y = y_train\n",
    "\n",
    "X_v = X_validate.drop(columns=['Season', 'Dates3-OneonOneScore'])\n",
    "y_v = y_validate\n",
    "\n",
    "forest_pred, forest_rmse, forest_pred_v, forest_rmse_v = model_4(X, y, X_v, y_v)"
   ]
  },
  {
   "cell_type": "markdown",
   "metadata": {},
   "source": [
    "Okay on train, but pretty terrible on validate."
   ]
  },
  {
   "cell_type": "markdown",
   "metadata": {},
   "source": [
    "**Now that I know Model 4 is the best performing, I will test it on the test data.**"
   ]
  },
  {
   "cell_type": "code",
   "execution_count": 38,
   "metadata": {},
   "outputs": [
    {
     "name": "stdout",
     "output_type": "stream",
     "text": [
      "RMSE for RandomForestRegressor\n",
      "\n",
      "On test data:\n",
      " 0.548775\n"
     ]
    }
   ],
   "source": [
    "# use all features except season\n",
    "\n",
    "X = X_test.drop(columns=['Season'])\n",
    "y = y_test\n",
    "\n",
    "forest_pred, forest_rmse = model_4_test(X, y)"
   ]
  },
  {
   "cell_type": "markdown",
   "metadata": {},
   "source": [
    "**Looks good!! Model 4 performs the best and beats the baseline.** 🥳"
   ]
  },
  {
   "cell_type": "code",
   "execution_count": 39,
   "metadata": {},
   "outputs": [
    {
     "data": {
      "text/plain": [
       "array([8.28      , 6.56      , 7.025     , 6.91      , 6.41      ,\n",
       "       6.97      , 6.4       , 6.14      , 5.42      , 4.36      ,\n",
       "       4.27      , 4.09      , 4.86      , 5.07      , 3.49      ,\n",
       "       3.51      , 3.22      , 1.3       , 1.3       , 1.09      ,\n",
       "       1.18      , 2.25      , 1.        , 8.42333333, 7.85      ,\n",
       "       7.84      , 6.92      , 6.58      , 6.065     , 5.43      ,\n",
       "       5.532     , 4.46      , 4.49133333, 4.52      , 4.336     ,\n",
       "       5.08      , 4.49133333, 4.545     , 3.73      , 1.91      ,\n",
       "       1.73      , 3.78166667, 1.09      , 1.11      , 1.        ,\n",
       "       1.11      , 1.        , 1.        ])"
      ]
     },
     "execution_count": 39,
     "metadata": {},
     "output_type": "execute_result"
    }
   ],
   "source": [
    "forest_pred"
   ]
  },
  {
   "cell_type": "markdown",
   "metadata": {},
   "source": [
    "## Conclusions"
   ]
  },
  {
   "cell_type": "markdown",
   "metadata": {},
   "source": [
    "Go to sleep now. Stop coding... 😴😴😴😴😴😴😴😴\n",
    "\n",
    "Tomorrow you will write conclusions (no more coding), and complete the project presentation via Canva."
   ]
  }
 ],
 "metadata": {
  "kernelspec": {
   "display_name": "Python 3",
   "language": "python",
   "name": "python3"
  },
  "language_info": {
   "codemirror_mode": {
    "name": "ipython",
    "version": 3
   },
   "file_extension": ".py",
   "mimetype": "text/x-python",
   "name": "python",
   "nbconvert_exporter": "python",
   "pygments_lexer": "ipython3",
   "version": "3.8.3"
  }
 },
 "nbformat": 4,
 "nbformat_minor": 4
}
