{
 "cells": [
  {
   "cell_type": "markdown",
   "metadata": {},
   "source": [
    "# The Bachelorette Predictor\n",
    "### Kwame V. Taylor\n",
    "\n",
    "The goal of this project is to create a machine learning model that accurately predicts how many weeks a contestant will last on the ABC reality show The Bachelorette, based on data from Seasons 1-2 and 4-12.\n",
    "\n",
    "**Warning: This project contains *many* spoilers for past seasons.** Proceed at your own risk.\n",
    "\n",
    "<img src=\"https://miro.medium.com/max/1280/1*S6OS8YFJWx0LT9wXNi0LkQ.png\">"
   ]
  },
  {
   "cell_type": "markdown",
   "metadata": {},
   "source": [
    "## Set up Environment"
   ]
  },
  {
   "cell_type": "code",
   "execution_count": 1,
   "metadata": {},
   "outputs": [],
   "source": [
    "import numpy as np\n",
    "import pandas as pd\n",
    "\n",
    "import matplotlib.pyplot as plt\n",
    "#plt.style.use('ggplot')\n",
    "import matplotlib as mpl\n",
    "\n",
    "from cycler import cycler\n",
    "import seaborn as sns\n",
    "\n",
    "# default viz size settings\n",
    "plt.rc('figure', figsize=(12, 8))\n",
    "plt.rc('font', size=15)\n",
    "mpl.rcParams['lines.linewidth'] = 2\n",
    "mpl.rcParams['lines.linestyle'] = '--'\n",
    "mpl.rcParams['axes.prop_cycle'] = cycler(color=['deepskyblue', 'firebrick', 'darkseagreen', 'violet'])\n",
    "\n",
    "import warnings\n",
    "warnings.filterwarnings(\"ignore\")"
   ]
  },
  {
   "cell_type": "code",
   "execution_count": 2,
   "metadata": {},
   "outputs": [],
   "source": [
    "from wrangle import acquire_data, join_dfs, drop_extra_cols\n",
    "from preprocessing import handle_dates_and_elims, train_validate_test\n",
    "from explore import make_heatmap, firstdate_swarmplot, swarmplot_by_season, pearsons_test\n",
    "from model import model_1, model_1_test, evaluate_baseline"
   ]
  },
  {
   "cell_type": "markdown",
   "metadata": {},
   "source": [
    "## Acquire & Prepare (Wrangle) the Data"
   ]
  },
  {
   "cell_type": "markdown",
   "metadata": {},
   "source": [
    "Import raw datasets."
   ]
  },
  {
   "cell_type": "code",
   "execution_count": 3,
   "metadata": {},
   "outputs": [],
   "source": [
    "df, join = acquire_data()"
   ]
  },
  {
   "cell_type": "code",
   "execution_count": 4,
   "metadata": {},
   "outputs": [
    {
     "data": {
      "text/html": [
       "<div>\n",
       "<style scoped>\n",
       "    .dataframe tbody tr th:only-of-type {\n",
       "        vertical-align: middle;\n",
       "    }\n",
       "\n",
       "    .dataframe tbody tr th {\n",
       "        vertical-align: top;\n",
       "    }\n",
       "\n",
       "    .dataframe thead th {\n",
       "        text-align: right;\n",
       "    }\n",
       "</style>\n",
       "<table border=\"1\" class=\"dataframe\">\n",
       "  <thead>\n",
       "    <tr style=\"text-align: right;\">\n",
       "      <th></th>\n",
       "      <th>Name</th>\n",
       "      <th>Age</th>\n",
       "      <th>Occupation</th>\n",
       "      <th>Hometown</th>\n",
       "      <th>ElimWeek</th>\n",
       "      <th>Season</th>\n",
       "    </tr>\n",
       "  </thead>\n",
       "  <tbody>\n",
       "    <tr>\n",
       "      <th>0</th>\n",
       "      <td>Ryan Sutter</td>\n",
       "      <td>29</td>\n",
       "      <td>Firefighter</td>\n",
       "      <td>Vail, Colorado</td>\n",
       "      <td>NaN</td>\n",
       "      <td>1</td>\n",
       "    </tr>\n",
       "    <tr>\n",
       "      <th>1</th>\n",
       "      <td>Charlie Maher</td>\n",
       "      <td>28</td>\n",
       "      <td>Financial Analyst</td>\n",
       "      <td>Hermosa Beach, California</td>\n",
       "      <td>6.0</td>\n",
       "      <td>1</td>\n",
       "    </tr>\n",
       "    <tr>\n",
       "      <th>2</th>\n",
       "      <td>Russ</td>\n",
       "      <td>30</td>\n",
       "      <td>Writer</td>\n",
       "      <td>San Rafael, California</td>\n",
       "      <td>5.0</td>\n",
       "      <td>1</td>\n",
       "    </tr>\n",
       "  </tbody>\n",
       "</table>\n",
       "</div>"
      ],
      "text/plain": [
       "            Name  Age         Occupation                   Hometown  ElimWeek  \\\n",
       "0    Ryan Sutter   29        Firefighter             Vail, Colorado       NaN   \n",
       "1  Charlie Maher   28  Financial Analyst  Hermosa Beach, California       6.0   \n",
       "2           Russ   30             Writer     San Rafael, California       5.0   \n",
       "\n",
       "   Season  \n",
       "0       1  \n",
       "1       1  \n",
       "2       1  "
      ]
     },
     "execution_count": 4,
     "metadata": {},
     "output_type": "execute_result"
    }
   ],
   "source": [
    "df.head(3)"
   ]
  },
  {
   "cell_type": "code",
   "execution_count": 5,
   "metadata": {},
   "outputs": [
    {
     "data": {
      "text/html": [
       "<div>\n",
       "<style scoped>\n",
       "    .dataframe tbody tr th:only-of-type {\n",
       "        vertical-align: middle;\n",
       "    }\n",
       "\n",
       "    .dataframe tbody tr th {\n",
       "        vertical-align: top;\n",
       "    }\n",
       "\n",
       "    .dataframe thead th {\n",
       "        text-align: right;\n",
       "    }\n",
       "</style>\n",
       "<table border=\"1\" class=\"dataframe\">\n",
       "  <thead>\n",
       "    <tr style=\"text-align: right;\">\n",
       "      <th></th>\n",
       "      <th>SEASON</th>\n",
       "      <th>CONTESTANT</th>\n",
       "      <th>ELIMINATION-1</th>\n",
       "      <th>ELIMINATION-2</th>\n",
       "      <th>ELIMINATION-3</th>\n",
       "      <th>ELIMINATION-4</th>\n",
       "      <th>ELIMINATION-5</th>\n",
       "      <th>ELIMINATION-6</th>\n",
       "      <th>ELIMINATION-7</th>\n",
       "      <th>ELIMINATION-8</th>\n",
       "      <th>...</th>\n",
       "      <th>DATES-1</th>\n",
       "      <th>DATES-2</th>\n",
       "      <th>DATES-3</th>\n",
       "      <th>DATES-4</th>\n",
       "      <th>DATES-5</th>\n",
       "      <th>DATES-6</th>\n",
       "      <th>DATES-7</th>\n",
       "      <th>DATES-8</th>\n",
       "      <th>DATES-9</th>\n",
       "      <th>DATES-10</th>\n",
       "    </tr>\n",
       "  </thead>\n",
       "  <tbody>\n",
       "    <tr>\n",
       "      <th>281</th>\n",
       "      <td>1</td>\n",
       "      <td>01_WAYNE_X</td>\n",
       "      <td>E</td>\n",
       "      <td>NaN</td>\n",
       "      <td>NaN</td>\n",
       "      <td>NaN</td>\n",
       "      <td>NaN</td>\n",
       "      <td>NaN</td>\n",
       "      <td>NaN</td>\n",
       "      <td>NaN</td>\n",
       "      <td>...</td>\n",
       "      <td>NaN</td>\n",
       "      <td>NaN</td>\n",
       "      <td>NaN</td>\n",
       "      <td>NaN</td>\n",
       "      <td>NaN</td>\n",
       "      <td>NaN</td>\n",
       "      <td>NaN</td>\n",
       "      <td>NaN</td>\n",
       "      <td>NaN</td>\n",
       "      <td>NaN</td>\n",
       "    </tr>\n",
       "    <tr>\n",
       "      <th>257</th>\n",
       "      <td>1</td>\n",
       "      <td>01_RYAN_S</td>\n",
       "      <td>NaN</td>\n",
       "      <td>NaN</td>\n",
       "      <td>NaN</td>\n",
       "      <td>NaN</td>\n",
       "      <td>NaN</td>\n",
       "      <td>W</td>\n",
       "      <td>NaN</td>\n",
       "      <td>NaN</td>\n",
       "      <td>...</td>\n",
       "      <td>NaN</td>\n",
       "      <td>D14</td>\n",
       "      <td>D1</td>\n",
       "      <td>D1</td>\n",
       "      <td>D1</td>\n",
       "      <td>D1</td>\n",
       "      <td>NaN</td>\n",
       "      <td>NaN</td>\n",
       "      <td>NaN</td>\n",
       "      <td>NaN</td>\n",
       "    </tr>\n",
       "    <tr>\n",
       "      <th>258</th>\n",
       "      <td>1</td>\n",
       "      <td>01_CHARLIE_M</td>\n",
       "      <td>NaN</td>\n",
       "      <td>NaN</td>\n",
       "      <td>NaN</td>\n",
       "      <td>NaN</td>\n",
       "      <td>NaN</td>\n",
       "      <td>E</td>\n",
       "      <td>NaN</td>\n",
       "      <td>NaN</td>\n",
       "      <td>...</td>\n",
       "      <td>NaN</td>\n",
       "      <td>D14</td>\n",
       "      <td>D1</td>\n",
       "      <td>D1</td>\n",
       "      <td>D1</td>\n",
       "      <td>D1</td>\n",
       "      <td>NaN</td>\n",
       "      <td>NaN</td>\n",
       "      <td>NaN</td>\n",
       "      <td>NaN</td>\n",
       "    </tr>\n",
       "  </tbody>\n",
       "</table>\n",
       "<p>3 rows × 22 columns</p>\n",
       "</div>"
      ],
      "text/plain": [
       "     SEASON    CONTESTANT ELIMINATION-1 ELIMINATION-2 ELIMINATION-3  \\\n",
       "281       1    01_WAYNE_X             E           NaN           NaN   \n",
       "257       1     01_RYAN_S           NaN           NaN           NaN   \n",
       "258       1  01_CHARLIE_M           NaN           NaN           NaN   \n",
       "\n",
       "    ELIMINATION-4 ELIMINATION-5 ELIMINATION-6 ELIMINATION-7 ELIMINATION-8  \\\n",
       "281           NaN           NaN           NaN           NaN           NaN   \n",
       "257           NaN           NaN             W           NaN           NaN   \n",
       "258           NaN           NaN             E           NaN           NaN   \n",
       "\n",
       "     ... DATES-1 DATES-2  DATES-3 DATES-4 DATES-5 DATES-6 DATES-7 DATES-8  \\\n",
       "281  ...     NaN     NaN      NaN     NaN     NaN     NaN     NaN     NaN   \n",
       "257  ...     NaN     D14       D1      D1      D1      D1     NaN     NaN   \n",
       "258  ...     NaN     D14       D1      D1      D1      D1     NaN     NaN   \n",
       "\n",
       "    DATES-9 DATES-10  \n",
       "281     NaN      NaN  \n",
       "257     NaN      NaN  \n",
       "258     NaN      NaN  \n",
       "\n",
       "[3 rows x 22 columns]"
      ]
     },
     "execution_count": 5,
     "metadata": {},
     "output_type": "execute_result"
    }
   ],
   "source": [
    "join.sort_values(by='SEASON').head(3)"
   ]
  },
  {
   "cell_type": "markdown",
   "metadata": {},
   "source": [
    "How to read the ```join``` DataFrame:\n",
    "\n",
    "Feature         | Description\n",
    "----------------|------------\n",
    "`ELIMINATION-1` | Who was eliminated in week 1\n",
    "`ELIMINATION-2` | Who was eliminated in week 2\n",
    "`ELIMINATION-3` | Who was eliminated in week 3\n",
    "`ELIMINATION-4` | Who was eliminated in week 4\n",
    "`ELIMINATION-5` | Who was eliminated in week 5\n",
    "`ELIMINATION-6` | Who was eliminated in week 6\n",
    "`ELIMINATION-7` | Who was eliminated in week 7\n",
    "`ELIMINATION-8` | Who was eliminated in week 8\n",
    "`ELIMINATION-9` | Who was eliminated in week 9\n",
    "`ELIMINATION-10`| Who was eliminated in week 10\n",
    "`DATES-1`       | Who was on which date in week 1\n",
    "`DATES-2`       | Who was on which date in week 2\n",
    "`DATES-3`       | Who was on which date in week 3\n",
    "`DATES-4`       | Who was on which date in week 4\n",
    "`DATES-5`       | Who was on which date in week 5\n",
    "`DATES-6`       | Who was on which date in week 6\n",
    "`DATES-7`       | Who was on which date in week 7\n",
    "`DATES-8`       | Who was on which date in week 8\n",
    "`DATES-9`       | Who was on which date in week 9\n",
    "`DATES-10`      | Who was on which date in week 10\n",
    "\n",
    "- Eliminates connote either an elimination (starts with \"E\") or a rose (starts with \"R\").\n",
    "- Eliminations supercede roses.\n",
    "- \"E\" connotes a standard elimination, typically at a rose ceremony. \"EQ\" means the contestant quits. \"EF\" means the contestant was fired by production. \"ED\" connotes a date elimination. \"EU\" connotes an unscheduled elimination, one that takes place at a time outside of a date or rose ceremony.\n",
    "- \"R\" means the contestant received a rose. \"R1\" means the contestant got a first impression rose.\n",
    "- \"D1\" means a one-on-one date, \"D2\" means a 2-on-1, \"D3\" means a 3-on-1 group date, and so on.\n",
    "- Weeks of the show are deliminated by rose ceremonies, and may not line up exactly with episodes."
   ]
  },
  {
   "cell_type": "markdown",
   "metadata": {},
   "source": [
    "Now I'll join the two dataframes."
   ]
  },
  {
   "cell_type": "code",
   "execution_count": 6,
   "metadata": {},
   "outputs": [],
   "source": [
    "df = join_dfs(df, join)"
   ]
  },
  {
   "cell_type": "code",
   "execution_count": 7,
   "metadata": {},
   "outputs": [
    {
     "data": {
      "text/html": [
       "<div>\n",
       "<style scoped>\n",
       "    .dataframe tbody tr th:only-of-type {\n",
       "        vertical-align: middle;\n",
       "    }\n",
       "\n",
       "    .dataframe tbody tr th {\n",
       "        vertical-align: top;\n",
       "    }\n",
       "\n",
       "    .dataframe thead th {\n",
       "        text-align: right;\n",
       "    }\n",
       "</style>\n",
       "<table border=\"1\" class=\"dataframe\">\n",
       "  <thead>\n",
       "    <tr style=\"text-align: right;\">\n",
       "      <th></th>\n",
       "      <th>Name</th>\n",
       "      <th>Age</th>\n",
       "      <th>Occupation</th>\n",
       "      <th>Hometown</th>\n",
       "      <th>ElimWeek</th>\n",
       "      <th>Season</th>\n",
       "      <th>ELIMINATION-1</th>\n",
       "      <th>ELIMINATION-2</th>\n",
       "      <th>ELIMINATION-3</th>\n",
       "      <th>ELIMINATION-4</th>\n",
       "      <th>...</th>\n",
       "      <th>DATES-1</th>\n",
       "      <th>DATES-2</th>\n",
       "      <th>DATES-3</th>\n",
       "      <th>DATES-4</th>\n",
       "      <th>DATES-5</th>\n",
       "      <th>DATES-6</th>\n",
       "      <th>DATES-7</th>\n",
       "      <th>DATES-8</th>\n",
       "      <th>DATES-9</th>\n",
       "      <th>DATES-10</th>\n",
       "    </tr>\n",
       "    <tr>\n",
       "      <th>CONTESTANT</th>\n",
       "      <th></th>\n",
       "      <th></th>\n",
       "      <th></th>\n",
       "      <th></th>\n",
       "      <th></th>\n",
       "      <th></th>\n",
       "      <th></th>\n",
       "      <th></th>\n",
       "      <th></th>\n",
       "      <th></th>\n",
       "      <th></th>\n",
       "      <th></th>\n",
       "      <th></th>\n",
       "      <th></th>\n",
       "      <th></th>\n",
       "      <th></th>\n",
       "      <th></th>\n",
       "      <th></th>\n",
       "      <th></th>\n",
       "      <th></th>\n",
       "      <th></th>\n",
       "    </tr>\n",
       "  </thead>\n",
       "  <tbody>\n",
       "    <tr>\n",
       "      <th>1_RYAN_S</th>\n",
       "      <td>Ryan Sutter</td>\n",
       "      <td>29</td>\n",
       "      <td>Firefighter</td>\n",
       "      <td>Vail, Colorado</td>\n",
       "      <td>NaN</td>\n",
       "      <td>1</td>\n",
       "      <td>NaN</td>\n",
       "      <td>NaN</td>\n",
       "      <td>NaN</td>\n",
       "      <td>NaN</td>\n",
       "      <td>...</td>\n",
       "      <td>NaN</td>\n",
       "      <td>D14</td>\n",
       "      <td>D1</td>\n",
       "      <td>D1</td>\n",
       "      <td>D1</td>\n",
       "      <td>D1</td>\n",
       "      <td>NaN</td>\n",
       "      <td>NaN</td>\n",
       "      <td>NaN</td>\n",
       "      <td>NaN</td>\n",
       "    </tr>\n",
       "    <tr>\n",
       "      <th>1_CHARLIE_M</th>\n",
       "      <td>Charlie Maher</td>\n",
       "      <td>28</td>\n",
       "      <td>Financial Analyst</td>\n",
       "      <td>Hermosa Beach, California</td>\n",
       "      <td>6.0</td>\n",
       "      <td>1</td>\n",
       "      <td>NaN</td>\n",
       "      <td>NaN</td>\n",
       "      <td>NaN</td>\n",
       "      <td>NaN</td>\n",
       "      <td>...</td>\n",
       "      <td>NaN</td>\n",
       "      <td>D14</td>\n",
       "      <td>D1</td>\n",
       "      <td>D1</td>\n",
       "      <td>D1</td>\n",
       "      <td>D1</td>\n",
       "      <td>NaN</td>\n",
       "      <td>NaN</td>\n",
       "      <td>NaN</td>\n",
       "      <td>NaN</td>\n",
       "    </tr>\n",
       "    <tr>\n",
       "      <th>1_RUSS_X</th>\n",
       "      <td>Russ</td>\n",
       "      <td>30</td>\n",
       "      <td>Writer</td>\n",
       "      <td>San Rafael, California</td>\n",
       "      <td>5.0</td>\n",
       "      <td>1</td>\n",
       "      <td>NaN</td>\n",
       "      <td>NaN</td>\n",
       "      <td>NaN</td>\n",
       "      <td>NaN</td>\n",
       "      <td>...</td>\n",
       "      <td>NaN</td>\n",
       "      <td>D14</td>\n",
       "      <td>D1</td>\n",
       "      <td>D1</td>\n",
       "      <td>D1</td>\n",
       "      <td>NaN</td>\n",
       "      <td>NaN</td>\n",
       "      <td>NaN</td>\n",
       "      <td>NaN</td>\n",
       "      <td>NaN</td>\n",
       "    </tr>\n",
       "  </tbody>\n",
       "</table>\n",
       "<p>3 rows × 26 columns</p>\n",
       "</div>"
      ],
      "text/plain": [
       "                      Name  Age         Occupation                   Hometown  \\\n",
       "CONTESTANT                                                                      \n",
       "1_RYAN_S       Ryan Sutter   29        Firefighter             Vail, Colorado   \n",
       "1_CHARLIE_M  Charlie Maher   28  Financial Analyst  Hermosa Beach, California   \n",
       "1_RUSS_X              Russ   30             Writer     San Rafael, California   \n",
       "\n",
       "             ElimWeek  Season ELIMINATION-1 ELIMINATION-2 ELIMINATION-3  \\\n",
       "CONTESTANT                                                                \n",
       "1_RYAN_S          NaN       1           NaN           NaN           NaN   \n",
       "1_CHARLIE_M       6.0       1           NaN           NaN           NaN   \n",
       "1_RUSS_X          5.0       1           NaN           NaN           NaN   \n",
       "\n",
       "            ELIMINATION-4  ... DATES-1 DATES-2 DATES-3 DATES-4 DATES-5  \\\n",
       "CONTESTANT                 ...                                           \n",
       "1_RYAN_S              NaN  ...     NaN     D14      D1      D1      D1   \n",
       "1_CHARLIE_M           NaN  ...     NaN     D14      D1      D1      D1   \n",
       "1_RUSS_X              NaN  ...     NaN     D14      D1      D1      D1   \n",
       "\n",
       "            DATES-6  DATES-7 DATES-8 DATES-9 DATES-10  \n",
       "CONTESTANT                                             \n",
       "1_RYAN_S         D1      NaN     NaN     NaN      NaN  \n",
       "1_CHARLIE_M      D1      NaN     NaN     NaN      NaN  \n",
       "1_RUSS_X        NaN      NaN     NaN     NaN      NaN  \n",
       "\n",
       "[3 rows x 26 columns]"
      ]
     },
     "execution_count": 7,
     "metadata": {},
     "output_type": "execute_result"
    }
   ],
   "source": [
    "df.head(3)"
   ]
  },
  {
   "cell_type": "markdown",
   "metadata": {},
   "source": [
    "Drop redundant features and unnecessary features for the project MVP (minimally viable product):\n",
    "* ```ELIMINATION-1```\n",
    "* ```ELIMINATION-2```\n",
    "* ```ELIMINATION-3```\n",
    "* ```ELIMINATION-4```\n",
    "* ```ELIMINATION-5```\n",
    "* ```ELIMINATION-6```\n",
    "* ```ELIMINATION-7```\n",
    "* ```ELIMINATION-8```\n",
    "* ```ELIMINATION-9```\n",
    "* ```ELIMINATION-10```\n",
    "* ```Hometown```\n",
    "* ```Occupation```\n",
    "* ```Name```\n",
    "* ```Season```\n",
    "* ```DATES-1```"
   ]
  },
  {
   "cell_type": "code",
   "execution_count": 8,
   "metadata": {},
   "outputs": [],
   "source": [
    "df = drop_extra_cols(df)"
   ]
  },
  {
   "cell_type": "code",
   "execution_count": 9,
   "metadata": {},
   "outputs": [
    {
     "data": {
      "text/html": [
       "<div>\n",
       "<style scoped>\n",
       "    .dataframe tbody tr th:only-of-type {\n",
       "        vertical-align: middle;\n",
       "    }\n",
       "\n",
       "    .dataframe tbody tr th {\n",
       "        vertical-align: top;\n",
       "    }\n",
       "\n",
       "    .dataframe thead th {\n",
       "        text-align: right;\n",
       "    }\n",
       "</style>\n",
       "<table border=\"1\" class=\"dataframe\">\n",
       "  <thead>\n",
       "    <tr style=\"text-align: right;\">\n",
       "      <th></th>\n",
       "      <th>Age</th>\n",
       "      <th>ElimWeek</th>\n",
       "      <th>Season</th>\n",
       "      <th>DATES-2</th>\n",
       "      <th>DATES-3</th>\n",
       "      <th>DATES-4</th>\n",
       "      <th>DATES-5</th>\n",
       "      <th>DATES-6</th>\n",
       "      <th>DATES-7</th>\n",
       "      <th>DATES-8</th>\n",
       "      <th>DATES-9</th>\n",
       "      <th>DATES-10</th>\n",
       "    </tr>\n",
       "    <tr>\n",
       "      <th>CONTESTANT</th>\n",
       "      <th></th>\n",
       "      <th></th>\n",
       "      <th></th>\n",
       "      <th></th>\n",
       "      <th></th>\n",
       "      <th></th>\n",
       "      <th></th>\n",
       "      <th></th>\n",
       "      <th></th>\n",
       "      <th></th>\n",
       "      <th></th>\n",
       "      <th></th>\n",
       "    </tr>\n",
       "  </thead>\n",
       "  <tbody>\n",
       "    <tr>\n",
       "      <th>1_RYAN_S</th>\n",
       "      <td>29</td>\n",
       "      <td>NaN</td>\n",
       "      <td>1</td>\n",
       "      <td>D14</td>\n",
       "      <td>D1</td>\n",
       "      <td>D1</td>\n",
       "      <td>D1</td>\n",
       "      <td>D1</td>\n",
       "      <td>NaN</td>\n",
       "      <td>NaN</td>\n",
       "      <td>NaN</td>\n",
       "      <td>NaN</td>\n",
       "    </tr>\n",
       "    <tr>\n",
       "      <th>1_CHARLIE_M</th>\n",
       "      <td>28</td>\n",
       "      <td>6.0</td>\n",
       "      <td>1</td>\n",
       "      <td>D14</td>\n",
       "      <td>D1</td>\n",
       "      <td>D1</td>\n",
       "      <td>D1</td>\n",
       "      <td>D1</td>\n",
       "      <td>NaN</td>\n",
       "      <td>NaN</td>\n",
       "      <td>NaN</td>\n",
       "      <td>NaN</td>\n",
       "    </tr>\n",
       "    <tr>\n",
       "      <th>1_RUSS_X</th>\n",
       "      <td>30</td>\n",
       "      <td>5.0</td>\n",
       "      <td>1</td>\n",
       "      <td>D14</td>\n",
       "      <td>D1</td>\n",
       "      <td>D1</td>\n",
       "      <td>D1</td>\n",
       "      <td>NaN</td>\n",
       "      <td>NaN</td>\n",
       "      <td>NaN</td>\n",
       "      <td>NaN</td>\n",
       "      <td>NaN</td>\n",
       "    </tr>\n",
       "  </tbody>\n",
       "</table>\n",
       "</div>"
      ],
      "text/plain": [
       "             Age  ElimWeek  Season DATES-2 DATES-3 DATES-4 DATES-5 DATES-6  \\\n",
       "CONTESTANT                                                                   \n",
       "1_RYAN_S      29       NaN       1     D14      D1      D1      D1      D1   \n",
       "1_CHARLIE_M   28       6.0       1     D14      D1      D1      D1      D1   \n",
       "1_RUSS_X      30       5.0       1     D14      D1      D1      D1     NaN   \n",
       "\n",
       "            DATES-7 DATES-8 DATES-9 DATES-10  \n",
       "CONTESTANT                                    \n",
       "1_RYAN_S        NaN     NaN     NaN      NaN  \n",
       "1_CHARLIE_M     NaN     NaN     NaN      NaN  \n",
       "1_RUSS_X        NaN     NaN     NaN      NaN  "
      ]
     },
     "execution_count": 9,
     "metadata": {},
     "output_type": "execute_result"
    }
   ],
   "source": [
    "df.head(3)"
   ]
  },
  {
   "cell_type": "code",
   "execution_count": 10,
   "metadata": {},
   "outputs": [
    {
     "data": {
      "text/plain": [
       "Age           0\n",
       "ElimWeek      9\n",
       "Season        0\n",
       "DATES-2     109\n",
       "DATES-3     135\n",
       "DATES-4     159\n",
       "DATES-5     174\n",
       "DATES-6     198\n",
       "DATES-7     215\n",
       "DATES-8     232\n",
       "DATES-9     244\n",
       "DATES-10    253\n",
       "dtype: int64"
      ]
     },
     "execution_count": 10,
     "metadata": {},
     "output_type": "execute_result"
    }
   ],
   "source": [
    "df.isna().sum()"
   ]
  },
  {
   "cell_type": "markdown",
   "metadata": {},
   "source": [
    "## Preprocessing"
   ]
  },
  {
   "cell_type": "markdown",
   "metadata": {},
   "source": [
    "### Encoding, Imputing Nulls, and Feature Engineering with ```DATES``` and ```ELIMINATION```\n",
    "\n",
    "* **NaNs in ```ElimWeek``` mean that that contestant won their season. I encoded this as 11.0**, representing that the contestants lasted until/past the end of their season (as Week 10 is the last week).\n",
    "    * The choice to make winning contests have an ```ElimWeek``` of 11 may cause slightly lower One-on-One scores for winning contests because the dividing value (that I'm using to average the amount of One-on-One time per week) is ```ElimWeek```, yet there are no dates in the 11th week. I will compensate for this in a future iteration.\n",
    "    * This calculation also does not account for seasons ending early/a contestant getting a win before Week 10. I will address this in a future iteration as well.\n",
    "\n",
    "\n",
    "* **I dropped ```ELIMINATION``` features** because the presence of values there has a direct relationship with how many weeks a contestant lasts.\n",
    "    * However, I may engineer features out of these columns, such as ```ReceivedFirstImpressionRose``` that don't have a direct correlation to how many weeks a contestant stays.\n",
    "\n",
    "\n",
    "* **To quantify the dates as a ```One-on-One_Score```, I made them each a float value** that is equal to ```1``` divided by the ```number of people on the date``` per each date, and then summed and averaged by each contestant's ```ElimWeek``` (number of weeks they lasted on the show).\n",
    "    * My reasoning behind this is that, anecdotally speaking, the fewer other people present on a date, the more that that date can affect the standing of a contestant on the date.\n",
    "    * Therefore, the highest date value a contestant can have is if the value is 1, meaning they went on a date in that episode, and they went on that date as a One-on-One (a highly coveted type of date in the world of The Bachelorette).\n",
    "    \n",
    "    \n",
    "* **I created ```First_Date``` feature**.\n",
    "    * This feature is a boolean that represents if a contestant was chosen to go on a date in the second week of their season, which is the week in which the first dates between the Bachelorette and the contestants occur.\n",
    " \n",
    " \n",
    "* **I dropped unneeded columns** that were used to feature-engineer.\n",
    " \n",
    "    \n",
    "* I want to create a ```Homestate``` feature in a future iteration of this project."
   ]
  },
  {
   "cell_type": "code",
   "execution_count": 11,
   "metadata": {},
   "outputs": [],
   "source": [
    "df = handle_dates_and_elims(df)"
   ]
  },
  {
   "cell_type": "code",
   "execution_count": 12,
   "metadata": {},
   "outputs": [
    {
     "data": {
      "text/html": [
       "<div>\n",
       "<style scoped>\n",
       "    .dataframe tbody tr th:only-of-type {\n",
       "        vertical-align: middle;\n",
       "    }\n",
       "\n",
       "    .dataframe tbody tr th {\n",
       "        vertical-align: top;\n",
       "    }\n",
       "\n",
       "    .dataframe thead th {\n",
       "        text-align: right;\n",
       "    }\n",
       "</style>\n",
       "<table border=\"1\" class=\"dataframe\">\n",
       "  <thead>\n",
       "    <tr style=\"text-align: right;\">\n",
       "      <th></th>\n",
       "      <th>Age</th>\n",
       "      <th>ElimWeek</th>\n",
       "      <th>Season</th>\n",
       "      <th>One-on-One_Score</th>\n",
       "      <th>FirstDate</th>\n",
       "    </tr>\n",
       "    <tr>\n",
       "      <th>CONTESTANT</th>\n",
       "      <th></th>\n",
       "      <th></th>\n",
       "      <th></th>\n",
       "      <th></th>\n",
       "      <th></th>\n",
       "    </tr>\n",
       "  </thead>\n",
       "  <tbody>\n",
       "    <tr>\n",
       "      <th>4_PAUL_B</th>\n",
       "      <td>23</td>\n",
       "      <td>3.0</td>\n",
       "      <td>4</td>\n",
       "      <td>0.060714</td>\n",
       "      <td>1.0</td>\n",
       "    </tr>\n",
       "    <tr>\n",
       "      <th>2_CORY_H</th>\n",
       "      <td>24</td>\n",
       "      <td>1.0</td>\n",
       "      <td>2</td>\n",
       "      <td>0.000000</td>\n",
       "      <td>0.0</td>\n",
       "    </tr>\n",
       "    <tr>\n",
       "      <th>1_MIKE_X</th>\n",
       "      <td>24</td>\n",
       "      <td>3.0</td>\n",
       "      <td>1</td>\n",
       "      <td>0.067857</td>\n",
       "      <td>1.0</td>\n",
       "    </tr>\n",
       "  </tbody>\n",
       "</table>\n",
       "</div>"
      ],
      "text/plain": [
       "            Age  ElimWeek  Season  One-on-One_Score  FirstDate\n",
       "CONTESTANT                                                    \n",
       "4_PAUL_B     23       3.0       4          0.060714        1.0\n",
       "2_CORY_H     24       1.0       2          0.000000        0.0\n",
       "1_MIKE_X     24       3.0       1          0.067857        1.0"
      ]
     },
     "execution_count": 12,
     "metadata": {},
     "output_type": "execute_result"
    }
   ],
   "source": [
    "# quick peek at the data, sorted by age to avoid seeing too much of one season\n",
    "# and to make sure FirstDate is showing up correctly\n",
    "df.sort_values(by='Age').head(3)"
   ]
  },
  {
   "cell_type": "markdown",
   "metadata": {},
   "source": [
    "### Train, validate, test splits"
   ]
  },
  {
   "cell_type": "markdown",
   "metadata": {},
   "source": [
    "```ElimWeek``` is the feature we will be predicting on."
   ]
  },
  {
   "cell_type": "code",
   "execution_count": 13,
   "metadata": {},
   "outputs": [
    {
     "name": "stdout",
     "output_type": "stream",
     "text": [
      "Shape of train: (230, 4) | Shape of validate: (18, 4) | Shape of test: (16, 4)\n"
     ]
    }
   ],
   "source": [
    "X_train, y_train, X_validate, y_validate, X_test, y_test, train, validate, test = train_validate_test(df, 'ElimWeek')"
   ]
  },
  {
   "cell_type": "code",
   "execution_count": 14,
   "metadata": {},
   "outputs": [
    {
     "data": {
      "text/html": [
       "<div>\n",
       "<style scoped>\n",
       "    .dataframe tbody tr th:only-of-type {\n",
       "        vertical-align: middle;\n",
       "    }\n",
       "\n",
       "    .dataframe tbody tr th {\n",
       "        vertical-align: top;\n",
       "    }\n",
       "\n",
       "    .dataframe thead th {\n",
       "        text-align: right;\n",
       "    }\n",
       "</style>\n",
       "<table border=\"1\" class=\"dataframe\">\n",
       "  <thead>\n",
       "    <tr style=\"text-align: right;\">\n",
       "      <th></th>\n",
       "      <th>Age</th>\n",
       "      <th>Season</th>\n",
       "      <th>One-on-One_Score</th>\n",
       "      <th>FirstDate</th>\n",
       "    </tr>\n",
       "    <tr>\n",
       "      <th>CONTESTANT</th>\n",
       "      <th></th>\n",
       "      <th></th>\n",
       "      <th></th>\n",
       "      <th></th>\n",
       "    </tr>\n",
       "  </thead>\n",
       "  <tbody>\n",
       "    <tr>\n",
       "      <th>1_CHARLIE_M</th>\n",
       "      <td>28</td>\n",
       "      <td>1</td>\n",
       "      <td>0.581633</td>\n",
       "      <td>1.0</td>\n",
       "    </tr>\n",
       "    <tr>\n",
       "      <th>1_RUSS_X</th>\n",
       "      <td>30</td>\n",
       "      <td>1</td>\n",
       "      <td>0.511905</td>\n",
       "      <td>1.0</td>\n",
       "    </tr>\n",
       "    <tr>\n",
       "      <th>1_GREG_T</th>\n",
       "      <td>28</td>\n",
       "      <td>1</td>\n",
       "      <td>0.254286</td>\n",
       "      <td>1.0</td>\n",
       "    </tr>\n",
       "  </tbody>\n",
       "</table>\n",
       "</div>"
      ],
      "text/plain": [
       "             Age  Season  One-on-One_Score  FirstDate\n",
       "CONTESTANT                                           \n",
       "1_CHARLIE_M   28       1          0.581633        1.0\n",
       "1_RUSS_X      30       1          0.511905        1.0\n",
       "1_GREG_T      28       1          0.254286        1.0"
      ]
     },
     "execution_count": 14,
     "metadata": {},
     "output_type": "execute_result"
    }
   ],
   "source": [
    "X_train.head(3)"
   ]
  },
  {
   "cell_type": "code",
   "execution_count": 15,
   "metadata": {},
   "outputs": [
    {
     "data": {
      "text/plain": [
       "CONTESTANT\n",
       "1_CHARLIE_M    6.0\n",
       "1_RUSS_X       5.0\n",
       "1_GREG_T       4.0\n",
       "Name: ElimWeek, dtype: float64"
      ]
     },
     "execution_count": 15,
     "metadata": {},
     "output_type": "execute_result"
    }
   ],
   "source": [
    "y_train.head(3)"
   ]
  },
  {
   "cell_type": "markdown",
   "metadata": {},
   "source": [
    "### Scale the data"
   ]
  },
  {
   "cell_type": "markdown",
   "metadata": {},
   "source": [
    "I'll scale the data on my next iteration through the data science pipeline."
   ]
  },
  {
   "cell_type": "markdown",
   "metadata": {},
   "source": [
    "## Exploratory Data Analysis"
   ]
  },
  {
   "cell_type": "markdown",
   "metadata": {},
   "source": [
    "### Which contestants last more weeks, by season and age?"
   ]
  },
  {
   "cell_type": "code",
   "execution_count": 16,
   "metadata": {},
   "outputs": [
    {
     "data": {
      "image/png": "[encoded data removed]",
      "text/plain": [
       "<Figure size 864x576 with 2 Axes>"
      ]
     },
     "metadata": {
      "needs_background": "light"
     },
     "output_type": "display_data"
    }
   ],
   "source": [
    "make_heatmap(train)"
   ]
  },
  {
   "cell_type": "markdown",
   "metadata": {},
   "source": [
    "Beginning with the first season of The Bachelorette (which aired in 2003), it looks like the overall trend across seasons and time was increasingly favorsome towards younger contestants... That is, until Season 12 decided to invert that trend."
   ]
  },
  {
   "cell_type": "markdown",
   "metadata": {},
   "source": [
    "### Does getting one of the first dates in the season mean that a contestant will get more One-on-One time?"
   ]
  },
  {
   "cell_type": "code",
   "execution_count": 17,
   "metadata": {},
   "outputs": [
    {
     "data": {
      "image/png": "[encoded data removed]",
      "text/plain": [
       "<Figure size 864x576 with 1 Axes>"
      ]
     },
     "metadata": {
      "needs_background": "light"
     },
     "output_type": "display_data"
    }
   ],
   "source": [
    "firstdate_swarmplot(train)"
   ]
  },
  {
   "cell_type": "code",
   "execution_count": 18,
   "metadata": {},
   "outputs": [
    {
     "data": {
      "image/png": "[encoded data removed]",
      "text/plain": [
       "<Figure size 921.6x864 with 11 Axes>"
      ]
     },
     "metadata": {
      "needs_background": "light"
     },
     "output_type": "display_data"
    }
   ],
   "source": [
    "swarmplot_by_season(train)"
   ]
  },
  {
   "cell_type": "markdown",
   "metadata": {},
   "source": [
    "For the most part, contestants that didn't get one of the first dates with the bachelorette didn't get nearly as much future date time as their counterparts who *did* go on one of the first dates.\n",
    "\n",
    "In two seasons, however, the contestants who ended up getting the highest One-on-One scores actually did *not* get one of the first dates of their respective seasons.\n",
    "\n",
    "Getting one of the First Dates does have a great effect on a contestant's future time with the bachelorette, but it's not necessarily a game-ender.\n",
    "\n",
    "In fact, most of the contestants that went on to get any date time at all with the bachelorette -- after not going on a 'FirstDate' -- actually got more time than many of the other contestants who did go on a 'FirstDate'."
   ]
  },
  {
   "cell_type": "markdown",
   "metadata": {},
   "source": [
    "### Is there a linear relationship between One-on-One_Score and ElimWeek?\n",
    "\n",
    "$\n",
    "\\begin{align*}\n",
    "   H_0 & : \\text{There is no linear correlation between a contestant's One-on-One Score and a contestant's Elimination Week.}\n",
    "   \\\\\n",
    "   H_a & : \\text{There is a linear correlation between a contestant's One-on-One Score and a contestant's Elimination Week.}\n",
    "   \\\\\n",
    "    \\alpha & : \\text{0.05}\n",
    "\\end{align*}\n",
    "$"
   ]
  },
  {
   "cell_type": "code",
   "execution_count": 19,
   "metadata": {},
   "outputs": [],
   "source": [
    "alpha = 0.05\n",
    "x = train['One-on-One_Score']\n",
    "y = train.ElimWeek"
   ]
  },
  {
   "cell_type": "code",
   "execution_count": 20,
   "metadata": {},
   "outputs": [
    {
     "name": "stdout",
     "output_type": "stream",
     "text": [
      "r = 0.7241964820324028\n",
      "p = 1.1487134553082167e-38\n",
      "\n",
      "\n",
      "We reject the hypothesis that there is no linear correlation between a contestant's One-on-One Score and a contestant's Elimination Week.\n"
     ]
    }
   ],
   "source": [
    "pearsons_test(train, x, y, alpha)"
   ]
  },
  {
   "cell_type": "markdown",
   "metadata": {},
   "source": [
    "## Predictive Modeling\n",
    "\n",
    "**The goal is to produce a predictive model that outperforms the baseline in predicting the target value -- in this case, ```ElimWeek```.**"
   ]
  },
  {
   "cell_type": "markdown",
   "metadata": {},
   "source": [
    "### Define and Evaluate Baseline"
   ]
  },
  {
   "cell_type": "code",
   "execution_count": 21,
   "metadata": {},
   "outputs": [
    {
     "data": {
      "text/plain": [
       "2.9695652173913043"
      ]
     },
     "execution_count": 21,
     "metadata": {},
     "output_type": "execute_result"
    }
   ],
   "source": [
    "#np.median(y_train)\n",
    "np.mean(y_train)"
   ]
  },
  {
   "cell_type": "code",
   "execution_count": 22,
   "metadata": {},
   "outputs": [
    {
     "name": "stdout",
     "output_type": "stream",
     "text": [
      "RMSE (Root Mean Square Error) of Baseline on train data:\n",
      " 1.927798\n",
      "RMSE (Root Mean Square Error) of Baseline on validate data:\n",
      " 15.110608\n"
     ]
    }
   ],
   "source": [
    "#baseline = y_train.median()\n",
    "baseline = y_train.mean()\n",
    "\n",
    "evaluate_baseline(baseline, y_train, y_validate)"
   ]
  },
  {
   "cell_type": "markdown",
   "metadata": {},
   "source": [
    "Mean performed better than median. So, my baseline will be ```3.727891156462585```."
   ]
  },
  {
   "cell_type": "markdown",
   "metadata": {},
   "source": [
    "### Model 1 - Ordinary Least Squares (OLS) using Linear Regression"
   ]
  },
  {
   "cell_type": "code",
   "execution_count": 23,
   "metadata": {},
   "outputs": [
    {
     "data": {
      "text/plain": [
       "Index(['Age', 'Season', 'One-on-One_Score', 'FirstDate'], dtype='object')"
      ]
     },
     "execution_count": 23,
     "metadata": {},
     "output_type": "execute_result"
    }
   ],
   "source": [
    "# show features\n",
    "X_train.columns"
   ]
  },
  {
   "cell_type": "code",
   "execution_count": 24,
   "metadata": {},
   "outputs": [
    {
     "name": "stdout",
     "output_type": "stream",
     "text": [
      "RMSE for OLS using LinearRegression\n",
      "\n",
      "On train data:\n",
      " 0.74232 \n",
      "\n",
      " On validate data:\n",
      " 3.759939\n"
     ]
    }
   ],
   "source": [
    "# use all features except season\n",
    "\n",
    "X = X_train.drop(columns=['Season'])\n",
    "y = y_train\n",
    "\n",
    "X_v = X_validate.drop(columns=['Season'])\n",
    "y_v = y_validate\n",
    "\n",
    "lm_pred, lm_rmse, lm_pred_v, lm_rmse_v = model_1(X, y, X_v, y_v)"
   ]
  },
  {
   "cell_type": "markdown",
   "metadata": {},
   "source": [
    "This model performs better than the baseline. 🎉"
   ]
  },
  {
   "cell_type": "markdown",
   "metadata": {},
   "source": [
    "**Now that I know Model 1 is the best performing, I will test it on the test data.**"
   ]
  },
  {
   "cell_type": "code",
   "execution_count": 25,
   "metadata": {},
   "outputs": [
    {
     "name": "stdout",
     "output_type": "stream",
     "text": [
      "RMSE for OLS using LinearRegression\n",
      "\n",
      "On test data:\n",
      " 0.087215\n"
     ]
    }
   ],
   "source": [
    "# use all features except season\n",
    "\n",
    "X = X_test.drop(columns=['Season'])\n",
    "y = y_test\n",
    "\n",
    "lm_pred, lm_rmse = model_1_test(X, y)"
   ]
  },
  {
   "cell_type": "markdown",
   "metadata": {},
   "source": [
    "**Looks good!! Model 1 performs the best and beats the baseline.** 🥳"
   ]
  },
  {
   "cell_type": "markdown",
   "metadata": {},
   "source": [
    "## Conclusions"
   ]
  },
  {
   "cell_type": "markdown",
   "metadata": {},
   "source": [
    "Next iteration - Redo splits by treating sort of like a time-series. Split down ElimWeek for train, validate, test.\n",
    "\n",
    "i.e.,\n",
    "```\n",
    "ElimWeek 0.0 to 8.0 (75%) | ElimWeek 9.0 - 10.0 (16.667%) | ElimWeek 11.0 (~8.333%)\n",
    "```"
   ]
  },
  {
   "cell_type": "code",
   "execution_count": 26,
   "metadata": {},
   "outputs": [
    {
     "ename": "NameError",
     "evalue": "name 'cute' is not defined",
     "output_type": "error",
     "traceback": [
      "\u001b[0;31m---------------------------------------------------------------------------\u001b[0m",
      "\u001b[0;31mNameError\u001b[0m                                 Traceback (most recent call last)",
      "\u001b[0;32m<ipython-input-26-6b5a73c66514>\u001b[0m in \u001b[0;36m<module>\u001b[0;34m\u001b[0m\n\u001b[0;32m----> 1\u001b[0;31m \u001b[0mcute\u001b[0m\u001b[0;34m[\u001b[0m\u001b[0mcute\u001b[0m\u001b[0;34m[\u001b[0m\u001b[0;34m'ElimWeek'\u001b[0m\u001b[0;34m]\u001b[0m \u001b[0;34m>=\u001b[0m \u001b[0;36m10.0\u001b[0m\u001b[0;34m]\u001b[0m\u001b[0;34m\u001b[0m\u001b[0;34m\u001b[0m\u001b[0m\n\u001b[0m",
      "\u001b[0;31mNameError\u001b[0m: name 'cute' is not defined"
     ]
    }
   ],
   "source": [
    "cute[cute['ElimWeek'] >= 10.0]"
   ]
  },
  {
   "cell_type": "markdown",
   "metadata": {},
   "source": [
    "Well, that did not work because they all have the same predictive value... Womp, womp. I'll try splitting by Season instead."
   ]
  },
  {
   "cell_type": "code",
   "execution_count": null,
   "metadata": {},
   "outputs": [],
   "source": []
  }
 ],
 "metadata": {
  "kernelspec": {
   "display_name": "Python 3",
   "language": "python",
   "name": "python3"
  },
  "language_info": {
   "codemirror_mode": {
    "name": "ipython",
    "version": 3
   },
   "file_extension": ".py",
   "mimetype": "text/x-python",
   "name": "python",
   "nbconvert_exporter": "python",
   "pygments_lexer": "ipython3",
   "version": "3.8.3"
  }
 },
 "nbformat": 4,
 "nbformat_minor": 4
}
