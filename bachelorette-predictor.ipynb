{
 "cells": [
  {
   "cell_type": "markdown",
   "metadata": {},
   "source": [
    "# The Bachelorette Predictor\n",
    "### Kwame V. Taylor\n",
    "\n",
    "The goal of this project is to create a machine learning model that accurately predicts how many weeks a contestant will last on the ABC reality show The Bachelorette, based on data from Seasons 1-2 and 4-12.\n",
    "\n",
    "**Warning: This project contains *many* spoilers for past seasons.** Proceed at your own risk.\n",
    "\n",
    "<img src=\"https://miro.medium.com/max/1280/1*S6OS8YFJWx0LT9wXNi0LkQ.png\">"
   ]
  },
  {
   "cell_type": "markdown",
   "metadata": {},
   "source": [
    "## Set up Environment"
   ]
  },
  {
   "cell_type": "code",
   "execution_count": 1,
   "metadata": {},
   "outputs": [],
   "source": [
    "import numpy as np\n",
    "import pandas as pd\n",
    "\n",
    "import matplotlib.pyplot as plt\n",
    "#plt.style.use('ggplot')\n",
    "import matplotlib as mpl\n",
    "\n",
    "from cycler import cycler\n",
    "import seaborn as sns\n",
    "\n",
    "# default viz size settings\n",
    "plt.rc('figure', figsize=(12, 8))\n",
    "plt.rc('font', size=15)\n",
    "mpl.rcParams['lines.linewidth'] = 2\n",
    "mpl.rcParams['lines.linestyle'] = '--'\n",
    "mpl.rcParams['axes.prop_cycle'] = cycler(color=['deepskyblue', 'firebrick', 'darkseagreen', 'violet'])\n",
    "\n",
    "import warnings\n",
    "warnings.filterwarnings(\"ignore\")"
   ]
  },
  {
   "cell_type": "code",
   "execution_count": 2,
   "metadata": {},
   "outputs": [],
   "source": [
    "from wrangle import acquire_data, join_dfs, drop_extra_cols\n",
    "from preprocessing import handle_dates_and_elims, train_validate_test"
   ]
  },
  {
   "cell_type": "markdown",
   "metadata": {},
   "source": [
    "## Acquire & Prepare (Wrangle) the Data"
   ]
  },
  {
   "cell_type": "markdown",
   "metadata": {},
   "source": [
    "Import raw datasets."
   ]
  },
  {
   "cell_type": "code",
   "execution_count": 17,
   "metadata": {},
   "outputs": [],
   "source": [
    "df, join = acquire_data()"
   ]
  },
  {
   "cell_type": "code",
   "execution_count": 4,
   "metadata": {},
   "outputs": [
    {
     "data": {
      "text/html": [
       "<div>\n",
       "<style scoped>\n",
       "    .dataframe tbody tr th:only-of-type {\n",
       "        vertical-align: middle;\n",
       "    }\n",
       "\n",
       "    .dataframe tbody tr th {\n",
       "        vertical-align: top;\n",
       "    }\n",
       "\n",
       "    .dataframe thead th {\n",
       "        text-align: right;\n",
       "    }\n",
       "</style>\n",
       "<table border=\"1\" class=\"dataframe\">\n",
       "  <thead>\n",
       "    <tr style=\"text-align: right;\">\n",
       "      <th></th>\n",
       "      <th>Name</th>\n",
       "      <th>Age</th>\n",
       "      <th>Occupation</th>\n",
       "      <th>Hometown</th>\n",
       "      <th>ElimWeek</th>\n",
       "      <th>Season</th>\n",
       "    </tr>\n",
       "  </thead>\n",
       "  <tbody>\n",
       "    <tr>\n",
       "      <th>0</th>\n",
       "      <td>Ryan Sutter</td>\n",
       "      <td>29</td>\n",
       "      <td>Firefighter</td>\n",
       "      <td>Vail, Colorado</td>\n",
       "      <td>NaN</td>\n",
       "      <td>1</td>\n",
       "    </tr>\n",
       "    <tr>\n",
       "      <th>1</th>\n",
       "      <td>Charlie Maher</td>\n",
       "      <td>28</td>\n",
       "      <td>Financial Analyst</td>\n",
       "      <td>Hermosa Beach, California</td>\n",
       "      <td>6.0</td>\n",
       "      <td>1</td>\n",
       "    </tr>\n",
       "    <tr>\n",
       "      <th>2</th>\n",
       "      <td>Russ</td>\n",
       "      <td>30</td>\n",
       "      <td>Writer</td>\n",
       "      <td>San Rafael, California</td>\n",
       "      <td>5.0</td>\n",
       "      <td>1</td>\n",
       "    </tr>\n",
       "    <tr>\n",
       "      <th>3</th>\n",
       "      <td>Greg T.</td>\n",
       "      <td>28</td>\n",
       "      <td>Importer</td>\n",
       "      <td>Manhattan, New York</td>\n",
       "      <td>4.0</td>\n",
       "      <td>1</td>\n",
       "    </tr>\n",
       "    <tr>\n",
       "      <th>4</th>\n",
       "      <td>Bob Guiney</td>\n",
       "      <td>31</td>\n",
       "      <td>Mortgage Broker</td>\n",
       "      <td>Ferndale, Michigan</td>\n",
       "      <td>3.0</td>\n",
       "      <td>1</td>\n",
       "    </tr>\n",
       "  </tbody>\n",
       "</table>\n",
       "</div>"
      ],
      "text/plain": [
       "            Name  Age         Occupation                   Hometown  ElimWeek  \\\n",
       "0    Ryan Sutter   29        Firefighter             Vail, Colorado       NaN   \n",
       "1  Charlie Maher   28  Financial Analyst  Hermosa Beach, California       6.0   \n",
       "2           Russ   30             Writer     San Rafael, California       5.0   \n",
       "3        Greg T.   28           Importer        Manhattan, New York       4.0   \n",
       "4     Bob Guiney   31    Mortgage Broker         Ferndale, Michigan       3.0   \n",
       "\n",
       "   Season  \n",
       "0       1  \n",
       "1       1  \n",
       "2       1  \n",
       "3       1  \n",
       "4       1  "
      ]
     },
     "execution_count": 4,
     "metadata": {},
     "output_type": "execute_result"
    }
   ],
   "source": [
    "df.head(3)"
   ]
  },
  {
   "cell_type": "code",
   "execution_count": 19,
   "metadata": {},
   "outputs": [
    {
     "data": {
      "text/html": [
       "<div>\n",
       "<style scoped>\n",
       "    .dataframe tbody tr th:only-of-type {\n",
       "        vertical-align: middle;\n",
       "    }\n",
       "\n",
       "    .dataframe tbody tr th {\n",
       "        vertical-align: top;\n",
       "    }\n",
       "\n",
       "    .dataframe thead th {\n",
       "        text-align: right;\n",
       "    }\n",
       "</style>\n",
       "<table border=\"1\" class=\"dataframe\">\n",
       "  <thead>\n",
       "    <tr style=\"text-align: right;\">\n",
       "      <th></th>\n",
       "      <th>SEASON</th>\n",
       "      <th>CONTESTANT</th>\n",
       "      <th>ELIMINATION-1</th>\n",
       "      <th>ELIMINATION-2</th>\n",
       "      <th>ELIMINATION-3</th>\n",
       "      <th>ELIMINATION-4</th>\n",
       "      <th>ELIMINATION-5</th>\n",
       "      <th>ELIMINATION-6</th>\n",
       "      <th>ELIMINATION-7</th>\n",
       "      <th>ELIMINATION-8</th>\n",
       "      <th>...</th>\n",
       "      <th>DATES-1</th>\n",
       "      <th>DATES-2</th>\n",
       "      <th>DATES-3</th>\n",
       "      <th>DATES-4</th>\n",
       "      <th>DATES-5</th>\n",
       "      <th>DATES-6</th>\n",
       "      <th>DATES-7</th>\n",
       "      <th>DATES-8</th>\n",
       "      <th>DATES-9</th>\n",
       "      <th>DATES-10</th>\n",
       "    </tr>\n",
       "  </thead>\n",
       "  <tbody>\n",
       "    <tr>\n",
       "      <th>281</th>\n",
       "      <td>1</td>\n",
       "      <td>01_WAYNE_X</td>\n",
       "      <td>E</td>\n",
       "      <td>NaN</td>\n",
       "      <td>NaN</td>\n",
       "      <td>NaN</td>\n",
       "      <td>NaN</td>\n",
       "      <td>NaN</td>\n",
       "      <td>NaN</td>\n",
       "      <td>NaN</td>\n",
       "      <td>...</td>\n",
       "      <td>NaN</td>\n",
       "      <td>NaN</td>\n",
       "      <td>NaN</td>\n",
       "      <td>NaN</td>\n",
       "      <td>NaN</td>\n",
       "      <td>NaN</td>\n",
       "      <td>NaN</td>\n",
       "      <td>NaN</td>\n",
       "      <td>NaN</td>\n",
       "      <td>NaN</td>\n",
       "    </tr>\n",
       "    <tr>\n",
       "      <th>257</th>\n",
       "      <td>1</td>\n",
       "      <td>01_RYAN_S</td>\n",
       "      <td>NaN</td>\n",
       "      <td>NaN</td>\n",
       "      <td>NaN</td>\n",
       "      <td>NaN</td>\n",
       "      <td>NaN</td>\n",
       "      <td>W</td>\n",
       "      <td>NaN</td>\n",
       "      <td>NaN</td>\n",
       "      <td>...</td>\n",
       "      <td>NaN</td>\n",
       "      <td>D14</td>\n",
       "      <td>D1</td>\n",
       "      <td>D1</td>\n",
       "      <td>D1</td>\n",
       "      <td>D1</td>\n",
       "      <td>NaN</td>\n",
       "      <td>NaN</td>\n",
       "      <td>NaN</td>\n",
       "      <td>NaN</td>\n",
       "    </tr>\n",
       "    <tr>\n",
       "      <th>258</th>\n",
       "      <td>1</td>\n",
       "      <td>01_CHARLIE_M</td>\n",
       "      <td>NaN</td>\n",
       "      <td>NaN</td>\n",
       "      <td>NaN</td>\n",
       "      <td>NaN</td>\n",
       "      <td>NaN</td>\n",
       "      <td>E</td>\n",
       "      <td>NaN</td>\n",
       "      <td>NaN</td>\n",
       "      <td>...</td>\n",
       "      <td>NaN</td>\n",
       "      <td>D14</td>\n",
       "      <td>D1</td>\n",
       "      <td>D1</td>\n",
       "      <td>D1</td>\n",
       "      <td>D1</td>\n",
       "      <td>NaN</td>\n",
       "      <td>NaN</td>\n",
       "      <td>NaN</td>\n",
       "      <td>NaN</td>\n",
       "    </tr>\n",
       "  </tbody>\n",
       "</table>\n",
       "<p>3 rows × 22 columns</p>\n",
       "</div>"
      ],
      "text/plain": [
       "     SEASON    CONTESTANT ELIMINATION-1 ELIMINATION-2 ELIMINATION-3  \\\n",
       "281       1    01_WAYNE_X             E           NaN           NaN   \n",
       "257       1     01_RYAN_S           NaN           NaN           NaN   \n",
       "258       1  01_CHARLIE_M           NaN           NaN           NaN   \n",
       "\n",
       "    ELIMINATION-4 ELIMINATION-5 ELIMINATION-6 ELIMINATION-7 ELIMINATION-8  \\\n",
       "281           NaN           NaN           NaN           NaN           NaN   \n",
       "257           NaN           NaN             W           NaN           NaN   \n",
       "258           NaN           NaN             E           NaN           NaN   \n",
       "\n",
       "     ... DATES-1 DATES-2  DATES-3 DATES-4 DATES-5 DATES-6 DATES-7 DATES-8  \\\n",
       "281  ...     NaN     NaN      NaN     NaN     NaN     NaN     NaN     NaN   \n",
       "257  ...     NaN     D14       D1      D1      D1      D1     NaN     NaN   \n",
       "258  ...     NaN     D14       D1      D1      D1      D1     NaN     NaN   \n",
       "\n",
       "    DATES-9 DATES-10  \n",
       "281     NaN      NaN  \n",
       "257     NaN      NaN  \n",
       "258     NaN      NaN  \n",
       "\n",
       "[3 rows x 22 columns]"
      ]
     },
     "execution_count": 19,
     "metadata": {},
     "output_type": "execute_result"
    }
   ],
   "source": [
    "join.sort_values(by='SEASON').head(3)"
   ]
  },
  {
   "cell_type": "markdown",
   "metadata": {},
   "source": [
    "How to read the ```join``` DataFrame:\n",
    "\n",
    "Feature         | Description\n",
    "----------------|------------\n",
    "`ELIMINATION-1` | Who was eliminated in week 1\n",
    "`ELIMINATION-2` | Who was eliminated in week 2\n",
    "`ELIMINATION-3` | Who was eliminated in week 3\n",
    "`ELIMINATION-4` | Who was eliminated in week 4\n",
    "`ELIMINATION-5` | Who was eliminated in week 5\n",
    "`ELIMINATION-6` | Who was eliminated in week 6\n",
    "`ELIMINATION-7` | Who was eliminated in week 7\n",
    "`ELIMINATION-8` | Who was eliminated in week 8\n",
    "`ELIMINATION-9` | Who was eliminated in week 9\n",
    "`ELIMINATION-10`| Who was eliminated in week 10\n",
    "`DATES-1`       | Who was on which date in week 1\n",
    "`DATES-2`       | Who was on which date in week 2\n",
    "`DATES-3`       | Who was on which date in week 3\n",
    "`DATES-4`       | Who was on which date in week 4\n",
    "`DATES-5`       | Who was on which date in week 5\n",
    "`DATES-6`       | Who was on which date in week 6\n",
    "`DATES-7`       | Who was on which date in week 7\n",
    "`DATES-8`       | Who was on which date in week 8\n",
    "`DATES-9`       | Who was on which date in week 9\n",
    "`DATES-10`      | Who was on which date in week 10\n",
    "\n",
    "- Eliminates connote either an elimination (starts with \"E\") or a rose (starts with \"R\").\n",
    "- Eliminations supercede roses.\n",
    "- \"E\" connotes a standard elimination, typically at a rose ceremony. \"EQ\" means the contestant quits. \"EF\" means the contestant was fired by production. \"ED\" connotes a date elimination. \"EU\" connotes an unscheduled elimination, one that takes place at a time outside of a date or rose ceremony.\n",
    "- \"R\" means the contestant received a rose. \"R1\" means the contestant got a first impression rose.\n",
    "- \"D1\" means a one-on-one date, \"D2\" means a 2-on-1, \"D3\" means a 3-on-1 group date, and so on.\n",
    "- Weeks of the show are deliminated by rose ceremonies, and may not line up exactly with episodes."
   ]
  },
  {
   "cell_type": "markdown",
   "metadata": {},
   "source": [
    "Now I'll join the two dataframes."
   ]
  },
  {
   "cell_type": "code",
   "execution_count": 6,
   "metadata": {},
   "outputs": [],
   "source": [
    "df = join_dfs(df, join)"
   ]
  },
  {
   "cell_type": "code",
   "execution_count": 7,
   "metadata": {},
   "outputs": [
    {
     "data": {
      "text/html": [
       "<div>\n",
       "<style scoped>\n",
       "    .dataframe tbody tr th:only-of-type {\n",
       "        vertical-align: middle;\n",
       "    }\n",
       "\n",
       "    .dataframe tbody tr th {\n",
       "        vertical-align: top;\n",
       "    }\n",
       "\n",
       "    .dataframe thead th {\n",
       "        text-align: right;\n",
       "    }\n",
       "</style>\n",
       "<table border=\"1\" class=\"dataframe\">\n",
       "  <thead>\n",
       "    <tr style=\"text-align: right;\">\n",
       "      <th></th>\n",
       "      <th>Name</th>\n",
       "      <th>Age</th>\n",
       "      <th>Occupation</th>\n",
       "      <th>Hometown</th>\n",
       "      <th>ElimWeek</th>\n",
       "      <th>Season</th>\n",
       "      <th>ELIMINATION-1</th>\n",
       "      <th>ELIMINATION-2</th>\n",
       "      <th>ELIMINATION-3</th>\n",
       "      <th>ELIMINATION-4</th>\n",
       "      <th>...</th>\n",
       "      <th>DATES-1</th>\n",
       "      <th>DATES-2</th>\n",
       "      <th>DATES-3</th>\n",
       "      <th>DATES-4</th>\n",
       "      <th>DATES-5</th>\n",
       "      <th>DATES-6</th>\n",
       "      <th>DATES-7</th>\n",
       "      <th>DATES-8</th>\n",
       "      <th>DATES-9</th>\n",
       "      <th>DATES-10</th>\n",
       "    </tr>\n",
       "    <tr>\n",
       "      <th>CONTESTANT</th>\n",
       "      <th></th>\n",
       "      <th></th>\n",
       "      <th></th>\n",
       "      <th></th>\n",
       "      <th></th>\n",
       "      <th></th>\n",
       "      <th></th>\n",
       "      <th></th>\n",
       "      <th></th>\n",
       "      <th></th>\n",
       "      <th></th>\n",
       "      <th></th>\n",
       "      <th></th>\n",
       "      <th></th>\n",
       "      <th></th>\n",
       "      <th></th>\n",
       "      <th></th>\n",
       "      <th></th>\n",
       "      <th></th>\n",
       "      <th></th>\n",
       "      <th></th>\n",
       "    </tr>\n",
       "  </thead>\n",
       "  <tbody>\n",
       "    <tr>\n",
       "      <th>1_RYAN_S</th>\n",
       "      <td>Ryan Sutter</td>\n",
       "      <td>29</td>\n",
       "      <td>Firefighter</td>\n",
       "      <td>Vail, Colorado</td>\n",
       "      <td>NaN</td>\n",
       "      <td>1</td>\n",
       "      <td>NaN</td>\n",
       "      <td>NaN</td>\n",
       "      <td>NaN</td>\n",
       "      <td>NaN</td>\n",
       "      <td>...</td>\n",
       "      <td>NaN</td>\n",
       "      <td>D14</td>\n",
       "      <td>D1</td>\n",
       "      <td>D1</td>\n",
       "      <td>D1</td>\n",
       "      <td>D1</td>\n",
       "      <td>NaN</td>\n",
       "      <td>NaN</td>\n",
       "      <td>NaN</td>\n",
       "      <td>NaN</td>\n",
       "    </tr>\n",
       "    <tr>\n",
       "      <th>1_CHARLIE_M</th>\n",
       "      <td>Charlie Maher</td>\n",
       "      <td>28</td>\n",
       "      <td>Financial Analyst</td>\n",
       "      <td>Hermosa Beach, California</td>\n",
       "      <td>6.0</td>\n",
       "      <td>1</td>\n",
       "      <td>NaN</td>\n",
       "      <td>NaN</td>\n",
       "      <td>NaN</td>\n",
       "      <td>NaN</td>\n",
       "      <td>...</td>\n",
       "      <td>NaN</td>\n",
       "      <td>D14</td>\n",
       "      <td>D1</td>\n",
       "      <td>D1</td>\n",
       "      <td>D1</td>\n",
       "      <td>D1</td>\n",
       "      <td>NaN</td>\n",
       "      <td>NaN</td>\n",
       "      <td>NaN</td>\n",
       "      <td>NaN</td>\n",
       "    </tr>\n",
       "    <tr>\n",
       "      <th>1_RUSS_X</th>\n",
       "      <td>Russ</td>\n",
       "      <td>30</td>\n",
       "      <td>Writer</td>\n",
       "      <td>San Rafael, California</td>\n",
       "      <td>5.0</td>\n",
       "      <td>1</td>\n",
       "      <td>NaN</td>\n",
       "      <td>NaN</td>\n",
       "      <td>NaN</td>\n",
       "      <td>NaN</td>\n",
       "      <td>...</td>\n",
       "      <td>NaN</td>\n",
       "      <td>D14</td>\n",
       "      <td>D1</td>\n",
       "      <td>D1</td>\n",
       "      <td>D1</td>\n",
       "      <td>NaN</td>\n",
       "      <td>NaN</td>\n",
       "      <td>NaN</td>\n",
       "      <td>NaN</td>\n",
       "      <td>NaN</td>\n",
       "    </tr>\n",
       "  </tbody>\n",
       "</table>\n",
       "<p>3 rows × 26 columns</p>\n",
       "</div>"
      ],
      "text/plain": [
       "                      Name  Age         Occupation                   Hometown  \\\n",
       "CONTESTANT                                                                      \n",
       "1_RYAN_S       Ryan Sutter   29        Firefighter             Vail, Colorado   \n",
       "1_CHARLIE_M  Charlie Maher   28  Financial Analyst  Hermosa Beach, California   \n",
       "1_RUSS_X              Russ   30             Writer     San Rafael, California   \n",
       "\n",
       "             ElimWeek  Season ELIMINATION-1 ELIMINATION-2 ELIMINATION-3  \\\n",
       "CONTESTANT                                                                \n",
       "1_RYAN_S          NaN       1           NaN           NaN           NaN   \n",
       "1_CHARLIE_M       6.0       1           NaN           NaN           NaN   \n",
       "1_RUSS_X          5.0       1           NaN           NaN           NaN   \n",
       "\n",
       "            ELIMINATION-4  ... DATES-1 DATES-2 DATES-3 DATES-4 DATES-5  \\\n",
       "CONTESTANT                 ...                                           \n",
       "1_RYAN_S              NaN  ...     NaN     D14      D1      D1      D1   \n",
       "1_CHARLIE_M           NaN  ...     NaN     D14      D1      D1      D1   \n",
       "1_RUSS_X              NaN  ...     NaN     D14      D1      D1      D1   \n",
       "\n",
       "            DATES-6  DATES-7 DATES-8 DATES-9 DATES-10  \n",
       "CONTESTANT                                             \n",
       "1_RYAN_S         D1      NaN     NaN     NaN      NaN  \n",
       "1_CHARLIE_M      D1      NaN     NaN     NaN      NaN  \n",
       "1_RUSS_X        NaN      NaN     NaN     NaN      NaN  \n",
       "\n",
       "[3 rows x 26 columns]"
      ]
     },
     "execution_count": 7,
     "metadata": {},
     "output_type": "execute_result"
    }
   ],
   "source": [
    "df.head(3)"
   ]
  },
  {
   "cell_type": "markdown",
   "metadata": {},
   "source": [
    "Drop redundant features and unnecessary features for the project MVP (minimally viable product):\n",
    "* ```ELIMINATION-1```\n",
    "* ```ELIMINATION-2```\n",
    "* ```ELIMINATION-3```\n",
    "* ```ELIMINATION-4```\n",
    "* ```ELIMINATION-5```\n",
    "* ```ELIMINATION-6```\n",
    "* ```ELIMINATION-7```\n",
    "* ```ELIMINATION-8```\n",
    "* ```ELIMINATION-9```\n",
    "* ```ELIMINATION-10```\n",
    "* ```Hometown```\n",
    "* ```Occupation```\n",
    "* ```Name```\n",
    "* ```Season```\n",
    "* ```DATES-1```"
   ]
  },
  {
   "cell_type": "code",
   "execution_count": 8,
   "metadata": {},
   "outputs": [],
   "source": [
    "df = drop_extra_cols(df)"
   ]
  },
  {
   "cell_type": "code",
   "execution_count": 9,
   "metadata": {},
   "outputs": [
    {
     "data": {
      "text/html": [
       "<div>\n",
       "<style scoped>\n",
       "    .dataframe tbody tr th:only-of-type {\n",
       "        vertical-align: middle;\n",
       "    }\n",
       "\n",
       "    .dataframe tbody tr th {\n",
       "        vertical-align: top;\n",
       "    }\n",
       "\n",
       "    .dataframe thead th {\n",
       "        text-align: right;\n",
       "    }\n",
       "</style>\n",
       "<table border=\"1\" class=\"dataframe\">\n",
       "  <thead>\n",
       "    <tr style=\"text-align: right;\">\n",
       "      <th></th>\n",
       "      <th>Age</th>\n",
       "      <th>ElimWeek</th>\n",
       "      <th>Season</th>\n",
       "      <th>DATES-2</th>\n",
       "      <th>DATES-3</th>\n",
       "      <th>DATES-4</th>\n",
       "      <th>DATES-5</th>\n",
       "      <th>DATES-6</th>\n",
       "      <th>DATES-7</th>\n",
       "      <th>DATES-8</th>\n",
       "      <th>DATES-9</th>\n",
       "      <th>DATES-10</th>\n",
       "    </tr>\n",
       "    <tr>\n",
       "      <th>CONTESTANT</th>\n",
       "      <th></th>\n",
       "      <th></th>\n",
       "      <th></th>\n",
       "      <th></th>\n",
       "      <th></th>\n",
       "      <th></th>\n",
       "      <th></th>\n",
       "      <th></th>\n",
       "      <th></th>\n",
       "      <th></th>\n",
       "      <th></th>\n",
       "      <th></th>\n",
       "    </tr>\n",
       "  </thead>\n",
       "  <tbody>\n",
       "    <tr>\n",
       "      <th>1_RYAN_S</th>\n",
       "      <td>29</td>\n",
       "      <td>NaN</td>\n",
       "      <td>1</td>\n",
       "      <td>D14</td>\n",
       "      <td>D1</td>\n",
       "      <td>D1</td>\n",
       "      <td>D1</td>\n",
       "      <td>D1</td>\n",
       "      <td>NaN</td>\n",
       "      <td>NaN</td>\n",
       "      <td>NaN</td>\n",
       "      <td>NaN</td>\n",
       "    </tr>\n",
       "    <tr>\n",
       "      <th>1_CHARLIE_M</th>\n",
       "      <td>28</td>\n",
       "      <td>6.0</td>\n",
       "      <td>1</td>\n",
       "      <td>D14</td>\n",
       "      <td>D1</td>\n",
       "      <td>D1</td>\n",
       "      <td>D1</td>\n",
       "      <td>D1</td>\n",
       "      <td>NaN</td>\n",
       "      <td>NaN</td>\n",
       "      <td>NaN</td>\n",
       "      <td>NaN</td>\n",
       "    </tr>\n",
       "    <tr>\n",
       "      <th>1_RUSS_X</th>\n",
       "      <td>30</td>\n",
       "      <td>5.0</td>\n",
       "      <td>1</td>\n",
       "      <td>D14</td>\n",
       "      <td>D1</td>\n",
       "      <td>D1</td>\n",
       "      <td>D1</td>\n",
       "      <td>NaN</td>\n",
       "      <td>NaN</td>\n",
       "      <td>NaN</td>\n",
       "      <td>NaN</td>\n",
       "      <td>NaN</td>\n",
       "    </tr>\n",
       "  </tbody>\n",
       "</table>\n",
       "</div>"
      ],
      "text/plain": [
       "             Age  ElimWeek  Season DATES-2 DATES-3 DATES-4 DATES-5 DATES-6  \\\n",
       "CONTESTANT                                                                   \n",
       "1_RYAN_S      29       NaN       1     D14      D1      D1      D1      D1   \n",
       "1_CHARLIE_M   28       6.0       1     D14      D1      D1      D1      D1   \n",
       "1_RUSS_X      30       5.0       1     D14      D1      D1      D1     NaN   \n",
       "\n",
       "            DATES-7 DATES-8 DATES-9 DATES-10  \n",
       "CONTESTANT                                    \n",
       "1_RYAN_S        NaN     NaN     NaN      NaN  \n",
       "1_CHARLIE_M     NaN     NaN     NaN      NaN  \n",
       "1_RUSS_X        NaN     NaN     NaN      NaN  "
      ]
     },
     "execution_count": 9,
     "metadata": {},
     "output_type": "execute_result"
    }
   ],
   "source": [
    "df.head(3)"
   ]
  },
  {
   "cell_type": "code",
   "execution_count": 10,
   "metadata": {},
   "outputs": [
    {
     "data": {
      "text/plain": [
       "Age           0\n",
       "ElimWeek      9\n",
       "Season        0\n",
       "DATES-2     109\n",
       "DATES-3     135\n",
       "DATES-4     159\n",
       "DATES-5     174\n",
       "DATES-6     198\n",
       "DATES-7     215\n",
       "DATES-8     232\n",
       "DATES-9     244\n",
       "DATES-10    253\n",
       "dtype: int64"
      ]
     },
     "execution_count": 10,
     "metadata": {},
     "output_type": "execute_result"
    }
   ],
   "source": [
    "df.isna().sum()"
   ]
  },
  {
   "cell_type": "markdown",
   "metadata": {},
   "source": [
    "## Preprocessing"
   ]
  },
  {
   "cell_type": "markdown",
   "metadata": {},
   "source": [
    "### Feature Engineering with ```DATES``` and ```ELIMINATION```\n",
    "\n",
    "* **NaNs in ```ElimWeek``` mean that that contestant won their season. I encoded this as 11.0**, representing that the contestants lasted until/past the end of their season (as Week 10 is the last week).\n",
    "    * The choice to make winning contests have an ```ElimWeek``` of 11 may cause slightly lower One-on-One scores for winning contests because the dividing value (that I'm using to average the amount of One-on-One time per week) is ```ElimWeek```, yet there are no dates in the 11th week. I will compensate for this in a future iteration.\n",
    "    * This calculation also does not account for seasons ending early/a contestant getting a win before Week 10. I will address this in a future iteration as well.\n",
    "\n",
    "\n",
    "* **I dropped ```ELIMINATION``` features** because the presence of values there has a direct relationship with how many weeks a contestant lasts.\n",
    "    * However, I may engineer features out of these columns, such as ```ReceivedFirstImpressionRose``` that don't have a direct correlation to how many weeks a contestant stays.\n",
    "\n",
    "\n",
    "* **To quantify the dates as a ```One-on-One_Score```, I made them each a float value** that is equal to ```1``` divided by the ```number of people on the date```.\n",
    "    * My reasoning behind this is that, anecdotally speaking, the fewer other people present on a date, the more that that date can affect the standing of a contestant on the date.\n",
    "    * Therefore, the highest date value a contestant can have is if the value is 1, meaning they went on a date in that episode, and they went on that date as a One-on-One (a highly coveted type of date in the world of The Bachelorette).\n",
    "    \n",
    "    \n",
    "* **I created ```First_Date``` feature**.\n",
    "    * This feature is a boolean that represents if a contestant was chosen to go on a date in the second week of their season, which is the week in which the first dates between the Bachelorette and the contestants occur.\n",
    " \n",
    " \n",
    "* **I dropped unneeded columns** that were used to feature-engineer.\n",
    " \n",
    "    \n",
    "* I want to create a ```Homestate``` feature in a future iteration of this project."
   ]
  },
  {
   "cell_type": "code",
   "execution_count": 11,
   "metadata": {},
   "outputs": [],
   "source": [
    "df = handle_dates_and_elims(df)"
   ]
  },
  {
   "cell_type": "code",
   "execution_count": 12,
   "metadata": {},
   "outputs": [
    {
     "data": {
      "text/html": [
       "<div>\n",
       "<style scoped>\n",
       "    .dataframe tbody tr th:only-of-type {\n",
       "        vertical-align: middle;\n",
       "    }\n",
       "\n",
       "    .dataframe tbody tr th {\n",
       "        vertical-align: top;\n",
       "    }\n",
       "\n",
       "    .dataframe thead th {\n",
       "        text-align: right;\n",
       "    }\n",
       "</style>\n",
       "<table border=\"1\" class=\"dataframe\">\n",
       "  <thead>\n",
       "    <tr style=\"text-align: right;\">\n",
       "      <th></th>\n",
       "      <th>Age</th>\n",
       "      <th>ElimWeek</th>\n",
       "      <th>Season</th>\n",
       "      <th>One-on-One_Score</th>\n",
       "      <th>FirstDate</th>\n",
       "    </tr>\n",
       "    <tr>\n",
       "      <th>CONTESTANT</th>\n",
       "      <th></th>\n",
       "      <th></th>\n",
       "      <th></th>\n",
       "      <th></th>\n",
       "      <th></th>\n",
       "    </tr>\n",
       "  </thead>\n",
       "  <tbody>\n",
       "    <tr>\n",
       "      <th>4_PAUL_B</th>\n",
       "      <td>23</td>\n",
       "      <td>3.0</td>\n",
       "      <td>4</td>\n",
       "      <td>0.060714</td>\n",
       "      <td>1.0</td>\n",
       "    </tr>\n",
       "    <tr>\n",
       "      <th>2_CORY_H</th>\n",
       "      <td>24</td>\n",
       "      <td>1.0</td>\n",
       "      <td>2</td>\n",
       "      <td>0.000000</td>\n",
       "      <td>0.0</td>\n",
       "    </tr>\n",
       "    <tr>\n",
       "      <th>1_MIKE_X</th>\n",
       "      <td>24</td>\n",
       "      <td>3.0</td>\n",
       "      <td>1</td>\n",
       "      <td>0.067857</td>\n",
       "      <td>1.0</td>\n",
       "    </tr>\n",
       "  </tbody>\n",
       "</table>\n",
       "</div>"
      ],
      "text/plain": [
       "            Age  ElimWeek  Season  One-on-One_Score  FirstDate\n",
       "CONTESTANT                                                    \n",
       "4_PAUL_B     23       3.0       4          0.060714        1.0\n",
       "2_CORY_H     24       1.0       2          0.000000        0.0\n",
       "1_MIKE_X     24       3.0       1          0.067857        1.0"
      ]
     },
     "execution_count": 12,
     "metadata": {},
     "output_type": "execute_result"
    }
   ],
   "source": [
    "# quick peek at the data, sorted by age to avoid seeing too much of one season\n",
    "# and to make sure FirstDate is showing up correctly\n",
    "df.sort_values(by='Age').head(3)"
   ]
  },
  {
   "cell_type": "markdown",
   "metadata": {},
   "source": [
    "### Train, validate, test splits"
   ]
  },
  {
   "cell_type": "markdown",
   "metadata": {},
   "source": [
    "```ElimWeek``` is the feature we will be predicting on."
   ]
  },
  {
   "cell_type": "code",
   "execution_count": 13,
   "metadata": {},
   "outputs": [
    {
     "name": "stdout",
     "output_type": "stream",
     "text": [
      "Shape of train: (147, 4) | Shape of validate: (64, 4) | Shape of test: (53, 4)\n"
     ]
    }
   ],
   "source": [
    "X_train, y_train, X_validate, y_validate, X_test, y_test, train, validate, test = train_validate_test(df, 'ElimWeek')"
   ]
  },
  {
   "cell_type": "code",
   "execution_count": 14,
   "metadata": {},
   "outputs": [
    {
     "data": {
      "text/html": [
       "<div>\n",
       "<style scoped>\n",
       "    .dataframe tbody tr th:only-of-type {\n",
       "        vertical-align: middle;\n",
       "    }\n",
       "\n",
       "    .dataframe tbody tr th {\n",
       "        vertical-align: top;\n",
       "    }\n",
       "\n",
       "    .dataframe thead th {\n",
       "        text-align: right;\n",
       "    }\n",
       "</style>\n",
       "<table border=\"1\" class=\"dataframe\">\n",
       "  <thead>\n",
       "    <tr style=\"text-align: right;\">\n",
       "      <th></th>\n",
       "      <th>Age</th>\n",
       "      <th>Season</th>\n",
       "      <th>One-on-One_Score</th>\n",
       "      <th>FirstDate</th>\n",
       "    </tr>\n",
       "    <tr>\n",
       "      <th>CONTESTANT</th>\n",
       "      <th></th>\n",
       "      <th></th>\n",
       "      <th></th>\n",
       "      <th></th>\n",
       "    </tr>\n",
       "  </thead>\n",
       "  <tbody>\n",
       "    <tr>\n",
       "      <th>2_RYAN_M</th>\n",
       "      <td>30</td>\n",
       "      <td>2</td>\n",
       "      <td>0.178571</td>\n",
       "      <td>1.0</td>\n",
       "    </tr>\n",
       "    <tr>\n",
       "      <th>5_ADAM_D</th>\n",
       "      <td>27</td>\n",
       "      <td>5</td>\n",
       "      <td>0.000000</td>\n",
       "      <td>0.0</td>\n",
       "    </tr>\n",
       "    <tr>\n",
       "      <th>4_GRAHAM_B</th>\n",
       "      <td>29</td>\n",
       "      <td>4</td>\n",
       "      <td>0.359524</td>\n",
       "      <td>1.0</td>\n",
       "    </tr>\n",
       "  </tbody>\n",
       "</table>\n",
       "</div>"
      ],
      "text/plain": [
       "            Age  Season  One-on-One_Score  FirstDate\n",
       "CONTESTANT                                          \n",
       "2_RYAN_M     30       2          0.178571        1.0\n",
       "5_ADAM_D     27       5          0.000000        0.0\n",
       "4_GRAHAM_B   29       4          0.359524        1.0"
      ]
     },
     "execution_count": 14,
     "metadata": {},
     "output_type": "execute_result"
    }
   ],
   "source": [
    "X_train.head(3)"
   ]
  },
  {
   "cell_type": "code",
   "execution_count": 15,
   "metadata": {},
   "outputs": [
    {
     "data": {
      "text/plain": [
       "CONTESTANT\n",
       "2_RYAN_M      4.0\n",
       "5_ADAM_D      1.0\n",
       "4_GRAHAM_B    6.0\n",
       "Name: ElimWeek, dtype: float64"
      ]
     },
     "execution_count": 15,
     "metadata": {},
     "output_type": "execute_result"
    }
   ],
   "source": [
    "y_train.head(3)"
   ]
  },
  {
   "cell_type": "markdown",
   "metadata": {},
   "source": [
    "### Scale the data"
   ]
  },
  {
   "cell_type": "markdown",
   "metadata": {},
   "source": [
    "I'll scale the data on my next iteration through the data science pipeline."
   ]
  },
  {
   "cell_type": "markdown",
   "metadata": {},
   "source": [
    "## Exploratory Data Analysis"
   ]
  },
  {
   "cell_type": "markdown",
   "metadata": {},
   "source": [
    "Continue in ```explore.ipynb```. And move old ```explore.ipynb``` to the ```kaggle-datasets/``` folder."
   ]
  },
  {
   "cell_type": "markdown",
   "metadata": {},
   "source": [
    "## Modeling"
   ]
  },
  {
   "cell_type": "code",
   "execution_count": null,
   "metadata": {},
   "outputs": [],
   "source": []
  },
  {
   "cell_type": "code",
   "execution_count": null,
   "metadata": {},
   "outputs": [],
   "source": []
  },
  {
   "cell_type": "code",
   "execution_count": null,
   "metadata": {},
   "outputs": [],
   "source": []
  },
  {
   "cell_type": "markdown",
   "metadata": {},
   "source": [
    "## Conclusions"
   ]
  },
  {
   "cell_type": "code",
   "execution_count": null,
   "metadata": {},
   "outputs": [],
   "source": []
  }
 ],
 "metadata": {
  "kernelspec": {
   "display_name": "Python 3",
   "language": "python",
   "name": "python3"
  },
  "language_info": {
   "codemirror_mode": {
    "name": "ipython",
    "version": 3
   },
   "file_extension": ".py",
   "mimetype": "text/x-python",
   "name": "python",
   "nbconvert_exporter": "python",
   "pygments_lexer": "ipython3",
   "version": "3.8.3"
  }
 },
 "nbformat": 4,
 "nbformat_minor": 4
}
