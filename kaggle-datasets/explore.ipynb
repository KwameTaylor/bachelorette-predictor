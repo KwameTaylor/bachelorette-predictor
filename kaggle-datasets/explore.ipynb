{
 "cells": [
  {
   "cell_type": "markdown",
   "metadata": {},
   "source": [
    "# Exploring the Kaggle Datasets\n",
    "### Bachelorette Predictor Project - Kwame Taylor"
   ]
  },
  {
   "cell_type": "markdown",
   "metadata": {},
   "source": [
    "> *(October 14th, 2020):*\n",
    "> \n",
    "> This Jupyter notebook will contain data preperation and data exploration of the Kaggle datasets from user <a href=\"https://www.kaggle.com/brianbgonz/the-bachelorette-contestants\">brianbgonz</a>.\n",
    "> \n",
    "> No goals as of now, just exploration to get a good look at the data -- so I can keep it in mind for future iterations of my project."
   ]
  },
  {
   "cell_type": "markdown",
   "metadata": {},
   "source": [
    "### Imports"
   ]
  },
  {
   "cell_type": "code",
   "execution_count": 1,
   "metadata": {},
   "outputs": [],
   "source": [
    "import pandas as pd\n",
    "import numpy as np\n",
    "import matplotlib.pyplot as plt\n",
    "import seaborn as sns\n",
    "# from scipy import stats\n",
    "\n",
    "import warnings\n",
    "warnings.filterwarnings(\"ignore\")\n",
    "\n",
    "plt.rc('figure', figsize=(13, 11))\n",
    "plt.rc('font', size=14)"
   ]
  },
  {
   "cell_type": "markdown",
   "metadata": {},
   "source": [
    "**Import data from .csv to pandas DataFrame - Contestants from the Bachelorette past seasons**"
   ]
  },
  {
   "cell_type": "code",
   "execution_count": 2,
   "metadata": {},
   "outputs": [
    {
     "data": {
      "text/html": [
       "<div>\n",
       "<style scoped>\n",
       "    .dataframe tbody tr th:only-of-type {\n",
       "        vertical-align: middle;\n",
       "    }\n",
       "\n",
       "    .dataframe tbody tr th {\n",
       "        vertical-align: top;\n",
       "    }\n",
       "\n",
       "    .dataframe thead th {\n",
       "        text-align: right;\n",
       "    }\n",
       "</style>\n",
       "<table border=\"1\" class=\"dataframe\">\n",
       "  <thead>\n",
       "    <tr style=\"text-align: right;\">\n",
       "      <th></th>\n",
       "      <th>Name</th>\n",
       "      <th>Age</th>\n",
       "      <th>Occupation</th>\n",
       "      <th>Hometown</th>\n",
       "      <th>ElimWeek</th>\n",
       "    </tr>\n",
       "    <tr>\n",
       "      <th>Season</th>\n",
       "      <th></th>\n",
       "      <th></th>\n",
       "      <th></th>\n",
       "      <th></th>\n",
       "      <th></th>\n",
       "    </tr>\n",
       "  </thead>\n",
       "  <tbody>\n",
       "    <tr>\n",
       "      <th>1</th>\n",
       "      <td>Ryan Sutter</td>\n",
       "      <td>29</td>\n",
       "      <td>Firefighter</td>\n",
       "      <td>Vail, Colorado</td>\n",
       "      <td>NaN</td>\n",
       "    </tr>\n",
       "    <tr>\n",
       "      <th>1</th>\n",
       "      <td>Charlie Maher</td>\n",
       "      <td>28</td>\n",
       "      <td>Financial Analyst</td>\n",
       "      <td>Hermosa Beach, California</td>\n",
       "      <td>6.0</td>\n",
       "    </tr>\n",
       "    <tr>\n",
       "      <th>1</th>\n",
       "      <td>Russ</td>\n",
       "      <td>30</td>\n",
       "      <td>Writer</td>\n",
       "      <td>San Rafael, California</td>\n",
       "      <td>5.0</td>\n",
       "    </tr>\n",
       "    <tr>\n",
       "      <th>1</th>\n",
       "      <td>Greg T.</td>\n",
       "      <td>28</td>\n",
       "      <td>Importer</td>\n",
       "      <td>Manhattan, New York</td>\n",
       "      <td>4.0</td>\n",
       "    </tr>\n",
       "    <tr>\n",
       "      <th>1</th>\n",
       "      <td>Bob Guiney</td>\n",
       "      <td>31</td>\n",
       "      <td>Mortgage Broker</td>\n",
       "      <td>Ferndale, Michigan</td>\n",
       "      <td>3.0</td>\n",
       "    </tr>\n",
       "  </tbody>\n",
       "</table>\n",
       "</div>"
      ],
      "text/plain": [
       "                 Name  Age         Occupation                   Hometown  \\\n",
       "Season                                                                     \n",
       "1         Ryan Sutter   29        Firefighter             Vail, Colorado   \n",
       "1       Charlie Maher   28  Financial Analyst  Hermosa Beach, California   \n",
       "1                Russ   30             Writer     San Rafael, California   \n",
       "1             Greg T.   28           Importer        Manhattan, New York   \n",
       "1          Bob Guiney   31    Mortgage Broker         Ferndale, Michigan   \n",
       "\n",
       "        ElimWeek  \n",
       "Season            \n",
       "1            NaN  \n",
       "1            6.0  \n",
       "1            5.0  \n",
       "1            4.0  \n",
       "1            3.0  "
      ]
     },
     "execution_count": 2,
     "metadata": {},
     "output_type": "execute_result"
    }
   ],
   "source": [
    "# read the csv into a dataframe\n",
    "df = pd.read_csv(\"bachelorette-contestants.csv\", index_col=5)\n",
    "df.head()"
   ]
  },
  {
   "cell_type": "markdown",
   "metadata": {},
   "source": [
    "### Summarize the Raw Data"
   ]
  },
  {
   "cell_type": "code",
   "execution_count": 3,
   "metadata": {},
   "outputs": [
    {
     "name": "stdout",
     "output_type": "stream",
     "text": [
      "<class 'pandas.core.frame.DataFrame'>\n",
      "Int64Index: 282 entries, 1 to 12\n",
      "Data columns (total 5 columns):\n",
      " #   Column      Non-Null Count  Dtype  \n",
      "---  ------      --------------  -----  \n",
      " 0   Name        282 non-null    object \n",
      " 1   Age         282 non-null    int64  \n",
      " 2   Occupation  282 non-null    object \n",
      " 3   Hometown    282 non-null    object \n",
      " 4   ElimWeek    271 non-null    float64\n",
      "dtypes: float64(1), int64(1), object(3)\n",
      "memory usage: 13.2+ KB\n"
     ]
    }
   ],
   "source": [
    "df.info()"
   ]
  },
  {
   "cell_type": "code",
   "execution_count": 4,
   "metadata": {},
   "outputs": [
    {
     "data": {
      "text/plain": [
       "(282, 5)"
      ]
     },
     "execution_count": 4,
     "metadata": {},
     "output_type": "execute_result"
    }
   ],
   "source": [
    "df.shape"
   ]
  },
  {
   "cell_type": "code",
   "execution_count": 5,
   "metadata": {
    "scrolled": true
   },
   "outputs": [
    {
     "data": {
      "text/html": [
       "<div>\n",
       "<style scoped>\n",
       "    .dataframe tbody tr th:only-of-type {\n",
       "        vertical-align: middle;\n",
       "    }\n",
       "\n",
       "    .dataframe tbody tr th {\n",
       "        vertical-align: top;\n",
       "    }\n",
       "\n",
       "    .dataframe thead th {\n",
       "        text-align: right;\n",
       "    }\n",
       "</style>\n",
       "<table border=\"1\" class=\"dataframe\">\n",
       "  <thead>\n",
       "    <tr style=\"text-align: right;\">\n",
       "      <th></th>\n",
       "      <th>count</th>\n",
       "      <th>mean</th>\n",
       "      <th>std</th>\n",
       "      <th>min</th>\n",
       "      <th>25%</th>\n",
       "      <th>50%</th>\n",
       "      <th>75%</th>\n",
       "      <th>max</th>\n",
       "    </tr>\n",
       "  </thead>\n",
       "  <tbody>\n",
       "    <tr>\n",
       "      <th>Age</th>\n",
       "      <td>282.0</td>\n",
       "      <td>29.109929</td>\n",
       "      <td>2.996791</td>\n",
       "      <td>23.0</td>\n",
       "      <td>27.0</td>\n",
       "      <td>29.0</td>\n",
       "      <td>31.0</td>\n",
       "      <td>42.0</td>\n",
       "    </tr>\n",
       "    <tr>\n",
       "      <th>ElimWeek</th>\n",
       "      <td>271.0</td>\n",
       "      <td>3.520295</td>\n",
       "      <td>2.555777</td>\n",
       "      <td>1.0</td>\n",
       "      <td>1.0</td>\n",
       "      <td>3.0</td>\n",
       "      <td>5.0</td>\n",
       "      <td>10.0</td>\n",
       "    </tr>\n",
       "  </tbody>\n",
       "</table>\n",
       "</div>"
      ],
      "text/plain": [
       "          count       mean       std   min   25%   50%   75%   max\n",
       "Age       282.0  29.109929  2.996791  23.0  27.0  29.0  31.0  42.0\n",
       "ElimWeek  271.0   3.520295  2.555777   1.0   1.0   3.0   5.0  10.0"
      ]
     },
     "execution_count": 5,
     "metadata": {},
     "output_type": "execute_result"
    }
   ],
   "source": [
    "df.describe().T"
   ]
  },
  {
   "cell_type": "code",
   "execution_count": 6,
   "metadata": {},
   "outputs": [
    {
     "data": {
      "text/plain": [
       "Name           0\n",
       "Age            0\n",
       "Occupation     0\n",
       "Hometown       0\n",
       "ElimWeek      11\n",
       "dtype: int64"
      ]
     },
     "execution_count": 6,
     "metadata": {},
     "output_type": "execute_result"
    }
   ],
   "source": [
    "# check for nulls\n",
    "df.isnull().sum()"
   ]
  },
  {
   "cell_type": "markdown",
   "metadata": {},
   "source": [
    "### Data Tidying"
   ]
  },
  {
   "cell_type": "code",
   "execution_count": 7,
   "metadata": {},
   "outputs": [
    {
     "data": {
      "text/html": [
       "<div>\n",
       "<style scoped>\n",
       "    .dataframe tbody tr th:only-of-type {\n",
       "        vertical-align: middle;\n",
       "    }\n",
       "\n",
       "    .dataframe tbody tr th {\n",
       "        vertical-align: top;\n",
       "    }\n",
       "\n",
       "    .dataframe thead th {\n",
       "        text-align: right;\n",
       "    }\n",
       "</style>\n",
       "<table border=\"1\" class=\"dataframe\">\n",
       "  <thead>\n",
       "    <tr style=\"text-align: right;\">\n",
       "      <th></th>\n",
       "      <th>Name</th>\n",
       "      <th>Age</th>\n",
       "      <th>Occupation</th>\n",
       "      <th>Hometown</th>\n",
       "      <th>ElimWeek</th>\n",
       "    </tr>\n",
       "    <tr>\n",
       "      <th>Season</th>\n",
       "      <th></th>\n",
       "      <th></th>\n",
       "      <th></th>\n",
       "      <th></th>\n",
       "      <th></th>\n",
       "    </tr>\n",
       "  </thead>\n",
       "  <tbody>\n",
       "    <tr>\n",
       "      <th>1</th>\n",
       "      <td>Ryan Sutter</td>\n",
       "      <td>29</td>\n",
       "      <td>Firefighter</td>\n",
       "      <td>Vail, Colorado</td>\n",
       "      <td>NaN</td>\n",
       "    </tr>\n",
       "    <tr>\n",
       "      <th>2</th>\n",
       "      <td>Ian McKee</td>\n",
       "      <td>29</td>\n",
       "      <td>Equity Research Sales</td>\n",
       "      <td>New York, New York</td>\n",
       "      <td>NaN</td>\n",
       "    </tr>\n",
       "    <tr>\n",
       "      <th>4</th>\n",
       "      <td>Jesse Csincsak</td>\n",
       "      <td>26</td>\n",
       "      <td>Professional snowboarder</td>\n",
       "      <td>Breckenridge, Colorado</td>\n",
       "      <td>NaN</td>\n",
       "    </tr>\n",
       "    <tr>\n",
       "      <th>5</th>\n",
       "      <td>Ed Swiderski</td>\n",
       "      <td>29</td>\n",
       "      <td>Technology Consultant</td>\n",
       "      <td>Monroe, Michigan</td>\n",
       "      <td>NaN</td>\n",
       "    </tr>\n",
       "    <tr>\n",
       "      <th>6</th>\n",
       "      <td>Roberto Martinez</td>\n",
       "      <td>26</td>\n",
       "      <td>Insurance Agent</td>\n",
       "      <td>Tampa, Florida</td>\n",
       "      <td>NaN</td>\n",
       "    </tr>\n",
       "    <tr>\n",
       "      <th>7</th>\n",
       "      <td>J.P. Rosenbaum</td>\n",
       "      <td>34</td>\n",
       "      <td>Construction Manager</td>\n",
       "      <td>Roslyn, New York</td>\n",
       "      <td>NaN</td>\n",
       "    </tr>\n",
       "    <tr>\n",
       "      <th>8</th>\n",
       "      <td>Jef Holm</td>\n",
       "      <td>27</td>\n",
       "      <td>Entrepreneur</td>\n",
       "      <td>St. George, Utah</td>\n",
       "      <td>NaN</td>\n",
       "    </tr>\n",
       "    <tr>\n",
       "      <th>9</th>\n",
       "      <td>Chris Siegfried</td>\n",
       "      <td>27</td>\n",
       "      <td>Mortgage Broker</td>\n",
       "      <td>McMinnville, Oregon</td>\n",
       "      <td>NaN</td>\n",
       "    </tr>\n",
       "    <tr>\n",
       "      <th>10</th>\n",
       "      <td>Josh Murray</td>\n",
       "      <td>29</td>\n",
       "      <td>Former Professional Baseball Player</td>\n",
       "      <td>Athens, Georgia</td>\n",
       "      <td>NaN</td>\n",
       "    </tr>\n",
       "    <tr>\n",
       "      <th>11</th>\n",
       "      <td>Shawn Booth</td>\n",
       "      <td>28</td>\n",
       "      <td>Personal Trainer</td>\n",
       "      <td>Windsor Locks, Connecticut</td>\n",
       "      <td>NaN</td>\n",
       "    </tr>\n",
       "    <tr>\n",
       "      <th>12</th>\n",
       "      <td>Jordan Rodgers</td>\n",
       "      <td>27</td>\n",
       "      <td>Former Pro Quarterback</td>\n",
       "      <td>Chico, California</td>\n",
       "      <td>NaN</td>\n",
       "    </tr>\n",
       "  </tbody>\n",
       "</table>\n",
       "</div>"
      ],
      "text/plain": [
       "                    Name  Age                           Occupation  \\\n",
       "Season                                                               \n",
       "1            Ryan Sutter   29                          Firefighter   \n",
       "2              Ian McKee   29                Equity Research Sales   \n",
       "4         Jesse Csincsak   26             Professional snowboarder   \n",
       "5           Ed Swiderski   29                Technology Consultant   \n",
       "6       Roberto Martinez   26                      Insurance Agent   \n",
       "7         J.P. Rosenbaum   34                 Construction Manager   \n",
       "8               Jef Holm   27                         Entrepreneur   \n",
       "9        Chris Siegfried   27                      Mortgage Broker   \n",
       "10           Josh Murray   29  Former Professional Baseball Player   \n",
       "11           Shawn Booth   28                     Personal Trainer   \n",
       "12        Jordan Rodgers   27               Former Pro Quarterback   \n",
       "\n",
       "                          Hometown  ElimWeek  \n",
       "Season                                        \n",
       "1                   Vail, Colorado       NaN  \n",
       "2               New York, New York       NaN  \n",
       "4           Breckenridge, Colorado       NaN  \n",
       "5                 Monroe, Michigan       NaN  \n",
       "6                   Tampa, Florida       NaN  \n",
       "7                 Roslyn, New York       NaN  \n",
       "8                 St. George, Utah       NaN  \n",
       "9              McMinnville, Oregon       NaN  \n",
       "10                 Athens, Georgia       NaN  \n",
       "11      Windsor Locks, Connecticut       NaN  \n",
       "12               Chico, California       NaN  "
      ]
     },
     "execution_count": 7,
     "metadata": {},
     "output_type": "execute_result"
    }
   ],
   "source": [
    "# show contestants who are missing ElimWeek\n",
    "df[df.ElimWeek.isnull()]"
   ]
  },
  {
   "cell_type": "markdown",
   "metadata": {},
   "source": [
    "> I'll replace NaNs with 0.0 for now. Those contestants may have quit the show, or been disqualified outside of rose ceremony elimination. I'll look into that later."
   ]
  },
  {
   "cell_type": "code",
   "execution_count": 8,
   "metadata": {},
   "outputs": [
    {
     "data": {
      "text/plain": [
       "Name          0\n",
       "Age           0\n",
       "Occupation    0\n",
       "Hometown      0\n",
       "ElimWeek      0\n",
       "dtype: int64"
      ]
     },
     "execution_count": 8,
     "metadata": {},
     "output_type": "execute_result"
    }
   ],
   "source": [
    "df.ElimWeek = df.ElimWeek.fillna(0.0)\n",
    "df.isnull().sum()"
   ]
  },
  {
   "cell_type": "code",
   "execution_count": 9,
   "metadata": {},
   "outputs": [
    {
     "data": {
      "text/plain": [
       "Name          279\n",
       "Age            18\n",
       "Occupation    228\n",
       "Hometown      242\n",
       "ElimWeek       11\n",
       "dtype: int64"
      ]
     },
     "execution_count": 9,
     "metadata": {},
     "output_type": "execute_result"
    }
   ],
   "source": [
    "df.nunique()"
   ]
  },
  {
   "cell_type": "markdown",
   "metadata": {},
   "source": [
    "### Train, Validate, Test Split"
   ]
  },
  {
   "cell_type": "code",
   "execution_count": null,
   "metadata": {},
   "outputs": [],
   "source": []
  },
  {
   "cell_type": "markdown",
   "metadata": {},
   "source": [
    "### Data Visualization"
   ]
  },
  {
   "cell_type": "code",
   "execution_count": 15,
   "metadata": {},
   "outputs": [
    {
     "data": {
      "text/plain": [
       "Text(0.5, 1.0, 'Which contestants lasted the most weeks, by season and age?')"
      ]
     },
     "execution_count": 15,
     "metadata": {},
     "output_type": "execute_result"
    },
    {
     "data": {
      "image/png": "[encoded data removed]",
      "text/plain": [
       "<Figure size 936x792 with 2 Axes>"
      ]
     },
     "metadata": {
      "needs_background": "light"
     },
     "output_type": "display_data"
    }
   ],
   "source": [
    "# pandas pivot\n",
    "heatmap1_data = pd.pivot_table(df, values='ElimWeek', \n",
    "                     index=['Age'], \n",
    "                     columns='Season')\n",
    "heatmap1_data.sort_index(inplace=True, ascending=False)\n",
    "sns.heatmap(heatmap1_data, cmap=\"coolwarm\", square=True)\n",
    "plt.title('Which contestants lasted the most weeks, by season and age?')"
   ]
  },
  {
   "cell_type": "code",
   "execution_count": null,
   "metadata": {},
   "outputs": [],
   "source": []
  }
 ],
 "metadata": {
  "kernelspec": {
   "display_name": "Python 3",
   "language": "python",
   "name": "python3"
  },
  "language_info": {
   "codemirror_mode": {
    "name": "ipython",
    "version": 3
   },
   "file_extension": ".py",
   "mimetype": "text/x-python",
   "name": "python",
   "nbconvert_exporter": "python",
   "pygments_lexer": "ipython3",
   "version": "3.8.3"
  }
 },
 "nbformat": 4,
 "nbformat_minor": 4
}
