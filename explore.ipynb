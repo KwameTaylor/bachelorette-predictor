{
 "cells": [
  {
   "cell_type": "markdown",
   "metadata": {},
   "source": [
    "# EDA for the Bachelorette Predictor\n",
    "### Kwame V. Taylor\n",
    "\n",
    "I will perform Exploratory Data Analysis on my joined and cleaned Bachelorette contestant data here."
   ]
  },
  {
   "cell_type": "markdown",
   "metadata": {},
   "source": [
    "## Set up Environment"
   ]
  },
  {
   "cell_type": "code",
   "execution_count": 1,
   "metadata": {},
   "outputs": [],
   "source": [
    "import numpy as np\n",
    "import pandas as pd\n",
    "\n",
    "import matplotlib.pyplot as plt\n",
    "plt.style.use('ggplot')\n",
    "import matplotlib as mpl\n",
    "\n",
    "from cycler import cycler\n",
    "import seaborn as sns\n",
    "\n",
    "# default viz size settings\n",
    "plt.rc('figure', figsize=(10, 7))\n",
    "plt.rc('font', size=14)\n",
    "mpl.rcParams['lines.linewidth'] = 2\n",
    "mpl.rcParams['lines.linestyle'] = '--'\n",
    "mpl.rcParams['axes.prop_cycle'] = cycler(color=['deepskyblue', 'firebrick', 'darkseagreen', 'violet'])\n",
    "\n",
    "import warnings\n",
    "warnings.filterwarnings(\"ignore\")"
   ]
  },
  {
   "cell_type": "code",
   "execution_count": 2,
   "metadata": {},
   "outputs": [],
   "source": [
    "from wrangle import acquire_data, join_dfs, drop_extra_cols\n",
    "from preprocessing import handle_dates_and_elims, train_validate_test"
   ]
  },
  {
   "cell_type": "markdown",
   "metadata": {},
   "source": [
    "## Wrangle the Data"
   ]
  },
  {
   "cell_type": "code",
   "execution_count": 3,
   "metadata": {},
   "outputs": [],
   "source": [
    "df, join = acquire_data()\n",
    "df = join_dfs(df, join)\n",
    "df = drop_extra_cols(df)"
   ]
  },
  {
   "cell_type": "code",
   "execution_count": 4,
   "metadata": {},
   "outputs": [
    {
     "data": {
      "text/html": [
       "<div>\n",
       "<style scoped>\n",
       "    .dataframe tbody tr th:only-of-type {\n",
       "        vertical-align: middle;\n",
       "    }\n",
       "\n",
       "    .dataframe tbody tr th {\n",
       "        vertical-align: top;\n",
       "    }\n",
       "\n",
       "    .dataframe thead th {\n",
       "        text-align: right;\n",
       "    }\n",
       "</style>\n",
       "<table border=\"1\" class=\"dataframe\">\n",
       "  <thead>\n",
       "    <tr style=\"text-align: right;\">\n",
       "      <th></th>\n",
       "      <th>Age</th>\n",
       "      <th>ElimWeek</th>\n",
       "      <th>DATES-2</th>\n",
       "      <th>DATES-3</th>\n",
       "      <th>DATES-4</th>\n",
       "      <th>DATES-5</th>\n",
       "      <th>DATES-6</th>\n",
       "      <th>DATES-7</th>\n",
       "      <th>DATES-8</th>\n",
       "      <th>DATES-9</th>\n",
       "      <th>DATES-10</th>\n",
       "    </tr>\n",
       "    <tr>\n",
       "      <th>CONTESTANT</th>\n",
       "      <th></th>\n",
       "      <th></th>\n",
       "      <th></th>\n",
       "      <th></th>\n",
       "      <th></th>\n",
       "      <th></th>\n",
       "      <th></th>\n",
       "      <th></th>\n",
       "      <th></th>\n",
       "      <th></th>\n",
       "      <th></th>\n",
       "    </tr>\n",
       "  </thead>\n",
       "  <tbody>\n",
       "    <tr>\n",
       "      <th>1_RYAN_S</th>\n",
       "      <td>29</td>\n",
       "      <td>NaN</td>\n",
       "      <td>D14</td>\n",
       "      <td>D1</td>\n",
       "      <td>D1</td>\n",
       "      <td>D1</td>\n",
       "      <td>D1</td>\n",
       "      <td>NaN</td>\n",
       "      <td>NaN</td>\n",
       "      <td>NaN</td>\n",
       "      <td>NaN</td>\n",
       "    </tr>\n",
       "    <tr>\n",
       "      <th>1_CHARLIE_M</th>\n",
       "      <td>28</td>\n",
       "      <td>6.0</td>\n",
       "      <td>D14</td>\n",
       "      <td>D1</td>\n",
       "      <td>D1</td>\n",
       "      <td>D1</td>\n",
       "      <td>D1</td>\n",
       "      <td>NaN</td>\n",
       "      <td>NaN</td>\n",
       "      <td>NaN</td>\n",
       "      <td>NaN</td>\n",
       "    </tr>\n",
       "    <tr>\n",
       "      <th>1_RUSS_X</th>\n",
       "      <td>30</td>\n",
       "      <td>5.0</td>\n",
       "      <td>D14</td>\n",
       "      <td>D1</td>\n",
       "      <td>D1</td>\n",
       "      <td>D1</td>\n",
       "      <td>NaN</td>\n",
       "      <td>NaN</td>\n",
       "      <td>NaN</td>\n",
       "      <td>NaN</td>\n",
       "      <td>NaN</td>\n",
       "    </tr>\n",
       "    <tr>\n",
       "      <th>1_GREG_T</th>\n",
       "      <td>28</td>\n",
       "      <td>4.0</td>\n",
       "      <td>D14</td>\n",
       "      <td>D5</td>\n",
       "      <td>D1</td>\n",
       "      <td>NaN</td>\n",
       "      <td>NaN</td>\n",
       "      <td>NaN</td>\n",
       "      <td>NaN</td>\n",
       "      <td>NaN</td>\n",
       "      <td>NaN</td>\n",
       "    </tr>\n",
       "    <tr>\n",
       "      <th>1_BOB_G</th>\n",
       "      <td>31</td>\n",
       "      <td>3.0</td>\n",
       "      <td>D14</td>\n",
       "      <td>D5</td>\n",
       "      <td>NaN</td>\n",
       "      <td>NaN</td>\n",
       "      <td>NaN</td>\n",
       "      <td>NaN</td>\n",
       "      <td>NaN</td>\n",
       "      <td>NaN</td>\n",
       "      <td>NaN</td>\n",
       "    </tr>\n",
       "  </tbody>\n",
       "</table>\n",
       "</div>"
      ],
      "text/plain": [
       "             Age  ElimWeek DATES-2 DATES-3 DATES-4 DATES-5 DATES-6 DATES-7  \\\n",
       "CONTESTANT                                                                   \n",
       "1_RYAN_S      29       NaN     D14      D1      D1      D1      D1     NaN   \n",
       "1_CHARLIE_M   28       6.0     D14      D1      D1      D1      D1     NaN   \n",
       "1_RUSS_X      30       5.0     D14      D1      D1      D1     NaN     NaN   \n",
       "1_GREG_T      28       4.0     D14      D5      D1     NaN     NaN     NaN   \n",
       "1_BOB_G       31       3.0     D14      D5     NaN     NaN     NaN     NaN   \n",
       "\n",
       "            DATES-8 DATES-9 DATES-10  \n",
       "CONTESTANT                            \n",
       "1_RYAN_S        NaN     NaN      NaN  \n",
       "1_CHARLIE_M     NaN     NaN      NaN  \n",
       "1_RUSS_X        NaN     NaN      NaN  \n",
       "1_GREG_T        NaN     NaN      NaN  \n",
       "1_BOB_G         NaN     NaN      NaN  "
      ]
     },
     "execution_count": 4,
     "metadata": {},
     "output_type": "execute_result"
    }
   ],
   "source": [
    "df.head()"
   ]
  },
  {
   "cell_type": "code",
   "execution_count": 5,
   "metadata": {},
   "outputs": [
    {
     "data": {
      "text/plain": [
       "Age           0\n",
       "ElimWeek      9\n",
       "DATES-2     109\n",
       "DATES-3     135\n",
       "DATES-4     159\n",
       "DATES-5     174\n",
       "DATES-6     198\n",
       "DATES-7     215\n",
       "DATES-8     232\n",
       "DATES-9     244\n",
       "DATES-10    253\n",
       "dtype: int64"
      ]
     },
     "execution_count": 5,
     "metadata": {},
     "output_type": "execute_result"
    }
   ],
   "source": [
    "df.isna().sum()"
   ]
  },
  {
   "cell_type": "markdown",
   "metadata": {},
   "source": [
    "## Preprocessing"
   ]
  },
  {
   "cell_type": "code",
   "execution_count": 6,
   "metadata": {},
   "outputs": [
    {
     "name": "stdout",
     "output_type": "stream",
     "text": [
      "Shape of train: (147, 3) | Shape of validate: (64, 3) | Shape of test: (53, 3)\n"
     ]
    }
   ],
   "source": [
    "df = handle_dates_and_elims(df)\n",
    "X_train, y_train, X_validate, y_validate, X_test, y_test = train_validate_test(df, 'ElimWeek')"
   ]
  },
  {
   "cell_type": "code",
   "execution_count": 7,
   "metadata": {},
   "outputs": [
    {
     "data": {
      "text/html": [
       "<div>\n",
       "<style scoped>\n",
       "    .dataframe tbody tr th:only-of-type {\n",
       "        vertical-align: middle;\n",
       "    }\n",
       "\n",
       "    .dataframe tbody tr th {\n",
       "        vertical-align: top;\n",
       "    }\n",
       "\n",
       "    .dataframe thead th {\n",
       "        text-align: right;\n",
       "    }\n",
       "</style>\n",
       "<table border=\"1\" class=\"dataframe\">\n",
       "  <thead>\n",
       "    <tr style=\"text-align: right;\">\n",
       "      <th></th>\n",
       "      <th>Age</th>\n",
       "      <th>One-on-One_Score</th>\n",
       "      <th>FirstDate</th>\n",
       "    </tr>\n",
       "    <tr>\n",
       "      <th>CONTESTANT</th>\n",
       "      <th></th>\n",
       "      <th></th>\n",
       "      <th></th>\n",
       "    </tr>\n",
       "  </thead>\n",
       "  <tbody>\n",
       "    <tr>\n",
       "      <th>2_RYAN_M</th>\n",
       "      <td>30</td>\n",
       "      <td>0.178571</td>\n",
       "      <td>1.0</td>\n",
       "    </tr>\n",
       "    <tr>\n",
       "      <th>5_ADAM_D</th>\n",
       "      <td>27</td>\n",
       "      <td>0.000000</td>\n",
       "      <td>0.0</td>\n",
       "    </tr>\n",
       "    <tr>\n",
       "      <th>4_GRAHAM_B</th>\n",
       "      <td>29</td>\n",
       "      <td>0.359524</td>\n",
       "      <td>1.0</td>\n",
       "    </tr>\n",
       "  </tbody>\n",
       "</table>\n",
       "</div>"
      ],
      "text/plain": [
       "            Age  One-on-One_Score  FirstDate\n",
       "CONTESTANT                                  \n",
       "2_RYAN_M     30          0.178571        1.0\n",
       "5_ADAM_D     27          0.000000        0.0\n",
       "4_GRAHAM_B   29          0.359524        1.0"
      ]
     },
     "execution_count": 7,
     "metadata": {},
     "output_type": "execute_result"
    }
   ],
   "source": [
    "X_train.head(3)"
   ]
  },
  {
   "cell_type": "code",
   "execution_count": 8,
   "metadata": {},
   "outputs": [
    {
     "data": {
      "text/plain": [
       "CONTESTANT\n",
       "2_RYAN_M      4.0\n",
       "5_ADAM_D      1.0\n",
       "4_GRAHAM_B    6.0\n",
       "Name: ElimWeek, dtype: float64"
      ]
     },
     "execution_count": 8,
     "metadata": {},
     "output_type": "execute_result"
    }
   ],
   "source": [
    "y_train.head(3)"
   ]
  },
  {
   "cell_type": "markdown",
   "metadata": {},
   "source": [
    "## Exploratory Data Analysis"
   ]
  },
  {
   "cell_type": "code",
   "execution_count": null,
   "metadata": {},
   "outputs": [],
   "source": []
  }
 ],
 "metadata": {
  "kernelspec": {
   "display_name": "Python 3",
   "language": "python",
   "name": "python3"
  },
  "language_info": {
   "codemirror_mode": {
    "name": "ipython",
    "version": 3
   },
   "file_extension": ".py",
   "mimetype": "text/x-python",
   "name": "python",
   "nbconvert_exporter": "python",
   "pygments_lexer": "ipython3",
   "version": "3.8.3"
  }
 },
 "nbformat": 4,
 "nbformat_minor": 4
}
